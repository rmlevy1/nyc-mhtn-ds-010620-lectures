{
 "cells": [
  {
   "cell_type": "code",
   "execution_count": 36,
   "metadata": {},
   "outputs": [],
   "source": [
    "A = [[ 1,   3, -4,   5, -2,  5,  1], \n",
    "    [  2,   0, -7,   6,  8,  8, 15],\n",
    "    [  4,   4, -2, -10,  7, -1,  7],\n",
    "    [ -1,   3,  1,   0, 11,  4, 21],\n",
    "    [ -7,   6, -4,  10,  5,  7,  6],\n",
    "    [ -5,   4,  3,  -5,  7,  8, 17],\n",
    "    [-11,   3,  4,  -8,  6, 16,  4]]"
   ]
  },
  {
   "cell_type": "code",
   "execution_count": 47,
   "metadata": {},
   "outputs": [
    {
     "data": {
      "text/plain": [
       "[[-11, 3, 4, -8, 6, 16, 4],\n",
       " [-5, 4, 3, -5, 7, 8, 17],\n",
       " [-7, 6, -4, 10, 5, 7, 6],\n",
       " [-1, 3, 1, 0, 11, 4, 21],\n",
       " [4, 4, -2, -10, 7, -1, 7],\n",
       " [2, 0, -7, 6, 8, 8, 15],\n",
       " [1, 3, -4, 5, -2, 5, 1]]"
      ]
     },
     "execution_count": 47,
     "metadata": {},
     "output_type": "execute_result"
    }
   ],
   "source": [
    "A[::-1]"
   ]
  },
  {
   "cell_type": "code",
   "execution_count": 40,
   "metadata": {},
   "outputs": [
    {
     "name": "stdout",
     "output_type": "stream",
     "text": [
      "3\n",
      "8\n"
     ]
    }
   ],
   "source": [
    "diag1 =[]\n",
    "diag1f =[]\n",
    "diag2 = []\n",
    "diag2f = []\n",
    "diag2ff = []\n",
    "for a in range(0,len(A)):\n",
    "    for b in range(0,len(A)):\n",
    "        if a == b:\n",
    "            diag1.append(A[a][b])\n",
    "for x in list(range(0,len(diag1))):\n",
    "    if x%2 != 0:\n",
    "        diag1f.append(diag1[x])\n",
    "print (round(sum(diag1f)/len(diag1f)))\n",
    "B = A[::-1]\n",
    "for a in range(0,len(B)):\n",
    "    for b in range(0,len(B)):\n",
    "        if a == b:\n",
    "            diag2.append(B[a][b])\n",
    "for x in list(range(0,len(diag2))):\n",
    "    if x%2 == 0:\n",
    "        diag2f.append(diag2[x])\n",
    "for x in diag2:\n",
    "    if x <0:\n",
    "        diag2ff.append(x)\n",
    "print (round(sum(diag2ff)/len(diag2ff))*-1)"
   ]
  },
  {
   "cell_type": "code",
   "execution_count": 41,
   "metadata": {},
   "outputs": [
    {
     "name": "stdout",
     "output_type": "stream",
     "text": [
      "[3, 8]\n"
     ]
    }
   ],
   "source": [
    "diag1 =[]\n",
    "diag1f =[]\n",
    "diag2 = []\n",
    "diag2f = []\n",
    "diag2ff = []\n",
    "for a in range(0,len(A)):\n",
    "    for b in range(0,len(A)):\n",
    "        if a == b:\n",
    "            diag1.append(A[a][b])\n",
    "for x in list(range(0,len(diag1))):\n",
    "    if x%2 != 0:\n",
    "        diag1f.append(diag1[x])\n",
    "\n",
    "B = A[::-1]\n",
    "for a in range(0,len(B)):\n",
    "    for b in range(0,len(B)):\n",
    "        if a == b:\n",
    "            diag2.append(B[a][b])\n",
    "for x in list(range(0,len(diag2))):\n",
    "    if x%2 == 0:\n",
    "        diag2f.append(diag2[x])\n",
    "for x in diag2:\n",
    "    if x <0:\n",
    "        diag2ff.append(x)\n",
    "answer = [(round(sum(diag1f)/len(diag1f))),(round(sum(diag2ff)/len(diag2ff))*-1)]\n",
    "return answer"
   ]
  },
  {
   "cell_type": "code",
   "execution_count": 33,
   "metadata": {
    "scrolled": true
   },
   "outputs": [
    {
     "data": {
      "text/plain": [
       "[[-11, 3, 4, -8, 6, 16, 4],\n",
       " [-5, 4, 3, -5, 7, 8, 17],\n",
       " [-7, 6, -4, 10, 5, 7, 6],\n",
       " [-1, 3, 1, 0, 11, 4, 21],\n",
       " [4, 4, -2, -10, 7, -1, 7],\n",
       " [2, 0, -7, 6, 8, 8, 15],\n",
       " [1, 3, -4, 5, -2, 5, 1]]"
      ]
     },
     "execution_count": 33,
     "metadata": {},
     "output_type": "execute_result"
    }
   ],
   "source": [
    "A[::-1]"
   ]
  },
  {
   "cell_type": "code",
   "execution_count": 50,
   "metadata": {},
   "outputs": [
    {
     "name": "stdout",
     "output_type": "stream",
     "text": [
      "1\n",
      "0\n",
      "-2\n",
      "0\n",
      "5\n",
      "8\n",
      "4\n"
     ]
    }
   ],
   "source": [
    "for a in range(0,len(A)):\n",
    "    print(A[a][a])"
   ]
  },
  {
   "cell_type": "code",
   "execution_count": 46,
   "metadata": {},
   "outputs": [
    {
     "data": {
      "text/plain": [
       "1"
      ]
     },
     "execution_count": 46,
     "metadata": {},
     "output_type": "execute_result"
    }
   ],
   "source": [
    "len(b)"
   ]
  },
  {
   "cell_type": "code",
   "execution_count": null,
   "metadata": {},
   "outputs": [],
   "source": []
  }
 ],
 "metadata": {
  "kernelspec": {
   "display_name": "Python 3",
   "language": "python",
   "name": "python3"
  },
  "language_info": {
   "codemirror_mode": {
    "name": "ipython",
    "version": 3
   },
   "file_extension": ".py",
   "mimetype": "text/x-python",
   "name": "python",
   "nbconvert_exporter": "python",
   "pygments_lexer": "ipython3",
   "version": "3.6.9"
  },
  "toc": {
   "base_numbering": 1,
   "nav_menu": {},
   "number_sections": true,
   "sideBar": true,
   "skip_h1_title": false,
   "title_cell": "Table of Contents",
   "title_sidebar": "Contents",
   "toc_cell": false,
   "toc_position": {},
   "toc_section_display": true,
   "toc_window_display": false
  }
 },
 "nbformat": 4,
 "nbformat_minor": 2
}
