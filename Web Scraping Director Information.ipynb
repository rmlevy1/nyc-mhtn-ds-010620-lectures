{
 "cells": [
  {
   "cell_type": "code",
   "execution_count": 1,
   "metadata": {},
   "outputs": [],
   "source": [
    "from bs4 import BeautifulSoup\n",
    "import requests\n",
    "import pandas as pd\n",
    "!pip install mysql-connector-python\n",
    "import mysql.connector \n",
    "from mysql.connector import errorcode"
   ]
  },
  {
   "cell_type": "code",
   "execution_count": 2,
   "metadata": {},
   "outputs": [],
   "source": [
    "def retrieve_directors(web_content):\n",
    "    directors = web_content.select('b a')\n",
    "    directors = [i.get_text() for i in directors]  # get_text() retrieves information inside the tags\n",
    "    directors = directors[:100]\n",
    "    return directors"
   ]
  },
  {
   "cell_type": "code",
   "execution_count": 3,
   "metadata": {},
   "outputs": [],
   "source": [
    "def domestic_BO(web_content):\n",
    "    dbo = web_content.find_all('td', align='right')\n",
    "    dbo = [td.text for td in dbo]\n",
    "    dbos =[]\n",
    "    for number in list(range(0,len(dbo))):\n",
    "        if number%3 == 0:\n",
    "            dbos.append(dbo[number])\n",
    "    dbos = [x[1:] for x in dbos]\n",
    "    dbos = [x.replace(',', '') for x in dbos]\n",
    "    dbos = [int(x) for x in dbos]\n",
    "    return dbos "
   ]
  },
  {
   "cell_type": "code",
   "execution_count": 4,
   "metadata": {},
   "outputs": [],
   "source": [
    "def movie_count(web_content):\n",
    "    mc = web_content.find_all('td', align='right')\n",
    "    mc = [td.text for td in mc]\n",
    "    mcs = []\n",
    "    for number in list(range(0,len(mc))):\n",
    "        if number%3 == 1:\n",
    "            mcs.append(mc[number])\n",
    "    mcs = [int(x) for x in mcs]\n",
    "    return mcs"
   ]
  },
  {
   "cell_type": "code",
   "execution_count": 5,
   "metadata": {},
   "outputs": [],
   "source": [
    "def average_BO(web_content):\n",
    "    abo = web_content.find_all('td', align='right')\n",
    "    abo = [td.text for td in abo]\n",
    "    abos =[]\n",
    "    for number in list(range(0,len(abo))):\n",
    "        if number%3 == 2:\n",
    "            abos.append(abo[number])\n",
    "    abos = [x[1:] for x in abos]\n",
    "    abos = [x.replace(',', '') for x in abos]\n",
    "    abos = [int(x) for x in abos]\n",
    "    return abos "
   ]
  },
  {
   "cell_type": "code",
   "execution_count": null,
   "metadata": {},
   "outputs": [],
   "source": [
    "director_name = []\n",
    "domestic_bo = []\n",
    "movie_counts = []\n",
    "average_bo = []\n",
    "\n",
    "\n",
    "for i in list(range(0,10)):\n",
    "    if i == 0: \n",
    "        url = 'https://www.the-numbers.com/box-office-star-records/domestic/lifetime-specific-technical-role/director'\n",
    "    else: \n",
    "        url = 'https://www.the-numbers.com/box-office-star-records/domestic/lifetime-specific-technical-role/director/{}01'.format(i)\n",
    "    html_page = requests.get(url)\n",
    "    web_content = BeautifulSoup(html_page.content, 'html.parser')\n",
    "    director_name += retrieve_directors(web_content)\n",
    "    domestic_bo += domestic_BO(web_content)\n",
    "    movie_counts += movie_count(web_content)\n",
    "    average_bo += average_BO(web_content)"
   ]
  },
  {
   "cell_type": "code",
   "execution_count": null,
   "metadata": {},
   "outputs": [],
   "source": [
    "df = pd.DataFrame([director_name, domestic_bo, movie_counts, average_bo]).transpose()\n",
    "df.columns = ['Director', 'Domestic Box Office', 'No. Movies', 'Average Box Office']\n",
    "print(df.shape)\n",
    "df\n",
    "for idx, name in enumerate(df['Director']):\n",
    "    df['Director'][idx] = df['Director'][idx].replace('\"', '')\n",
    "df.head(20)"
   ]
  },
  {
   "cell_type": "code",
   "execution_count": null,
   "metadata": {},
   "outputs": [],
   "source": [
    "cnx = mysql.connector.connect(\n",
    "    host = 'database-1.cupf7l8r9ow5.us-east-2.rds.amazonaws.com',\n",
    "    user = 'newuser',\n",
    "    passwd = 'Movie-Project!123',\n",
    "    database = 'Movies_DB'\n",
    ")\n",
    "print(cnx)\n",
    "\n",
    "cursor = cnx.cursor()"
   ]
  },
  {
   "cell_type": "code",
   "execution_count": null,
   "metadata": {},
   "outputs": [],
   "source": [
    "DB_NAME = 'Movies_DB'\n",
    "\n",
    "TABLES = {}\n",
    "TABLES['Dlist'] = (\"CREATE TABLE Dlist(\"\n",
    "                       \" id INTEGER PRIMARY KEY AUTO_INCREMENT,\"\n",
    "                       \" Director TEXT,\"\n",
    "                       \" DBO varchar(30),\"\n",
    "                       \" No_Movies INT,\"\n",
    "                       \" ABO INT\"\n",
    "                       \")ENGINE = InnoDB\")\n",
    "\n",
    "for table_name in TABLES:\n",
    "    table_description = TABLES[table_name]\n",
    "    try:\n",
    "        print(\"Creating table {}: \".format(table_name), end='')\n",
    "        cursor.execute(table_description) #inserts the information of the table to the database \n",
    "    except mysql.connector.Error as err:\n",
    "        if err.errno == errorcode.ER_TABLE_EXISTS_ERROR:\n",
    "            print(\"already exists.\")\n",
    "        else:\n",
    "            print(err.msg)\n",
    "    else:\n",
    "        print(\"OK\")\n",
    "\n",
    "cursor.close()\n",
    "cnx.close()"
   ]
  },
  {
   "cell_type": "code",
   "execution_count": null,
   "metadata": {},
   "outputs": [],
   "source": [
    "cnx = mysql.connector.connect(\n",
    "    host = 'database-1.cupf7l8r9ow5.us-east-2.rds.amazonaws.com',\n",
    "    user = 'newuser',\n",
    "    passwd = 'Movie-Project!123',\n",
    "    database = 'Movies_DB'\n",
    ")\n",
    "print(cnx)\n",
    "\n",
    "cursor = cnx.cursor()"
   ]
  },
  {
   "cell_type": "code",
   "execution_count": 10,
   "metadata": {
    "scrolled": true
   },
   "outputs": [
    {
     "name": "stdout",
     "output_type": "stream",
     "text": [
      "Creating table Dlist: OK\n"
     ]
    }
   ],
   "source": [
    "def insert_directors(df):\n",
    "    for idx, row in df.iterrows():\n",
    "        cursor.execute(\"\"\"\n",
    "                       INSERT INTO Movies_DB.Dlist(Director, DBO, No_Movies, ABO)\n",
    "                       VALUES (\"{}\", \"{}\", \"{}\", \"{}\")\n",
    "                       \"\"\".format(df.iloc[idx]['Director'], df.iloc[idx]['Domestic Box Office'], df.iloc[idx]['No. Movies'], df.iloc[idx]['Average Box Office']))\n",
    "    cnx.commit()\n",
    "insert_directors(df)"
   ]
  },
  {
   "cell_type": "code",
   "execution_count": null,
   "metadata": {
    "scrolled": false
   },
   "outputs": [],
   "source": []
  },
  {
   "cell_type": "code",
   "execution_count": null,
   "metadata": {},
   "outputs": [],
   "source": []
  },
  {
   "cell_type": "code",
   "execution_count": null,
   "metadata": {},
   "outputs": [],
   "source": []
  },
  {
   "cell_type": "code",
   "execution_count": null,
   "metadata": {},
   "outputs": [],
   "source": []
  },
  {
   "cell_type": "code",
   "execution_count": null,
   "metadata": {},
   "outputs": [],
   "source": []
  },
  {
   "cell_type": "code",
   "execution_count": null,
   "metadata": {},
   "outputs": [],
   "source": []
  }
 ],
 "metadata": {
  "kernelspec": {
   "display_name": "Python 3",
   "language": "python",
   "name": "python3"
  },
  "language_info": {
   "codemirror_mode": {
    "name": "ipython",
    "version": 3
   },
   "file_extension": ".py",
   "mimetype": "text/x-python",
   "name": "python",
   "nbconvert_exporter": "python",
   "pygments_lexer": "ipython3",
   "version": "3.6.9"
  }
 },
 "nbformat": 4,
 "nbformat_minor": 2
}
