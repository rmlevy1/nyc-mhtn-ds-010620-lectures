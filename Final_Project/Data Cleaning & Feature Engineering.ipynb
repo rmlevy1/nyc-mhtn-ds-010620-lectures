{
 "cells": [
  {
   "cell_type": "code",
   "execution_count": 1,
   "metadata": {},
   "outputs": [
    {
     "data": {
      "text/html": [
       "<style type=\"text/css\">\n",
       "table.dataframe td, table.dataframe th {\n",
       "    border: 1px  black solid !important;\n",
       "  color: black !important;\n",
       "}\n",
       "import pandas as pd\n"
      ],
      "text/plain": [
       "<IPython.core.display.HTML object>"
      ]
     },
     "metadata": {},
     "output_type": "display_data"
    }
   ],
   "source": [
    "%%HTML\n",
    "<style type=\"text/css\">\n",
    "table.dataframe td, table.dataframe th {\n",
    "    border: 1px  black solid !important;\n",
    "  color: black !important;\n",
    "}"
   ]
  },
  {
   "cell_type": "code",
   "execution_count": 405,
   "metadata": {},
   "outputs": [],
   "source": [
    "import pandas as pd\n",
    "import numpy as np\n",
    "import matplotlib.pyplot as plt\n",
    "%matplotlib inline\n",
    "import seaborn as sns\n",
    "from scraper import get_jobs"
   ]
  },
  {
   "cell_type": "code",
   "execution_count": null,
   "metadata": {},
   "outputs": [],
   "source": [
    "#Function using selenium scraper to scrape jobs from glassdoor\n",
    "path = \"/Users/flationschool/Course_Materials/nyc-mhtn-ds-010620-lectures/Final_Project/chromedriver\"\n",
    "\n",
    "df = get_jobs(2000, False, path, 15)\n",
    "df.drop_duplicates(inplace = True)\n",
    "df.to_csv('ds_glassdoor_jobs.csv', index = False)"
   ]
  },
  {
   "cell_type": "code",
   "execution_count": 4,
   "metadata": {},
   "outputs": [
    {
     "data": {
      "text/html": [
       "<div>\n",
       "<style scoped>\n",
       "    .dataframe tbody tr th:only-of-type {\n",
       "        vertical-align: middle;\n",
       "    }\n",
       "\n",
       "    .dataframe tbody tr th {\n",
       "        vertical-align: top;\n",
       "    }\n",
       "\n",
       "    .dataframe thead th {\n",
       "        text-align: right;\n",
       "    }\n",
       "</style>\n",
       "<table border=\"1\" class=\"dataframe\">\n",
       "  <thead>\n",
       "    <tr style=\"text-align: right;\">\n",
       "      <th></th>\n",
       "      <th>Job Title</th>\n",
       "      <th>Salary Estimate</th>\n",
       "      <th>Job Description</th>\n",
       "      <th>Rating</th>\n",
       "      <th>Company Name</th>\n",
       "      <th>Location</th>\n",
       "      <th>Headquarters</th>\n",
       "      <th>Size</th>\n",
       "      <th>Founded</th>\n",
       "      <th>Type of ownership</th>\n",
       "      <th>Industry</th>\n",
       "      <th>Sector</th>\n",
       "      <th>Revenue</th>\n",
       "      <th>Competitors</th>\n",
       "    </tr>\n",
       "  </thead>\n",
       "  <tbody>\n",
       "    <tr>\n",
       "      <td>0</td>\n",
       "      <td>Data Scientist</td>\n",
       "      <td>$108K-$145K (Glassdoor est.)</td>\n",
       "      <td>Secure our Nation, Ignite your Future\\n\\nSumma...</td>\n",
       "      <td>4.1</td>\n",
       "      <td>ManTech\\n4.1</td>\n",
       "      <td>Chantilly, VA</td>\n",
       "      <td>Herndon, VA</td>\n",
       "      <td>5001 to 10000 employees</td>\n",
       "      <td>1968</td>\n",
       "      <td>Company - Public</td>\n",
       "      <td>Research &amp; Development</td>\n",
       "      <td>Business Services</td>\n",
       "      <td>$1 to $2 billion (USD)</td>\n",
       "      <td>-1</td>\n",
       "    </tr>\n",
       "    <tr>\n",
       "      <td>1</td>\n",
       "      <td>Data Scientist</td>\n",
       "      <td>$108K-$145K (Glassdoor est.)</td>\n",
       "      <td>Who We Are\\n\\nWere Americas largest mortgage l...</td>\n",
       "      <td>3.9</td>\n",
       "      <td>Quicken Loans\\n3.9</td>\n",
       "      <td>Detroit, MI</td>\n",
       "      <td>Detroit, MI</td>\n",
       "      <td>10000+ employees</td>\n",
       "      <td>1985</td>\n",
       "      <td>Company - Private</td>\n",
       "      <td>Lending</td>\n",
       "      <td>Finance</td>\n",
       "      <td>$10+ billion (USD)</td>\n",
       "      <td>Citi, Bank of America, Wells Fargo</td>\n",
       "    </tr>\n",
       "    <tr>\n",
       "      <td>2</td>\n",
       "      <td>Data Scientist</td>\n",
       "      <td>$108K-$145K (Glassdoor est.)</td>\n",
       "      <td>GEICO’s Data Science team uses predictive anal...</td>\n",
       "      <td>3.3</td>\n",
       "      <td>GEICO\\n3.3</td>\n",
       "      <td>Chevy Chase, MD</td>\n",
       "      <td>Washington, DC</td>\n",
       "      <td>10000+ employees</td>\n",
       "      <td>1936</td>\n",
       "      <td>Subsidiary or Business Segment</td>\n",
       "      <td>Insurance Carriers</td>\n",
       "      <td>Insurance</td>\n",
       "      <td>$10+ billion (USD)</td>\n",
       "      <td>-1</td>\n",
       "    </tr>\n",
       "    <tr>\n",
       "      <td>3</td>\n",
       "      <td>Data Scientist</td>\n",
       "      <td>$108K-$145K (Glassdoor est.)</td>\n",
       "      <td>*Organization and Job ID**\\nJob ID: 310781\\n\\n...</td>\n",
       "      <td>3.8</td>\n",
       "      <td>Pacific Northwest National Laboratory\\n3.8</td>\n",
       "      <td>Richland, WA</td>\n",
       "      <td>Richland, WA</td>\n",
       "      <td>1001 to 5000 employees</td>\n",
       "      <td>1965</td>\n",
       "      <td>Government</td>\n",
       "      <td>Energy</td>\n",
       "      <td>Oil, Gas, Energy &amp; Utilities</td>\n",
       "      <td>$500 million to $1 billion (USD)</td>\n",
       "      <td>Oak Ridge National Laboratory, National Renewa...</td>\n",
       "    </tr>\n",
       "    <tr>\n",
       "      <td>4</td>\n",
       "      <td>Data Scientist</td>\n",
       "      <td>$108K-$145K (Glassdoor est.)</td>\n",
       "      <td>JOB CATEGORY:\\n\\nInformation Services\\n\\nREQUI...</td>\n",
       "      <td>3.9</td>\n",
       "      <td>Mars\\n3.9</td>\n",
       "      <td>New York State</td>\n",
       "      <td>Mc Lean, VA</td>\n",
       "      <td>10000+ employees</td>\n",
       "      <td>1911</td>\n",
       "      <td>Company - Private</td>\n",
       "      <td>Food &amp; Beverage Manufacturing</td>\n",
       "      <td>Manufacturing</td>\n",
       "      <td>$10+ billion (USD)</td>\n",
       "      <td>-1</td>\n",
       "    </tr>\n",
       "  </tbody>\n",
       "</table>\n",
       "</div>"
      ],
      "text/plain": [
       "        Job Title               Salary Estimate  \\\n",
       "0  Data Scientist  $108K-$145K (Glassdoor est.)   \n",
       "1  Data Scientist  $108K-$145K (Glassdoor est.)   \n",
       "2  Data Scientist  $108K-$145K (Glassdoor est.)   \n",
       "3  Data Scientist  $108K-$145K (Glassdoor est.)   \n",
       "4  Data Scientist  $108K-$145K (Glassdoor est.)   \n",
       "\n",
       "                                     Job Description  Rating  \\\n",
       "0  Secure our Nation, Ignite your Future\\n\\nSumma...     4.1   \n",
       "1  Who We Are\\n\\nWere Americas largest mortgage l...     3.9   \n",
       "2  GEICO’s Data Science team uses predictive anal...     3.3   \n",
       "3  *Organization and Job ID**\\nJob ID: 310781\\n\\n...     3.8   \n",
       "4  JOB CATEGORY:\\n\\nInformation Services\\n\\nREQUI...     3.9   \n",
       "\n",
       "                                 Company Name         Location  \\\n",
       "0                                ManTech\\n4.1    Chantilly, VA   \n",
       "1                          Quicken Loans\\n3.9      Detroit, MI   \n",
       "2                                  GEICO\\n3.3  Chevy Chase, MD   \n",
       "3  Pacific Northwest National Laboratory\\n3.8     Richland, WA   \n",
       "4                                   Mars\\n3.9   New York State   \n",
       "\n",
       "     Headquarters                     Size  Founded  \\\n",
       "0     Herndon, VA  5001 to 10000 employees     1968   \n",
       "1     Detroit, MI         10000+ employees     1985   \n",
       "2  Washington, DC         10000+ employees     1936   \n",
       "3    Richland, WA   1001 to 5000 employees     1965   \n",
       "4     Mc Lean, VA         10000+ employees     1911   \n",
       "\n",
       "                Type of ownership                       Industry  \\\n",
       "0                Company - Public         Research & Development   \n",
       "1               Company - Private                        Lending   \n",
       "2  Subsidiary or Business Segment             Insurance Carriers   \n",
       "3                      Government                         Energy   \n",
       "4               Company - Private  Food & Beverage Manufacturing   \n",
       "\n",
       "                         Sector                           Revenue  \\\n",
       "0             Business Services            $1 to $2 billion (USD)   \n",
       "1                       Finance                $10+ billion (USD)   \n",
       "2                     Insurance                $10+ billion (USD)   \n",
       "3  Oil, Gas, Energy & Utilities  $500 million to $1 billion (USD)   \n",
       "4                 Manufacturing                $10+ billion (USD)   \n",
       "\n",
       "                                         Competitors  \n",
       "0                                                 -1  \n",
       "1                 Citi, Bank of America, Wells Fargo  \n",
       "2                                                 -1  \n",
       "3  Oak Ridge National Laboratory, National Renewa...  \n",
       "4                                                 -1  "
      ]
     },
     "execution_count": 4,
     "metadata": {},
     "output_type": "execute_result"
    }
   ],
   "source": [
    "df = pd.read_csv('ds_glassdoor_jobs.csv')\n",
    "df.head()"
   ]
  },
  {
   "cell_type": "markdown",
   "metadata": {},
   "source": [
    "### Data Cleaning + Feature Engineering"
   ]
  },
  {
   "cell_type": "markdown",
   "metadata": {},
   "source": [
    "#### Cleaning The Salary Estimate Feature"
   ]
  },
  {
   "cell_type": "code",
   "execution_count": 20,
   "metadata": {
    "scrolled": true
   },
   "outputs": [
    {
     "data": {
      "text/plain": [
       "-1                              133\n",
       "$60K-$100K (Glassdoor est.)      35\n",
       "$69K-$113K (Glassdoor est.)      34\n",
       "$108K-$145K (Glassdoor est.)     30\n",
       "$67K-$109K (Glassdoor est.)      25\n",
       "                               ... \n",
       "$62K-$114K (Glassdoor est.)       1\n",
       "$63K-$99K (Glassdoor est.)        1\n",
       "$65K-$124K (Glassdoor est.)       1\n",
       "$66K-$117K (Glassdoor est.)       1\n",
       "$108K-$146K (Glassdoor est.)      1\n",
       "Name: Salary Estimate, Length: 502, dtype: int64"
      ]
     },
     "execution_count": 20,
     "metadata": {},
     "output_type": "execute_result"
    }
   ],
   "source": [
    "df['Salary Estimate'].value_counts()"
   ]
  },
  {
   "cell_type": "markdown",
   "metadata": {},
   "source": [
    "##### Dropping rows where the salary estimate in null"
   ]
  },
  {
   "cell_type": "code",
   "execution_count": 27,
   "metadata": {},
   "outputs": [],
   "source": [
    "df = df[df['Salary Estimate'] != '-1']"
   ]
  },
  {
   "cell_type": "markdown",
   "metadata": {},
   "source": [
    "##### Creating Feature for average salary, which is the Target Variable"
   ]
  },
  {
   "cell_type": "markdown",
   "metadata": {},
   "source": [
    "Isolated the min expected yearly salary and max expected salary added the values up and divided by 2"
   ]
  },
  {
   "cell_type": "code",
   "execution_count": null,
   "metadata": {},
   "outputs": [],
   "source": [
    "df['Salary Estimate'] = [x[:10] for x in df['Salary Estimate']]\n",
    "df['Salary Estimate'] = [x.replace('$', '') for x in df['Salary Estimate']]\n",
    "df['Salary Estimate'] = [x.replace('K', '') for x in df['Salary Estimate']]\n",
    "df['Salary Estimate'] = [x.replace('-', '') for x in df['Salary Estimate']]"
   ]
  },
  {
   "cell_type": "code",
   "execution_count": null,
   "metadata": {},
   "outputs": [],
   "source": [
    "df['min_salary'] = [int(x[:2]) if len(x) < 6 else int(x[:3]) for x in df['Salary Estimate']]"
   ]
  },
  {
   "cell_type": "code",
   "execution_count": null,
   "metadata": {},
   "outputs": [],
   "source": [
    "df['max_salary'] = [int(x[2:]) if len(x) < 6 else int(x[3:]) for x in df['Salary Estimate']]"
   ]
  },
  {
   "cell_type": "code",
   "execution_count": null,
   "metadata": {},
   "outputs": [],
   "source": [
    "df['avg_salary'] = (df.min_salary+df.max_salary)/2"
   ]
  },
  {
   "cell_type": "code",
   "execution_count": 214,
   "metadata": {},
   "outputs": [
    {
     "data": {
      "text/html": [
       "<div>\n",
       "<style scoped>\n",
       "    .dataframe tbody tr th:only-of-type {\n",
       "        vertical-align: middle;\n",
       "    }\n",
       "\n",
       "    .dataframe tbody tr th {\n",
       "        vertical-align: top;\n",
       "    }\n",
       "\n",
       "    .dataframe thead th {\n",
       "        text-align: right;\n",
       "    }\n",
       "</style>\n",
       "<table border=\"1\" class=\"dataframe\">\n",
       "  <thead>\n",
       "    <tr style=\"text-align: right;\">\n",
       "      <th></th>\n",
       "      <th>Job Title</th>\n",
       "      <th>Salary Estimate</th>\n",
       "      <th>Job Description</th>\n",
       "      <th>Rating</th>\n",
       "      <th>Company Name</th>\n",
       "      <th>Location</th>\n",
       "      <th>Headquarters</th>\n",
       "      <th>Size</th>\n",
       "      <th>Founded</th>\n",
       "      <th>Type of ownership</th>\n",
       "      <th>Industry</th>\n",
       "      <th>Sector</th>\n",
       "      <th>Revenue</th>\n",
       "      <th>Competitors</th>\n",
       "      <th>min_salary</th>\n",
       "      <th>max_salary</th>\n",
       "      <th>avg_salary</th>\n",
       "    </tr>\n",
       "  </thead>\n",
       "  <tbody>\n",
       "    <tr>\n",
       "      <td>0</td>\n",
       "      <td>Data Scientist</td>\n",
       "      <td>108145</td>\n",
       "      <td>Secure our Nation, Ignite your Future\\n\\nSumma...</td>\n",
       "      <td>4.1</td>\n",
       "      <td>ManTech\\n4.1</td>\n",
       "      <td>Chantilly, VA</td>\n",
       "      <td>Herndon, VA</td>\n",
       "      <td>5001 to 10000 employees</td>\n",
       "      <td>1968</td>\n",
       "      <td>Company - Public</td>\n",
       "      <td>Research &amp; Development</td>\n",
       "      <td>Business Services</td>\n",
       "      <td>$1 to $2 billion (USD)</td>\n",
       "      <td>-1</td>\n",
       "      <td>108</td>\n",
       "      <td>145</td>\n",
       "      <td>126.5</td>\n",
       "    </tr>\n",
       "    <tr>\n",
       "      <td>1</td>\n",
       "      <td>Data Scientist</td>\n",
       "      <td>108145</td>\n",
       "      <td>Who We Are\\n\\nWere Americas largest mortgage l...</td>\n",
       "      <td>3.9</td>\n",
       "      <td>Quicken Loans\\n3.9</td>\n",
       "      <td>Detroit, MI</td>\n",
       "      <td>Detroit, MI</td>\n",
       "      <td>10000+ employees</td>\n",
       "      <td>1985</td>\n",
       "      <td>Company - Private</td>\n",
       "      <td>Lending</td>\n",
       "      <td>Finance</td>\n",
       "      <td>$10+ billion (USD)</td>\n",
       "      <td>Citi, Bank of America, Wells Fargo</td>\n",
       "      <td>108</td>\n",
       "      <td>145</td>\n",
       "      <td>126.5</td>\n",
       "    </tr>\n",
       "    <tr>\n",
       "      <td>2</td>\n",
       "      <td>Data Scientist</td>\n",
       "      <td>108145</td>\n",
       "      <td>GEICO’s Data Science team uses predictive anal...</td>\n",
       "      <td>3.3</td>\n",
       "      <td>GEICO\\n3.3</td>\n",
       "      <td>Chevy Chase, MD</td>\n",
       "      <td>Washington, DC</td>\n",
       "      <td>10000+ employees</td>\n",
       "      <td>1936</td>\n",
       "      <td>Subsidiary or Business Segment</td>\n",
       "      <td>Insurance Carriers</td>\n",
       "      <td>Insurance</td>\n",
       "      <td>$10+ billion (USD)</td>\n",
       "      <td>-1</td>\n",
       "      <td>108</td>\n",
       "      <td>145</td>\n",
       "      <td>126.5</td>\n",
       "    </tr>\n",
       "    <tr>\n",
       "      <td>3</td>\n",
       "      <td>Data Scientist</td>\n",
       "      <td>108145</td>\n",
       "      <td>*Organization and Job ID**\\nJob ID: 310781\\n\\n...</td>\n",
       "      <td>3.8</td>\n",
       "      <td>Pacific Northwest National Laboratory\\n3.8</td>\n",
       "      <td>Richland, WA</td>\n",
       "      <td>Richland, WA</td>\n",
       "      <td>1001 to 5000 employees</td>\n",
       "      <td>1965</td>\n",
       "      <td>Government</td>\n",
       "      <td>Energy</td>\n",
       "      <td>Oil, Gas, Energy &amp; Utilities</td>\n",
       "      <td>$500 million to $1 billion (USD)</td>\n",
       "      <td>Oak Ridge National Laboratory, National Renewa...</td>\n",
       "      <td>108</td>\n",
       "      <td>145</td>\n",
       "      <td>126.5</td>\n",
       "    </tr>\n",
       "    <tr>\n",
       "      <td>4</td>\n",
       "      <td>Data Scientist</td>\n",
       "      <td>108145</td>\n",
       "      <td>JOB CATEGORY:\\n\\nInformation Services\\n\\nREQUI...</td>\n",
       "      <td>3.9</td>\n",
       "      <td>Mars\\n3.9</td>\n",
       "      <td>New York State</td>\n",
       "      <td>Mc Lean, VA</td>\n",
       "      <td>10000+ employees</td>\n",
       "      <td>1911</td>\n",
       "      <td>Company - Private</td>\n",
       "      <td>Food &amp; Beverage Manufacturing</td>\n",
       "      <td>Manufacturing</td>\n",
       "      <td>$10+ billion (USD)</td>\n",
       "      <td>-1</td>\n",
       "      <td>108</td>\n",
       "      <td>145</td>\n",
       "      <td>126.5</td>\n",
       "    </tr>\n",
       "  </tbody>\n",
       "</table>\n",
       "</div>"
      ],
      "text/plain": [
       "        Job Title Salary Estimate  \\\n",
       "0  Data Scientist          108145   \n",
       "1  Data Scientist          108145   \n",
       "2  Data Scientist          108145   \n",
       "3  Data Scientist          108145   \n",
       "4  Data Scientist          108145   \n",
       "\n",
       "                                     Job Description  Rating  \\\n",
       "0  Secure our Nation, Ignite your Future\\n\\nSumma...     4.1   \n",
       "1  Who We Are\\n\\nWere Americas largest mortgage l...     3.9   \n",
       "2  GEICO’s Data Science team uses predictive anal...     3.3   \n",
       "3  *Organization and Job ID**\\nJob ID: 310781\\n\\n...     3.8   \n",
       "4  JOB CATEGORY:\\n\\nInformation Services\\n\\nREQUI...     3.9   \n",
       "\n",
       "                                 Company Name         Location  \\\n",
       "0                                ManTech\\n4.1    Chantilly, VA   \n",
       "1                          Quicken Loans\\n3.9      Detroit, MI   \n",
       "2                                  GEICO\\n3.3  Chevy Chase, MD   \n",
       "3  Pacific Northwest National Laboratory\\n3.8     Richland, WA   \n",
       "4                                   Mars\\n3.9   New York State   \n",
       "\n",
       "     Headquarters                     Size  Founded  \\\n",
       "0     Herndon, VA  5001 to 10000 employees     1968   \n",
       "1     Detroit, MI         10000+ employees     1985   \n",
       "2  Washington, DC         10000+ employees     1936   \n",
       "3    Richland, WA   1001 to 5000 employees     1965   \n",
       "4     Mc Lean, VA         10000+ employees     1911   \n",
       "\n",
       "                Type of ownership                       Industry  \\\n",
       "0                Company - Public         Research & Development   \n",
       "1               Company - Private                        Lending   \n",
       "2  Subsidiary or Business Segment             Insurance Carriers   \n",
       "3                      Government                         Energy   \n",
       "4               Company - Private  Food & Beverage Manufacturing   \n",
       "\n",
       "                         Sector                           Revenue  \\\n",
       "0             Business Services            $1 to $2 billion (USD)   \n",
       "1                       Finance                $10+ billion (USD)   \n",
       "2                     Insurance                $10+ billion (USD)   \n",
       "3  Oil, Gas, Energy & Utilities  $500 million to $1 billion (USD)   \n",
       "4                 Manufacturing                $10+ billion (USD)   \n",
       "\n",
       "                                         Competitors  min_salary  max_salary  \\\n",
       "0                                                 -1         108         145   \n",
       "1                 Citi, Bank of America, Wells Fargo         108         145   \n",
       "2                                                 -1         108         145   \n",
       "3  Oak Ridge National Laboratory, National Renewa...         108         145   \n",
       "4                                                 -1         108         145   \n",
       "\n",
       "   avg_salary  \n",
       "0       126.5  \n",
       "1       126.5  \n",
       "2       126.5  \n",
       "3       126.5  \n",
       "4       126.5  "
      ]
     },
     "execution_count": 214,
     "metadata": {},
     "output_type": "execute_result"
    }
   ],
   "source": [
    "df.head()"
   ]
  },
  {
   "cell_type": "markdown",
   "metadata": {},
   "source": [
    "##### Cleaning Company Name"
   ]
  },
  {
   "cell_type": "code",
   "execution_count": null,
   "metadata": {},
   "outputs": [],
   "source": [
    "df['CompName'] = [x if x in df['Rating'] < 0 else x[:-4] for x in df['Company Name']]"
   ]
  },
  {
   "cell_type": "markdown",
   "metadata": {},
   "source": [
    "##### Feature Engingeering State Job Location "
   ]
  },
  {
   "cell_type": "markdown",
   "metadata": {},
   "source": [
    "Feature created to check impact of job location on salary"
   ]
  },
  {
   "cell_type": "code",
   "execution_count": null,
   "metadata": {},
   "outputs": [],
   "source": [
    "df['State'] = [x[-2:] for x in df.Location]"
   ]
  },
  {
   "cell_type": "code",
   "execution_count": 333,
   "metadata": {
    "scrolled": true
   },
   "outputs": [
    {
     "data": {
      "text/plain": [
       "array(['VA', 'MI', 'MD', 'WA', 'NY', 'WI', 'MA', 'CO', 'FL', 'DC', 'PA',\n",
       "       'NE', 'CA', 'MO', 'AL', 'UT', 'WV', 'IL', 'MN', 'TN', 'NC', 'NJ',\n",
       "       'TX', 'te', 'OK', 'OH', 'NM', 'KY', 'OR', 'CT', 'GA', 'IN', 'LA',\n",
       "       'AZ', 'ID', 'RI', 'IA', 'SC', 'KS', 'AK', 'VT', 'ME', 'ND'],\n",
       "      dtype=object)"
      ]
     },
     "execution_count": 333,
     "metadata": {},
     "output_type": "execute_result"
    }
   ],
   "source": [
    "df.State.unique() #te is for Remote"
   ]
  },
  {
   "cell_type": "markdown",
   "metadata": {},
   "source": [
    "##### Feature Engineering if headquarters and job location same place"
   ]
  },
  {
   "cell_type": "markdown",
   "metadata": {},
   "source": [
    "Feature created to check impact of job being located in hq or not on salary"
   ]
  },
  {
   "cell_type": "code",
   "execution_count": null,
   "metadata": {},
   "outputs": [],
   "source": [
    "df['Same_State'] = np.where(df['Location'] == df['Headquarters'] , 1, 0)"
   ]
  },
  {
   "cell_type": "markdown",
   "metadata": {},
   "source": [
    "##### Feature Engineering to see if difference in pay between internationol companies and non-international companies"
   ]
  },
  {
   "cell_type": "code",
   "execution_count": null,
   "metadata": {},
   "outputs": [],
   "source": [
    "Foreign_Countries = ['Japan', 'Canada','Switzerland','Belgium','Germany', 'China','United Kingdom','Bermuda','Spain','India','France','Singapore','South Korea']"
   ]
  },
  {
   "cell_type": "code",
   "execution_count": null,
   "metadata": {},
   "outputs": [],
   "source": [
    "df['HQ_Country/State'] = [x.split(', ')[1] for x in df.Headquarters]\n",
    "df['International_HQ'] = [1 if x in Foreign_Countries else 0 for x in df['HQ_Country/State']]"
   ]
  },
  {
   "cell_type": "markdown",
   "metadata": {},
   "source": [
    "##### Feature Engineering Company Age"
   ]
  },
  {
   "cell_type": "markdown",
   "metadata": {},
   "source": [
    "Feature created to check impact of company age on salary"
   ]
  },
  {
   "cell_type": "code",
   "execution_count": null,
   "metadata": {},
   "outputs": [],
   "source": [
    "df['Comp_Age'] = np.where(df['Founded'] >= 0 , 2020 - df['Founded'] , -1)"
   ]
  },
  {
   "cell_type": "markdown",
   "metadata": {},
   "source": [
    "##### Feature Engineering Job Title column"
   ]
  },
  {
   "cell_type": "markdown",
   "metadata": {},
   "source": [
    "Feature created to check impact of job title on salary"
   ]
  },
  {
   "cell_type": "code",
   "execution_count": 368,
   "metadata": {},
   "outputs": [],
   "source": [
    "def job_title(title):\n",
    "    if 'data scientist' in title.lower() or 'data science' in title.lower():\n",
    "        return 'data scientist'\n",
    "    elif 'data engineer' in title.lower():\n",
    "        return 'data engineer'\n",
    "    elif 'analyst' in title.lower():\n",
    "        return 'data analyst'\n",
    "    elif 'machine learning engineer' in title.lower() or 'machine learning' in title.lower():\n",
    "        return 'mle'\n",
    "    else:\n",
    "        return 'na'"
   ]
  },
  {
   "cell_type": "code",
   "execution_count": null,
   "metadata": {},
   "outputs": [],
   "source": [
    "df['job_title'] = df['Job Title'].apply(job_title)"
   ]
  },
  {
   "cell_type": "code",
   "execution_count": 1044,
   "metadata": {
    "scrolled": true
   },
   "outputs": [
    {
     "data": {
      "text/plain": [
       "data scientist    386\n",
       "data analyst      251\n",
       "data engineer     188\n",
       "mle               107\n",
       "na                 49\n",
       "Name: job_title, dtype: int64"
      ]
     },
     "execution_count": 1044,
     "metadata": {},
     "output_type": "execute_result"
    }
   ],
   "source": [
    "df['job_title'].value_counts()"
   ]
  },
  {
   "cell_type": "markdown",
   "metadata": {},
   "source": [
    "###### Hard coded missing job title values; went through description one by one to determine job title"
   ]
  },
  {
   "cell_type": "code",
   "execution_count": 953,
   "metadata": {},
   "outputs": [],
   "source": [
    "df.loc[103, 'job_title'] = 'data engineer'"
   ]
  },
  {
   "cell_type": "code",
   "execution_count": 1040,
   "metadata": {},
   "outputs": [],
   "source": [
    "df.loc[561, 'job_title'] = 'data scientist'"
   ]
  },
  {
   "cell_type": "code",
   "execution_count": 1031,
   "metadata": {},
   "outputs": [],
   "source": [
    "df.loc[510, 'job_title'] = 'data analyst'"
   ]
  },
  {
   "cell_type": "markdown",
   "metadata": {},
   "source": [
    "##### Feature Engineered Seniority Column"
   ]
  },
  {
   "cell_type": "markdown",
   "metadata": {},
   "source": [
    "Feature created to check impact of years of experience on salary"
   ]
  },
  {
   "cell_type": "code",
   "execution_count": null,
   "metadata": {},
   "outputs": [],
   "source": [
    "def seniority(desc):\n",
    "    if '0' in desc.lower() or '1' in desc.lower() or '2' in desc.lower():\n",
    "        return '0-2 Yrs Experience'\n",
    "    elif '2' in desc.lower() or '3' in desc.lower() or '4' in desc.lower() or '5' in desc.lower():\n",
    "        return '2-5 Yrs Experience'\n",
    "    else:\n",
    "        return '5+ Yrs Experience'"
   ]
  },
  {
   "cell_type": "code",
   "execution_count": null,
   "metadata": {},
   "outputs": [],
   "source": [
    "df['Seniority'] = df['Job Title'].apply(seniority)"
   ]
  },
  {
   "cell_type": "markdown",
   "metadata": {},
   "source": [
    "Had to manually check how accurate this feature came out, by checking each description manually, and if didn't match hard coded "
   ]
  },
  {
   "cell_type": "code",
   "execution_count": null,
   "metadata": {},
   "outputs": [],
   "source": [
    "df.loc[459, 'Seniority'] = '0-2 Yrs Experience'"
   ]
  },
  {
   "cell_type": "code",
   "execution_count": null,
   "metadata": {},
   "outputs": [],
   "source": [
    "df.loc[49, 'Seniority'] = '2-5 Yrs Experience'"
   ]
  },
  {
   "cell_type": "code",
   "execution_count": null,
   "metadata": {},
   "outputs": [],
   "source": [
    "df.loc[600, 'Seniority'] = '5+ Yrs Experience'"
   ]
  },
  {
   "cell_type": "markdown",
   "metadata": {},
   "source": [
    "##### Feature engineering column for length of Job Description "
   ]
  },
  {
   "cell_type": "markdown",
   "metadata": {},
   "source": [
    "Feature created to check impact of length of job description on salary"
   ]
  },
  {
   "cell_type": "code",
   "execution_count": 384,
   "metadata": {},
   "outputs": [],
   "source": [
    "df['job_desrcipt_lc'] = [len(x) for x in df['Job Description']]"
   ]
  },
  {
   "cell_type": "markdown",
   "metadata": {},
   "source": [
    "##### Cleaned Revenue Column - Hard Coded missing values, Used Owler as a resource for missing values"
   ]
  },
  {
   "cell_type": "code",
   "execution_count": 1059,
   "metadata": {
    "scrolled": false
   },
   "outputs": [
    {
     "data": {
      "text/plain": [
       "Unknown / Non-Applicable            299\n",
       "$100 to $500 million (USD)          125\n",
       "$10+ billion (USD)                  103\n",
       "$1 to $2 billion (USD)               72\n",
       "$10 to $25 million (USD)             62\n",
       "$500 million to $1 billion (USD)     61\n",
       "$50 to $100 million (USD)            60\n",
       "$2 to $5 billion (USD)               55\n",
       "$25 to $50 million (USD)             52\n",
       "$1 to $5 million (USD)               30\n",
       "$5 to $10 billion (USD)              25\n",
       "$5 to $10 million (USD)              19\n",
       "Less than $1 million (USD)           12\n",
       "-1                                    6\n",
       "Name: Revenue, dtype: int64"
      ]
     },
     "execution_count": 1059,
     "metadata": {},
     "output_type": "execute_result"
    }
   ],
   "source": [
    "df.Revenue.value_counts()"
   ]
  },
  {
   "cell_type": "code",
   "execution_count": null,
   "metadata": {},
   "outputs": [],
   "source": [
    "df.loc[566, 'Revenue'] = 'StartUp'"
   ]
  },
  {
   "cell_type": "code",
   "execution_count": null,
   "metadata": {},
   "outputs": [],
   "source": [
    "df.loc[437, 'Revenue'] = '$500 million to $1 billion (USD)'"
   ]
  },
  {
   "cell_type": "code",
   "execution_count": null,
   "metadata": {},
   "outputs": [],
   "source": [
    "df.loc[683, 'Revenue'] = '10+ billion (USD)'"
   ]
  },
  {
   "cell_type": "markdown",
   "metadata": {},
   "source": [
    "##### Feature Engineering Degrees"
   ]
  },
  {
   "cell_type": "markdown",
   "metadata": {},
   "source": [
    "Feature created to check impact of employee degree held on salary"
   ]
  },
  {
   "cell_type": "markdown",
   "metadata": {},
   "source": [
    "###### Bachelor's Degree"
   ]
  },
  {
   "cell_type": "code",
   "execution_count": null,
   "metadata": {},
   "outputs": [],
   "source": [
    "def bachelor(desc):\n",
    "    if 'bachelor' in desc.lower() or 'bachelors' in desc.lower() or \"bachelor's\" in desc.lower() \\\n",
    "    or 'BA' in desc or 'BS' in desc:\n",
    "        return 1\n",
    "    else:\n",
    "        return 0"
   ]
  },
  {
   "cell_type": "code",
   "execution_count": null,
   "metadata": {},
   "outputs": [],
   "source": [
    "df['Bachelor'] = df['Job Description'].apply(bachelor)"
   ]
  },
  {
   "cell_type": "markdown",
   "metadata": {},
   "source": [
    "###### Master's Degree"
   ]
  },
  {
   "cell_type": "code",
   "execution_count": null,
   "metadata": {},
   "outputs": [],
   "source": [
    "def master(desc):\n",
    "    if 'master' in desc.lower() or 'masters' in desc.lower() or \"master's\" in desc.lower() \\\n",
    "    or 'MA' in desc or 'MS' in desc or 'M.A.' in desc or 'A.M.' is desc or 'msc' in desc.lower() \\\n",
    "    or 'm.s.' in desc.lower() or 's.m.' in desc.lower():\n",
    "        return 1\n",
    "    else:\n",
    "        return 0"
   ]
  },
  {
   "cell_type": "code",
   "execution_count": null,
   "metadata": {},
   "outputs": [],
   "source": [
    "df['Master'] = df['Job Description'].apply(master)"
   ]
  },
  {
   "cell_type": "markdown",
   "metadata": {},
   "source": [
    "###### PhD"
   ]
  },
  {
   "cell_type": "code",
   "execution_count": null,
   "metadata": {},
   "outputs": [],
   "source": [
    "def phd(desc):\n",
    "    if 'phd' in desc.lower() or 'PhD' in desc.lower() or 'ph.d' in desc.lower() or 'doctor' in desc.lower() \\\n",
    "    or 'doctorate' in desc.lower():\n",
    "        return 1\n",
    "    else:\n",
    "        return 0"
   ]
  },
  {
   "cell_type": "code",
   "execution_count": null,
   "metadata": {},
   "outputs": [],
   "source": [
    "df['PhD'] = df['Job Description'].apply(phd)"
   ]
  },
  {
   "cell_type": "markdown",
   "metadata": {},
   "source": [
    "##### Feature Engineering Certain Skills"
   ]
  },
  {
   "cell_type": "markdown",
   "metadata": {},
   "source": [
    "Feature created to check impact of possesion of certain technical skills on salary. Technical skills were chosen from personal domain knowledge and the following articles - https://towardsdatascience.com/most-in-demand-tech-skills-for-data-engineers-58f4c1ca25ab; https://towardsdatascience.com/most-in-demand-tech-skills-for-data-analysts-26d4ea4450f8; https://towardsdatascience.com/the-most-in-demand-tech-skills-for-data-scientists-d716d10c191d"
   ]
  },
  {
   "cell_type": "code",
   "execution_count": null,
   "metadata": {},
   "outputs": [],
   "source": [
    "df['Python'] = [1 if 'python' in x.lower() else 0 for x in df['Job Description']]\n",
    "df['Sql'] = [1 if 'sql' in x.lower() else 0 for x in df['Job Description']]\n",
    "df['Aws'] = [1 if 'aws' in x.lower() else 0 for x in df['Job Description']]\n",
    "df['Azure'] = [1 if 'azure' in x.lower() else 0 for x in df['Job Description']]\n",
    "df['Scala'] = [1 if 'scala' in x.lower() else 0 for x in df['Job Description']]\n",
    "df['Java'] = [1 if 'java' in x.lower() else 0 for x in df['Job Description']]\n",
    "df['Pyspark'] = [1 if 'pyspark' in x.lower() else 0 for x in df['Job Description']]\n",
    "df['Hadoop'] = [1 if 'hadoop' in x.lower() else 0 for x in df['Job Description']]\n",
    "df['Kafa'] = [1 if 'kafka' in x.lower() else 0 for x in df['Job Description']]\n",
    "df['Hive'] = [1 if 'hive' in x.lower() else 0 for x in df['Job Description']]\n",
    "df['NoSQL'] = [1 if 'nosql' in x.lower() else 0 for x in df['Job Description']]\n",
    "df['Redshift'] = [1 if 'redshift' in x.lower() else 0 for x in df['Job Description']]\n",
    "df['Linux'] = [1 if 'linux' in x.lower() else 0 for x in df['Job Description']]\n",
    "df['Tableau'] = [1 if 'tableau' in x.lower() else 0 for x in df['Job Description']]\n",
    "df['Oracle'] = [1 if 'oracle' in x.lower() else 0 for x in df['Job Description']]\n",
    "df['Git'] = [1 if 'git' in x.lower() else 0 for x in df['Job Description']]\n",
    "df['Airflow'] = [1 if 'airflow' in x.lower() else 0 for x in df['Job Description']]\n",
    "df['MySQL'] = [1 if 'mysql' in x.lower() else 0 for x in df['Job Description']]\n",
    "df['PostgreSQL'] = [1 if 'postgresql' in x.lower() else 0 for x in df['Job Description']]\n",
    "df['Google_Cloud'] = [1 if 'google cloud' in x.lower() else 0 for x in df['Job Description']]\n",
    "df['MongdoDB'] = [1 if 'mongodb' in x.lower() else 0 for x in df['Job Description']]\n",
    "df['Tensorflow'] = [1 if 'tensorflow' in x.lower() else 0 for x in df['Job Description']]\n",
    "df['Excel'] = [1 if 'excel' in x.lower() else 0 for x in df['Job Description']]\n",
    "df['Matlab'] = [1 if 'matlab' in x.lower() else 0 for x in df['Job Description']]\n",
    "df['Keras'] = [1 if 'keras' in x.lower() else 0 for x in df['Job Description']]\n",
    "df['Pandas'] = [1 if 'pandas' in x.lower() else 0 for x in df['Job Description']]\n",
    "df['Javascript'] = [1 if 'javascript' in x.lower() else 0 for x in df['Job Description']]\n",
    "df['NumPy'] = [1 if 'numpy' in x.lower() else 0 for x in df['Job Description']]\n",
    "df['Scipy'] = [1 if 'scipy' in x.lower() else 0 for x in df['Job Description']]\n",
    "df['Pytorch'] = [1 if 'pytorch' in x.lower() else 0 for x in df['Job Description']]\n",
    "df['Xml'] = [1 if 'xml' in x.lower() else 0 for x in df['Job Description']]\n",
    "df['PowerBI'] = [1 if 'powerbi' in x.lower() else 0 for x in df['Job Description']]\n",
    "df['Bokeh'] = [1 if 'bokeh' in x.lower() else 0 for x in df['Job Description']]\n",
    "df['Github'] = [1 if 'github' in x.lower() else 0 for x in df['Job Description']]\n",
    "df['Docker'] = [1 if 'docker' in x.lower() else 0 for x in df['Job Description']]\n",
    "df['Scikit'] = [1 if 'scikit-learn' in x.lower() else 0 for x in df['Job Description']]\n",
    "df['NLP'] = [1 if 'nlp' in x.lower() else 0 for x in df['Job Description']]"
   ]
  },
  {
   "cell_type": "markdown",
   "metadata": {},
   "source": [
    "##### Saving Cleaned DataFrame"
   ]
  },
  {
   "cell_type": "code",
   "execution_count": null,
   "metadata": {},
   "outputs": [],
   "source": [
    "df.to_csv('cleaned_ds_glassdoor_jobs.csv', index = False)"
   ]
  }
 ],
 "metadata": {
  "kernelspec": {
   "display_name": "Python 3",
   "language": "python",
   "name": "python3"
  },
  "language_info": {
   "codemirror_mode": {
    "name": "ipython",
    "version": 3
   },
   "file_extension": ".py",
   "mimetype": "text/x-python",
   "name": "python",
   "nbconvert_exporter": "python",
   "pygments_lexer": "ipython3",
   "version": "3.6.9"
  },
  "toc": {
   "base_numbering": 1,
   "nav_menu": {},
   "number_sections": true,
   "sideBar": true,
   "skip_h1_title": false,
   "title_cell": "Table of Contents",
   "title_sidebar": "Contents",
   "toc_cell": false,
   "toc_position": {},
   "toc_section_display": true,
   "toc_window_display": false
  }
 },
 "nbformat": 4,
 "nbformat_minor": 2
}
