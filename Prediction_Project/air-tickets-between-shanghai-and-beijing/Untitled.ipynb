{
 "cells": [
  {
   "cell_type": "code",
   "execution_count": 3,
   "metadata": {},
   "outputs": [
    {
     "data": {
      "text/html": [
       "<style type=\"text/css\">\n",
       "table.dataframe td, table.dataframe th {\n",
       "    border: 1px  black solid !important;\n",
       "  color: black !important;\n",
       "}\n",
       "import pandas as pd\n"
      ],
      "text/plain": [
       "<IPython.core.display.HTML object>"
      ]
     },
     "metadata": {},
     "output_type": "display_data"
    }
   ],
   "source": [
    "%%HTML\n",
    "<style type=\"text/css\">\n",
    "table.dataframe td, table.dataframe th {\n",
    "    border: 1px  black solid !important;\n",
    "  color: black !important;\n",
    "}\n"
   ]
  },
  {
   "cell_type": "code",
   "execution_count": 21,
   "metadata": {},
   "outputs": [],
   "source": [
    "import pandas as pd\n",
    "import numpy as np"
   ]
  },
  {
   "cell_type": "code",
   "execution_count": 9,
   "metadata": {},
   "outputs": [],
   "source": [
    "ps = pd.read_csv('pek-sha.csv')"
   ]
  },
  {
   "cell_type": "code",
   "execution_count": 7,
   "metadata": {},
   "outputs": [
    {
     "data": {
      "text/plain": [
       "(300336, 14)"
      ]
     },
     "execution_count": 7,
     "metadata": {},
     "output_type": "execute_result"
    }
   ],
   "source": [
    "ps.shape"
   ]
  },
  {
   "cell_type": "code",
   "execution_count": 10,
   "metadata": {},
   "outputs": [
    {
     "data": {
      "text/html": [
       "<div>\n",
       "<style scoped>\n",
       "    .dataframe tbody tr th:only-of-type {\n",
       "        vertical-align: middle;\n",
       "    }\n",
       "\n",
       "    .dataframe tbody tr th {\n",
       "        vertical-align: top;\n",
       "    }\n",
       "\n",
       "    .dataframe thead th {\n",
       "        text-align: right;\n",
       "    }\n",
       "</style>\n",
       "<table border=\"1\" class=\"dataframe\">\n",
       "  <thead>\n",
       "    <tr style=\"text-align: right;\">\n",
       "      <th></th>\n",
       "      <th>ID</th>\n",
       "      <th>flightNumber</th>\n",
       "      <th>craftTypeCode</th>\n",
       "      <th>depAirport</th>\n",
       "      <th>traAirport</th>\n",
       "      <th>arrAirport</th>\n",
       "      <th>departureDate</th>\n",
       "      <th>arrivalDate</th>\n",
       "      <th>cabinClass</th>\n",
       "      <th>priceClass</th>\n",
       "      <th>price</th>\n",
       "      <th>rate</th>\n",
       "      <th>createDate</th>\n",
       "      <th>dateDifference</th>\n",
       "    </tr>\n",
       "  </thead>\n",
       "  <tbody>\n",
       "    <tr>\n",
       "      <td>0</td>\n",
       "      <td>14393</td>\n",
       "      <td>HO1252</td>\n",
       "      <td>320</td>\n",
       "      <td>PEK</td>\n",
       "      <td>NaN</td>\n",
       "      <td>SHA</td>\n",
       "      <td>2019-01-04 06:35:00</td>\n",
       "      <td>2019-01-04 08:55:00</td>\n",
       "      <td>C</td>\n",
       "      <td>C</td>\n",
       "      <td>1860</td>\n",
       "      <td>1.00</td>\n",
       "      <td>2019-01-03 14:26:15</td>\n",
       "      <td>1</td>\n",
       "    </tr>\n",
       "    <tr>\n",
       "      <td>1</td>\n",
       "      <td>14409</td>\n",
       "      <td>MU5138</td>\n",
       "      <td>33L</td>\n",
       "      <td>PEK</td>\n",
       "      <td>NaN</td>\n",
       "      <td>SHA</td>\n",
       "      <td>2019-01-04 07:00:00</td>\n",
       "      <td>2019-01-04 09:15:00</td>\n",
       "      <td>C</td>\n",
       "      <td>I</td>\n",
       "      <td>1640</td>\n",
       "      <td>0.31</td>\n",
       "      <td>2019-01-03 14:26:15</td>\n",
       "      <td>1</td>\n",
       "    </tr>\n",
       "    <tr>\n",
       "      <td>2</td>\n",
       "      <td>14415</td>\n",
       "      <td>MU5138</td>\n",
       "      <td>33L</td>\n",
       "      <td>PEK</td>\n",
       "      <td>NaN</td>\n",
       "      <td>SHA</td>\n",
       "      <td>2019-01-04 07:00:00</td>\n",
       "      <td>2019-01-04 09:15:00</td>\n",
       "      <td>C</td>\n",
       "      <td>J</td>\n",
       "      <td>5360</td>\n",
       "      <td>1.00</td>\n",
       "      <td>2019-01-03 14:26:15</td>\n",
       "      <td>1</td>\n",
       "    </tr>\n",
       "    <tr>\n",
       "      <td>3</td>\n",
       "      <td>14429</td>\n",
       "      <td>HU7605</td>\n",
       "      <td>350</td>\n",
       "      <td>PEK</td>\n",
       "      <td>NaN</td>\n",
       "      <td>SHA</td>\n",
       "      <td>2019-01-04 07:20:00</td>\n",
       "      <td>2019-01-04 09:35:00</td>\n",
       "      <td>C</td>\n",
       "      <td>I</td>\n",
       "      <td>1635</td>\n",
       "      <td>0.29</td>\n",
       "      <td>2019-01-03 14:26:15</td>\n",
       "      <td>1</td>\n",
       "    </tr>\n",
       "    <tr>\n",
       "      <td>4</td>\n",
       "      <td>14431</td>\n",
       "      <td>HU7605</td>\n",
       "      <td>350</td>\n",
       "      <td>PEK</td>\n",
       "      <td>NaN</td>\n",
       "      <td>SHA</td>\n",
       "      <td>2019-01-04 07:20:00</td>\n",
       "      <td>2019-01-04 09:35:00</td>\n",
       "      <td>C</td>\n",
       "      <td>I</td>\n",
       "      <td>1640</td>\n",
       "      <td>0.29</td>\n",
       "      <td>2019-01-03 14:26:15</td>\n",
       "      <td>1</td>\n",
       "    </tr>\n",
       "  </tbody>\n",
       "</table>\n",
       "</div>"
      ],
      "text/plain": [
       "      ID flightNumber craftTypeCode depAirport traAirport arrAirport  \\\n",
       "0  14393       HO1252           320        PEK        NaN        SHA   \n",
       "1  14409       MU5138           33L        PEK        NaN        SHA   \n",
       "2  14415       MU5138           33L        PEK        NaN        SHA   \n",
       "3  14429       HU7605           350        PEK        NaN        SHA   \n",
       "4  14431       HU7605           350        PEK        NaN        SHA   \n",
       "\n",
       "         departureDate          arrivalDate cabinClass priceClass  price  \\\n",
       "0  2019-01-04 06:35:00  2019-01-04 08:55:00          C          C   1860   \n",
       "1  2019-01-04 07:00:00  2019-01-04 09:15:00          C          I   1640   \n",
       "2  2019-01-04 07:00:00  2019-01-04 09:15:00          C          J   5360   \n",
       "3  2019-01-04 07:20:00  2019-01-04 09:35:00          C          I   1635   \n",
       "4  2019-01-04 07:20:00  2019-01-04 09:35:00          C          I   1640   \n",
       "\n",
       "   rate           createDate  dateDifference  \n",
       "0  1.00  2019-01-03 14:26:15               1  \n",
       "1  0.31  2019-01-03 14:26:15               1  \n",
       "2  1.00  2019-01-03 14:26:15               1  \n",
       "3  0.29  2019-01-03 14:26:15               1  \n",
       "4  0.29  2019-01-03 14:26:15               1  "
      ]
     },
     "execution_count": 10,
     "metadata": {},
     "output_type": "execute_result"
    }
   ],
   "source": [
    "ps.head()"
   ]
  },
  {
   "cell_type": "code",
   "execution_count": 23,
   "metadata": {},
   "outputs": [],
   "source": [
    "ps.traAirport.fillna(0, inplace = True)"
   ]
  },
  {
   "cell_type": "code",
   "execution_count": 24,
   "metadata": {},
   "outputs": [],
   "source": [
    "ps.traAirport.replace('LYA', 1, inplace =True)"
   ]
  },
  {
   "cell_type": "code",
   "execution_count": null,
   "metadata": {},
   "outputs": [],
   "source": [
    "ps.drop(['ID','flightNumber', 'depAirport', 'arrAirport', '']"
   ]
  }
 ],
 "metadata": {
  "kernelspec": {
   "display_name": "Python 3",
   "language": "python",
   "name": "python3"
  },
  "language_info": {
   "codemirror_mode": {
    "name": "ipython",
    "version": 3
   },
   "file_extension": ".py",
   "mimetype": "text/x-python",
   "name": "python",
   "nbconvert_exporter": "python",
   "pygments_lexer": "ipython3",
   "version": "3.6.9"
  },
  "toc": {
   "base_numbering": 1,
   "nav_menu": {},
   "number_sections": true,
   "sideBar": true,
   "skip_h1_title": false,
   "title_cell": "Table of Contents",
   "title_sidebar": "Contents",
   "toc_cell": false,
   "toc_position": {},
   "toc_section_display": true,
   "toc_window_display": false
  }
 },
 "nbformat": 4,
 "nbformat_minor": 2
}
