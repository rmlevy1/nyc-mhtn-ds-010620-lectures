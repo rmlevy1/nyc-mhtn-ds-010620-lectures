{
 "cells": [
  {
   "cell_type": "code",
   "execution_count": 1,
   "metadata": {},
   "outputs": [
    {
     "data": {
      "text/html": [
       "<style type=\"text/css\">\n",
       "table.dataframe td, table.dataframe th {\n",
       "    border: 1px  black solid !important;\n",
       "  color: black !important;\n",
       "}\n"
      ],
      "text/plain": [
       "<IPython.core.display.HTML object>"
      ]
     },
     "metadata": {},
     "output_type": "display_data"
    }
   ],
   "source": [
    "%%HTML\n",
    "<style type=\"text/css\">\n",
    "table.dataframe td, table.dataframe th {\n",
    "    border: 1px  black solid !important;\n",
    "  color: black !important;\n",
    "}"
   ]
  },
  {
   "cell_type": "code",
   "execution_count": 2,
   "metadata": {},
   "outputs": [],
   "source": [
    "import pandas as pd\n",
    "import numpy as np\n",
    "from statsmodels.formula.api import ols\n",
    "import datetime\n",
    "import seaborn as sns\n",
    "%matplotlib inline"
   ]
  },
  {
   "cell_type": "code",
   "execution_count": 3,
   "metadata": {},
   "outputs": [],
   "source": [
    "sp = pd.read_csv('sha-pek.csv')"
   ]
  },
  {
   "cell_type": "markdown",
   "metadata": {},
   "source": [
    "### Shanghai to Beijing DataSet"
   ]
  },
  {
   "cell_type": "markdown",
   "metadata": {},
   "source": [
    "#### Cleaning Data Set"
   ]
  },
  {
   "cell_type": "code",
   "execution_count": 4,
   "metadata": {},
   "outputs": [],
   "source": [
    "sp.drop(['ID','flightNumber', 'craftTypeCode', 'depAirport', 'arrAirport', 'arrivalDate', 'priceClass', 'rate'], axis = 1, inplace = True)"
   ]
  },
  {
   "cell_type": "markdown",
   "metadata": {},
   "source": [
    "###### Handling Transfer Airport"
   ]
  },
  {
   "cell_type": "code",
   "execution_count": 5,
   "metadata": {},
   "outputs": [],
   "source": [
    "sp.traAirport.fillna(0, inplace = True)\n",
    "sp.traAirport.replace('LYA', 1, inplace =True)"
   ]
  },
  {
   "cell_type": "markdown",
   "metadata": {},
   "source": [
    "###### Converting from Chinese Yuan to USD"
   ]
  },
  {
   "cell_type": "code",
   "execution_count": 6,
   "metadata": {},
   "outputs": [],
   "source": [
    "sp['price'] = [x * .14 for x in sp.price]"
   ]
  },
  {
   "cell_type": "markdown",
   "metadata": {},
   "source": [
    "###### Getting rid of -1 datedifference (makes no sense)"
   ]
  },
  {
   "cell_type": "code",
   "execution_count": 7,
   "metadata": {},
   "outputs": [],
   "source": [
    "sp.dateDifference = np.where(sp.dateDifference == -1, np.nan, sp.dateDifference)\n",
    "sp.dropna(inplace=True)"
   ]
  },
  {
   "cell_type": "markdown",
   "metadata": {},
   "source": [
    "#### Feature Engineering"
   ]
  },
  {
   "cell_type": "markdown",
   "metadata": {},
   "source": [
    "Creating Feature for Date of Departure"
   ]
  },
  {
   "cell_type": "code",
   "execution_count": 8,
   "metadata": {},
   "outputs": [],
   "source": [
    "sp['DD'] = [x[:10] for x in sp.departureDate]"
   ]
  },
  {
   "cell_type": "markdown",
   "metadata": {},
   "source": [
    "Creating Feature for Month that Flight departed"
   ]
  },
  {
   "cell_type": "code",
   "execution_count": 9,
   "metadata": {},
   "outputs": [],
   "source": [
    "sp['Month'] = [x[5:7] for x in sp.departureDate]"
   ]
  },
  {
   "cell_type": "code",
   "execution_count": 10,
   "metadata": {},
   "outputs": [],
   "source": [
    "import datetime \n",
    "import calendar \n",
    "  \n",
    "def findDay(date): \n",
    "    born = datetime.datetime.strptime(date, '%Y-%m-%d').weekday() \n",
    "    return (calendar.day_name[born]) "
   ]
  },
  {
   "cell_type": "markdown",
   "metadata": {},
   "source": [
    "Creating feature for Day of Week Flight Departed"
   ]
  },
  {
   "cell_type": "code",
   "execution_count": 11,
   "metadata": {},
   "outputs": [],
   "source": [
    "sp['DOW'] = [findDay(x) for x in sp.DD]"
   ]
  },
  {
   "cell_type": "markdown",
   "metadata": {},
   "source": [
    "Creating feature for time of day departure and catergorize time frames of:<br>\n",
    "M - Morning:  6 AM - Noon <br>\n",
    "A - Afternoon: Noon - 6 PM <br>\n",
    "N - Night: 6 PM - Midnight"
   ]
  },
  {
   "cell_type": "code",
   "execution_count": 12,
   "metadata": {},
   "outputs": [],
   "source": [
    "sp['TOD']= [x[11:16] for x in sp.departureDate]\n",
    "sp['TOD'] = pd.to_datetime(sp['TOD'])\n",
    "sp['TOD'] = [time.time() for time in sp['TOD']]\n",
    "sp['TODD']= np.where(((sp['TOD']> datetime.time(6,0)) & (sp['TOD']<= datetime.time(12,0))), 'M', np.nan)\n",
    "sp['TODD'] = np.where(((sp['TOD']> datetime.time(12,0)) & (sp['TOD']<= datetime.time(18,0))), 'A', sp['TODD'])\n",
    "sp['TODD'] = np.where(((sp['TOD']> datetime.time(18,0)) & (sp['TOD']<= datetime.time(23,0))), 'N', sp['TODD'])"
   ]
  },
  {
   "cell_type": "markdown",
   "metadata": {},
   "source": [
    "Creating a feature for Date ticket was purchased."
   ]
  },
  {
   "cell_type": "code",
   "execution_count": 13,
   "metadata": {},
   "outputs": [],
   "source": [
    "sp['PD'] = [x[:10] for x in sp.createDate]"
   ]
  },
  {
   "cell_type": "markdown",
   "metadata": {},
   "source": [
    "Creating a feature for Month that ticket was purchased."
   ]
  },
  {
   "cell_type": "code",
   "execution_count": 14,
   "metadata": {},
   "outputs": [],
   "source": [
    "sp['MOPD'] = [x[5:7] for x in sp.createDate]"
   ]
  },
  {
   "cell_type": "markdown",
   "metadata": {},
   "source": [
    "Creating a feature for Day of the week ticket was purchased."
   ]
  },
  {
   "cell_type": "code",
   "execution_count": 15,
   "metadata": {},
   "outputs": [],
   "source": [
    "sp['DOPD'] = [findDay(x) for x in sp.PD]"
   ]
  },
  {
   "cell_type": "markdown",
   "metadata": {},
   "source": [
    "Creating feature for time of day ticket was purchased and catergorize time frames of:<br>\n",
    "EM - Early Morning: Midnight - 6 AM <br>\n",
    "M - Morning:  6 AM - Noon <br>\n",
    "A - Afternoon: Noon - 6 PM <br>\n",
    "N - Night: 6 PM - Midnight"
   ]
  },
  {
   "cell_type": "code",
   "execution_count": 16,
   "metadata": {},
   "outputs": [],
   "source": [
    "sp['TOPD']= [x[11:16] for x in sp.createDate]\n",
    "sp['TOPD'] = pd.to_datetime(sp['TOPD'])\n",
    "sp['TOPD'] = [time.time() for time in sp['TOPD']]\n",
    "sp['TOPD_L']= np.where(((sp['TOPD']>= datetime.time(0,0)) & (sp['TOPD']< datetime.time(6,0))), 'EM', np.nan)\n",
    "sp['TOPD_L']= np.where(((sp['TOPD']>= datetime.time(6,0)) & (sp['TOPD']<= datetime.time(12,0))), 'M', sp['TOPD_L'])\n",
    "sp['TOPD_L'] = np.where(((sp['TOPD']> datetime.time(12,0)) & (sp['TOPD']<= datetime.time(18,0))), 'A', sp['TOPD_L'])\n",
    "sp['TOPD_L'] = np.where(((sp['TOPD']> datetime.time(18,0)) & (sp['TOPD']<= datetime.time(23,59))), 'N', sp['TOPD_L'])"
   ]
  },
  {
   "cell_type": "code",
   "execution_count": 17,
   "metadata": {},
   "outputs": [
    {
     "data": {
      "text/plain": [
       "array(['EM', 'M', 'N', 'A'], dtype=object)"
      ]
     },
     "execution_count": 17,
     "metadata": {},
     "output_type": "execute_result"
    }
   ],
   "source": [
    "sp.TOPD_L.unique()"
   ]
  },
  {
   "cell_type": "markdown",
   "metadata": {},
   "source": [
    "#### Cleaning part 2"
   ]
  },
  {
   "cell_type": "code",
   "execution_count": 18,
   "metadata": {},
   "outputs": [],
   "source": [
    "sp.drop(['departureDate', 'createDate'], axis = 1, inplace = True)"
   ]
  },
  {
   "cell_type": "markdown",
   "metadata": {},
   "source": [
    "#### EDA with visualizations"
   ]
  },
  {
   "cell_type": "code",
   "execution_count": 19,
   "metadata": {},
   "outputs": [
    {
     "data": {
      "text/html": [
       "<div>\n",
       "<style scoped>\n",
       "    .dataframe tbody tr th:only-of-type {\n",
       "        vertical-align: middle;\n",
       "    }\n",
       "\n",
       "    .dataframe tbody tr th {\n",
       "        vertical-align: top;\n",
       "    }\n",
       "\n",
       "    .dataframe thead th {\n",
       "        text-align: right;\n",
       "    }\n",
       "</style>\n",
       "<table border=\"1\" class=\"dataframe\">\n",
       "  <thead>\n",
       "    <tr style=\"text-align: right;\">\n",
       "      <th></th>\n",
       "      <th>traAirport</th>\n",
       "      <th>cabinClass</th>\n",
       "      <th>price</th>\n",
       "      <th>dateDifference</th>\n",
       "      <th>DD</th>\n",
       "      <th>Month</th>\n",
       "      <th>DOW</th>\n",
       "      <th>TOD</th>\n",
       "      <th>TODD</th>\n",
       "      <th>PD</th>\n",
       "      <th>MOPD</th>\n",
       "      <th>DOPD</th>\n",
       "      <th>TOPD</th>\n",
       "      <th>TOPD_L</th>\n",
       "    </tr>\n",
       "  </thead>\n",
       "  <tbody>\n",
       "    <tr>\n",
       "      <td>19</td>\n",
       "      <td>0</td>\n",
       "      <td>C</td>\n",
       "      <td>218.4</td>\n",
       "      <td>0.0</td>\n",
       "      <td>2019-05-01</td>\n",
       "      <td>05</td>\n",
       "      <td>Wednesday</td>\n",
       "      <td>07:00:00</td>\n",
       "      <td>M</td>\n",
       "      <td>2019-05-01</td>\n",
       "      <td>05</td>\n",
       "      <td>Wednesday</td>\n",
       "      <td>02:07:00</td>\n",
       "      <td>EM</td>\n",
       "    </tr>\n",
       "    <tr>\n",
       "      <td>20</td>\n",
       "      <td>0</td>\n",
       "      <td>C</td>\n",
       "      <td>792.4</td>\n",
       "      <td>0.0</td>\n",
       "      <td>2019-05-01</td>\n",
       "      <td>05</td>\n",
       "      <td>Wednesday</td>\n",
       "      <td>07:00:00</td>\n",
       "      <td>M</td>\n",
       "      <td>2019-05-01</td>\n",
       "      <td>05</td>\n",
       "      <td>Wednesday</td>\n",
       "      <td>02:07:00</td>\n",
       "      <td>EM</td>\n",
       "    </tr>\n",
       "    <tr>\n",
       "      <td>21</td>\n",
       "      <td>0</td>\n",
       "      <td>C</td>\n",
       "      <td>291.2</td>\n",
       "      <td>0.0</td>\n",
       "      <td>2019-05-01</td>\n",
       "      <td>05</td>\n",
       "      <td>Wednesday</td>\n",
       "      <td>07:55:00</td>\n",
       "      <td>M</td>\n",
       "      <td>2019-05-01</td>\n",
       "      <td>05</td>\n",
       "      <td>Wednesday</td>\n",
       "      <td>02:07:00</td>\n",
       "      <td>EM</td>\n",
       "    </tr>\n",
       "    <tr>\n",
       "      <td>22</td>\n",
       "      <td>0</td>\n",
       "      <td>C</td>\n",
       "      <td>792.4</td>\n",
       "      <td>0.0</td>\n",
       "      <td>2019-05-01</td>\n",
       "      <td>05</td>\n",
       "      <td>Wednesday</td>\n",
       "      <td>07:55:00</td>\n",
       "      <td>M</td>\n",
       "      <td>2019-05-01</td>\n",
       "      <td>05</td>\n",
       "      <td>Wednesday</td>\n",
       "      <td>02:07:00</td>\n",
       "      <td>EM</td>\n",
       "    </tr>\n",
       "    <tr>\n",
       "      <td>23</td>\n",
       "      <td>0</td>\n",
       "      <td>C</td>\n",
       "      <td>218.4</td>\n",
       "      <td>0.0</td>\n",
       "      <td>2019-05-01</td>\n",
       "      <td>05</td>\n",
       "      <td>Wednesday</td>\n",
       "      <td>08:00:00</td>\n",
       "      <td>M</td>\n",
       "      <td>2019-05-01</td>\n",
       "      <td>05</td>\n",
       "      <td>Wednesday</td>\n",
       "      <td>02:07:00</td>\n",
       "      <td>EM</td>\n",
       "    </tr>\n",
       "  </tbody>\n",
       "</table>\n",
       "</div>"
      ],
      "text/plain": [
       "    traAirport cabinClass  price  dateDifference          DD Month        DOW  \\\n",
       "19           0          C  218.4             0.0  2019-05-01    05  Wednesday   \n",
       "20           0          C  792.4             0.0  2019-05-01    05  Wednesday   \n",
       "21           0          C  291.2             0.0  2019-05-01    05  Wednesday   \n",
       "22           0          C  792.4             0.0  2019-05-01    05  Wednesday   \n",
       "23           0          C  218.4             0.0  2019-05-01    05  Wednesday   \n",
       "\n",
       "         TOD TODD          PD MOPD       DOPD      TOPD TOPD_L  \n",
       "19  07:00:00    M  2019-05-01   05  Wednesday  02:07:00     EM  \n",
       "20  07:00:00    M  2019-05-01   05  Wednesday  02:07:00     EM  \n",
       "21  07:55:00    M  2019-05-01   05  Wednesday  02:07:00     EM  \n",
       "22  07:55:00    M  2019-05-01   05  Wednesday  02:07:00     EM  \n",
       "23  08:00:00    M  2019-05-01   05  Wednesday  02:07:00     EM  "
      ]
     },
     "execution_count": 19,
     "metadata": {},
     "output_type": "execute_result"
    }
   ],
   "source": [
    "sp.head()"
   ]
  },
  {
   "cell_type": "markdown",
   "metadata": {},
   "source": [
    "Checking difference in price between flights with and without layovers"
   ]
  },
  {
   "cell_type": "code",
   "execution_count": 20,
   "metadata": {
    "scrolled": true
   },
   "outputs": [
    {
     "data": {
      "text/plain": [
       "<matplotlib.axes._subplots.AxesSubplot at 0x1a298fc1d0>"
      ]
     },
     "execution_count": 20,
     "metadata": {},
     "output_type": "execute_result"
    },
    {
     "data": {
      "image/png": "[encoded data removed]",
      "text/plain": [
       "<Figure size 432x288 with 1 Axes>"
      ]
     },
     "metadata": {
      "needs_background": "light"
     },
     "output_type": "display_data"
    }
   ],
   "source": [
    "sns.barplot(x = sp['traAirport'], y = sp['price'], data = sp)"
   ]
  },
  {
   "cell_type": "markdown",
   "metadata": {},
   "source": [
    "Checking difference in price between different flight classes"
   ]
  },
  {
   "cell_type": "code",
   "execution_count": 21,
   "metadata": {
    "scrolled": true
   },
   "outputs": [
    {
     "data": {
      "text/plain": [
       "<matplotlib.axes._subplots.AxesSubplot at 0x1a24ab5a20>"
      ]
     },
     "execution_count": 21,
     "metadata": {},
     "output_type": "execute_result"
    },
    {
     "data": {
      "image/png": "[encoded data removed]",
      "text/plain": [
       "<Figure size 432x288 with 1 Axes>"
      ]
     },
     "metadata": {
      "needs_background": "light"
     },
     "output_type": "display_data"
    }
   ],
   "source": [
    "sns.barplot(x = sp['cabinClass'], y = sp['price'], data = sp)"
   ]
  },
  {
   "cell_type": "markdown",
   "metadata": {},
   "source": [
    "Checking difference in price between days in advance ticket was purchased"
   ]
  },
  {
   "cell_type": "code",
   "execution_count": 22,
   "metadata": {
    "scrolled": true
   },
   "outputs": [
    {
     "data": {
      "text/plain": [
       "<matplotlib.axes._subplots.AxesSubplot at 0x1a23d9de80>"
      ]
     },
     "execution_count": 22,
     "metadata": {},
     "output_type": "execute_result"
    },
    {
     "data": {
      "image/png": "[encoded data removed]",
      "text/plain": [
       "<Figure size 432x288 with 1 Axes>"
      ]
     },
     "metadata": {
      "needs_background": "light"
     },
     "output_type": "display_data"
    }
   ],
   "source": [
    "sns.barplot(x = sp['dateDifference'], y = sp['price'], data = sp)"
   ]
  },
  {
   "cell_type": "markdown",
   "metadata": {},
   "source": [
    "Checking difference in price between different months flight departed"
   ]
  },
  {
   "cell_type": "code",
   "execution_count": 23,
   "metadata": {},
   "outputs": [
    {
     "data": {
      "text/plain": [
       "<matplotlib.axes._subplots.AxesSubplot at 0x1a23f0d9e8>"
      ]
     },
     "execution_count": 23,
     "metadata": {},
     "output_type": "execute_result"
    },
    {
     "data": {
      "image/png": "[encoded data removed]",
      "text/plain": [
       "<Figure size 432x288 with 1 Axes>"
      ]
     },
     "metadata": {
      "needs_background": "light"
     },
     "output_type": "display_data"
    }
   ],
   "source": [
    "sns.barplot(x = sp['Month'], y = sp['price'], data = sp)"
   ]
  },
  {
   "cell_type": "markdown",
   "metadata": {},
   "source": [
    "Checking difference in price of ticket based off day of week flight departed"
   ]
  },
  {
   "cell_type": "code",
   "execution_count": 24,
   "metadata": {
    "scrolled": true
   },
   "outputs": [
    {
     "data": {
      "text/plain": [
       "<matplotlib.axes._subplots.AxesSubplot at 0x1a29623320>"
      ]
     },
     "execution_count": 24,
     "metadata": {},
     "output_type": "execute_result"
    },
    {
     "data": {
      "image/png": "[encoded data removed]",
      "text/plain": [
       "<Figure size 432x288 with 1 Axes>"
      ]
     },
     "metadata": {
      "needs_background": "light"
     },
     "output_type": "display_data"
    }
   ],
   "source": [
    "sns.barplot(x = sp['DOW'], y = sp['price'], data = sp)"
   ]
  },
  {
   "cell_type": "markdown",
   "metadata": {},
   "source": [
    "Checking difference in price based off time of day flight departed"
   ]
  },
  {
   "cell_type": "code",
   "execution_count": 25,
   "metadata": {
    "scrolled": true
   },
   "outputs": [
    {
     "data": {
      "text/plain": [
       "<matplotlib.axes._subplots.AxesSubplot at 0x1a249cb128>"
      ]
     },
     "execution_count": 25,
     "metadata": {},
     "output_type": "execute_result"
    },
    {
     "data": {
      "image/png": "[encoded data removed]",
      "text/plain": [
       "<Figure size 432x288 with 1 Axes>"
      ]
     },
     "metadata": {
      "needs_background": "light"
     },
     "output_type": "display_data"
    }
   ],
   "source": [
    "sns.barplot(x = sp['TODD'], y = sp['price'], data = sp)"
   ]
  },
  {
   "cell_type": "markdown",
   "metadata": {},
   "source": [
    "Checking difference in price based off month ticket was purchased"
   ]
  },
  {
   "cell_type": "code",
   "execution_count": 26,
   "metadata": {
    "scrolled": true
   },
   "outputs": [
    {
     "data": {
      "text/plain": [
       "<matplotlib.axes._subplots.AxesSubplot at 0x1a23ff9940>"
      ]
     },
     "execution_count": 26,
     "metadata": {},
     "output_type": "execute_result"
    },
    {
     "data": {
      "image/png": "[encoded data removed]",
      "text/plain": [
       "<Figure size 432x288 with 1 Axes>"
      ]
     },
     "metadata": {
      "needs_background": "light"
     },
     "output_type": "display_data"
    }
   ],
   "source": [
    "sns.barplot(x = sp['MOPD'], y = sp['price'], data = sp)"
   ]
  },
  {
   "cell_type": "markdown",
   "metadata": {},
   "source": [
    "Checking difference in price based off day of week ticket was purchased"
   ]
  },
  {
   "cell_type": "code",
   "execution_count": 27,
   "metadata": {
    "scrolled": true
   },
   "outputs": [
    {
     "data": {
      "text/plain": [
       "<matplotlib.axes._subplots.AxesSubplot at 0x1a201c8cf8>"
      ]
     },
     "execution_count": 27,
     "metadata": {},
     "output_type": "execute_result"
    },
    {
     "data": {
      "image/png": "[encoded data removed]",
      "text/plain": [
       "<Figure size 432x288 with 1 Axes>"
      ]
     },
     "metadata": {
      "needs_background": "light"
     },
     "output_type": "display_data"
    }
   ],
   "source": [
    "sns.barplot(x = sp['DOPD'], y = sp['price'], data = sp)"
   ]
  },
  {
   "cell_type": "markdown",
   "metadata": {},
   "source": [
    "Checking difference in price based off time of day ticket was purchased"
   ]
  },
  {
   "cell_type": "code",
   "execution_count": 28,
   "metadata": {
    "scrolled": true
   },
   "outputs": [
    {
     "data": {
      "text/plain": [
       "<matplotlib.axes._subplots.AxesSubplot at 0x1a21bc6518>"
      ]
     },
     "execution_count": 28,
     "metadata": {},
     "output_type": "execute_result"
    },
    {
     "data": {
      "image/png": "[encoded data removed]",
      "text/plain": [
       "<Figure size 432x288 with 1 Axes>"
      ]
     },
     "metadata": {
      "needs_background": "light"
     },
     "output_type": "display_data"
    }
   ],
   "source": [
    "sns.barplot(x = sp['TOPD_L'], y = sp['price'], data = sp)"
   ]
  },
  {
   "cell_type": "markdown",
   "metadata": {},
   "source": [
    "### Beijing to Shanghai DataSet"
   ]
  },
  {
   "cell_type": "code",
   "execution_count": 29,
   "metadata": {},
   "outputs": [],
   "source": [
    "ps = pd.read_csv('pek-sha.csv')"
   ]
  },
  {
   "cell_type": "markdown",
   "metadata": {},
   "source": [
    "#### Cleaning Data Set"
   ]
  },
  {
   "cell_type": "code",
   "execution_count": 30,
   "metadata": {},
   "outputs": [],
   "source": [
    "ps.drop(['ID','flightNumber', 'craftTypeCode', 'depAirport', 'arrAirport', 'arrivalDate', 'priceClass', 'rate'], axis = 1, inplace = True)"
   ]
  },
  {
   "cell_type": "markdown",
   "metadata": {},
   "source": [
    "###### Handling Missing Values Transfer Airport"
   ]
  },
  {
   "cell_type": "code",
   "execution_count": 31,
   "metadata": {},
   "outputs": [],
   "source": [
    "ps.traAirport.fillna(0, inplace = True)\n",
    "ps.traAirport.replace('LYA', 1, inplace =True)"
   ]
  },
  {
   "cell_type": "markdown",
   "metadata": {},
   "source": [
    "###### Converting from Chinese Yuan to USD"
   ]
  },
  {
   "cell_type": "code",
   "execution_count": 32,
   "metadata": {},
   "outputs": [],
   "source": [
    "ps['price'] = [x * .14 for x in ps.price]"
   ]
  },
  {
   "cell_type": "markdown",
   "metadata": {},
   "source": [
    "#### Feature Engineering"
   ]
  },
  {
   "cell_type": "markdown",
   "metadata": {},
   "source": [
    "Creating Feature for Date of Departure and Month of Departure"
   ]
  },
  {
   "cell_type": "code",
   "execution_count": 33,
   "metadata": {},
   "outputs": [],
   "source": [
    "ps['DD'] = [x[:10] for x in ps.departureDate]\n",
    "ps['Month'] = [x[5:7] for x in ps.departureDate]"
   ]
  },
  {
   "cell_type": "markdown",
   "metadata": {},
   "source": [
    "Creating Feature for Date of Week of departure"
   ]
  },
  {
   "cell_type": "code",
   "execution_count": 34,
   "metadata": {},
   "outputs": [],
   "source": [
    "ps['DOW'] = [findDay(x) for x in ps.DD]"
   ]
  },
  {
   "cell_type": "markdown",
   "metadata": {},
   "source": [
    "Creating feature for time of day departure and catergorize time frames of:<br>\n",
    "M - Morning:  6 AM - Noon <br>\n",
    "A - Afternoon: Noon - 6 PM <br>\n",
    "N - Night: 6 PM - Midnight"
   ]
  },
  {
   "cell_type": "code",
   "execution_count": 35,
   "metadata": {},
   "outputs": [],
   "source": [
    "ps['TOD']= [x[11:16] for x in ps.departureDate]\n",
    "ps['TOD'] = pd.to_datetime(ps['TOD'])\n",
    "ps['TOD'] = [time.time() for time in ps['TOD']]\n",
    "ps['TODD']= np.where(((ps['TOD']> datetime.time(6,0)) & (ps['TOD']<= datetime.time(12,0))), 'M', np.nan)\n",
    "ps['TODD'] = np.where(((ps['TOD']> datetime.time(12,0)) & (ps['TOD']<= datetime.time(18,0))), 'A', ps['TODD'])\n",
    "ps['TODD'] = np.where(((ps['TOD']> datetime.time(18,0)) & (ps['TOD']<= datetime.time(23,0))), 'N', ps['TODD'])"
   ]
  },
  {
   "cell_type": "markdown",
   "metadata": {},
   "source": [
    "Creating a feature for Date, Month and Day of Week the ticket was purchased."
   ]
  },
  {
   "cell_type": "code",
   "execution_count": 36,
   "metadata": {},
   "outputs": [],
   "source": [
    "ps['PD'] = [x[:10] for x in ps.createDate]\n",
    "ps['MOPD'] = [x[5:7] for x in ps.createDate]\n",
    "ps['DOPD'] = [findDay(x) for x in ps.PD]"
   ]
  },
  {
   "cell_type": "markdown",
   "metadata": {},
   "source": [
    "Creating feature for time of day ticket was purchased and catergorize time frames of:<br>\n",
    "EM - Early Morning: Midnight - 6 AM <br>\n",
    "M - Morning:  6 AM - Noon <br>\n",
    "A - Afternoon: Noon - 6 PM <br>\n",
    "N - Night: 6 PM - Midnight"
   ]
  },
  {
   "cell_type": "code",
   "execution_count": 37,
   "metadata": {},
   "outputs": [],
   "source": [
    "ps['TOPD']= [x[11:16] for x in ps.createDate]\n",
    "ps['TOPD'] = pd.to_datetime(ps['TOPD'])\n",
    "ps['TOPD'] = [time.time() for time in ps['TOPD']]\n",
    "ps['TOPD_L']= np.where(((ps['TOPD']>= datetime.time(0,0)) & (ps['TOPD']< datetime.time(6,0))), 'EM', np.nan)\n",
    "ps['TOPD_L']= np.where(((ps['TOPD']>= datetime.time(6,0)) & (ps['TOPD']<= datetime.time(12,0))), 'M', ps['TOPD_L'])\n",
    "ps['TOPD_L'] = np.where(((ps['TOPD']> datetime.time(12,0)) & (ps['TOPD']<= datetime.time(18,0))), 'A', ps['TOPD_L'])\n",
    "ps['TOPD_L'] = np.where(((ps['TOPD']> datetime.time(18,0)) & (ps['TOPD']<= datetime.time(23,59))), 'N', ps['TOPD_L'])"
   ]
  },
  {
   "cell_type": "markdown",
   "metadata": {},
   "source": [
    "#### Cleaning part 2"
   ]
  },
  {
   "cell_type": "code",
   "execution_count": 38,
   "metadata": {},
   "outputs": [],
   "source": [
    "ps.drop(['departureDate', 'createDate'], axis = 1, inplace = True)"
   ]
  },
  {
   "cell_type": "markdown",
   "metadata": {},
   "source": [
    "#### EDA with visualizations"
   ]
  },
  {
   "cell_type": "code",
   "execution_count": 39,
   "metadata": {},
   "outputs": [
    {
     "data": {
      "text/html": [
       "<div>\n",
       "<style scoped>\n",
       "    .dataframe tbody tr th:only-of-type {\n",
       "        vertical-align: middle;\n",
       "    }\n",
       "\n",
       "    .dataframe tbody tr th {\n",
       "        vertical-align: top;\n",
       "    }\n",
       "\n",
       "    .dataframe thead th {\n",
       "        text-align: right;\n",
       "    }\n",
       "</style>\n",
       "<table border=\"1\" class=\"dataframe\">\n",
       "  <thead>\n",
       "    <tr style=\"text-align: right;\">\n",
       "      <th></th>\n",
       "      <th>traAirport</th>\n",
       "      <th>cabinClass</th>\n",
       "      <th>price</th>\n",
       "      <th>dateDifference</th>\n",
       "      <th>DD</th>\n",
       "      <th>Month</th>\n",
       "      <th>DOW</th>\n",
       "      <th>TOD</th>\n",
       "      <th>TODD</th>\n",
       "      <th>PD</th>\n",
       "      <th>MOPD</th>\n",
       "      <th>DOPD</th>\n",
       "      <th>TOPD</th>\n",
       "      <th>TOPD_L</th>\n",
       "    </tr>\n",
       "  </thead>\n",
       "  <tbody>\n",
       "    <tr>\n",
       "      <td>0</td>\n",
       "      <td>0</td>\n",
       "      <td>C</td>\n",
       "      <td>260.4</td>\n",
       "      <td>1</td>\n",
       "      <td>2019-01-04</td>\n",
       "      <td>01</td>\n",
       "      <td>Friday</td>\n",
       "      <td>06:35:00</td>\n",
       "      <td>M</td>\n",
       "      <td>2019-01-03</td>\n",
       "      <td>01</td>\n",
       "      <td>Thursday</td>\n",
       "      <td>14:26:00</td>\n",
       "      <td>A</td>\n",
       "    </tr>\n",
       "    <tr>\n",
       "      <td>1</td>\n",
       "      <td>0</td>\n",
       "      <td>C</td>\n",
       "      <td>229.6</td>\n",
       "      <td>1</td>\n",
       "      <td>2019-01-04</td>\n",
       "      <td>01</td>\n",
       "      <td>Friday</td>\n",
       "      <td>07:00:00</td>\n",
       "      <td>M</td>\n",
       "      <td>2019-01-03</td>\n",
       "      <td>01</td>\n",
       "      <td>Thursday</td>\n",
       "      <td>14:26:00</td>\n",
       "      <td>A</td>\n",
       "    </tr>\n",
       "    <tr>\n",
       "      <td>2</td>\n",
       "      <td>0</td>\n",
       "      <td>C</td>\n",
       "      <td>750.4</td>\n",
       "      <td>1</td>\n",
       "      <td>2019-01-04</td>\n",
       "      <td>01</td>\n",
       "      <td>Friday</td>\n",
       "      <td>07:00:00</td>\n",
       "      <td>M</td>\n",
       "      <td>2019-01-03</td>\n",
       "      <td>01</td>\n",
       "      <td>Thursday</td>\n",
       "      <td>14:26:00</td>\n",
       "      <td>A</td>\n",
       "    </tr>\n",
       "    <tr>\n",
       "      <td>3</td>\n",
       "      <td>0</td>\n",
       "      <td>C</td>\n",
       "      <td>228.9</td>\n",
       "      <td>1</td>\n",
       "      <td>2019-01-04</td>\n",
       "      <td>01</td>\n",
       "      <td>Friday</td>\n",
       "      <td>07:20:00</td>\n",
       "      <td>M</td>\n",
       "      <td>2019-01-03</td>\n",
       "      <td>01</td>\n",
       "      <td>Thursday</td>\n",
       "      <td>14:26:00</td>\n",
       "      <td>A</td>\n",
       "    </tr>\n",
       "    <tr>\n",
       "      <td>4</td>\n",
       "      <td>0</td>\n",
       "      <td>C</td>\n",
       "      <td>229.6</td>\n",
       "      <td>1</td>\n",
       "      <td>2019-01-04</td>\n",
       "      <td>01</td>\n",
       "      <td>Friday</td>\n",
       "      <td>07:20:00</td>\n",
       "      <td>M</td>\n",
       "      <td>2019-01-03</td>\n",
       "      <td>01</td>\n",
       "      <td>Thursday</td>\n",
       "      <td>14:26:00</td>\n",
       "      <td>A</td>\n",
       "    </tr>\n",
       "  </tbody>\n",
       "</table>\n",
       "</div>"
      ],
      "text/plain": [
       "   traAirport cabinClass  price  dateDifference          DD Month     DOW  \\\n",
       "0           0          C  260.4               1  2019-01-04    01  Friday   \n",
       "1           0          C  229.6               1  2019-01-04    01  Friday   \n",
       "2           0          C  750.4               1  2019-01-04    01  Friday   \n",
       "3           0          C  228.9               1  2019-01-04    01  Friday   \n",
       "4           0          C  229.6               1  2019-01-04    01  Friday   \n",
       "\n",
       "        TOD TODD          PD MOPD      DOPD      TOPD TOPD_L  \n",
       "0  06:35:00    M  2019-01-03   01  Thursday  14:26:00      A  \n",
       "1  07:00:00    M  2019-01-03   01  Thursday  14:26:00      A  \n",
       "2  07:00:00    M  2019-01-03   01  Thursday  14:26:00      A  \n",
       "3  07:20:00    M  2019-01-03   01  Thursday  14:26:00      A  \n",
       "4  07:20:00    M  2019-01-03   01  Thursday  14:26:00      A  "
      ]
     },
     "execution_count": 39,
     "metadata": {},
     "output_type": "execute_result"
    }
   ],
   "source": [
    "ps.head()"
   ]
  },
  {
   "cell_type": "markdown",
   "metadata": {},
   "source": [
    "Checking difference in price between flights with and without layovers"
   ]
  },
  {
   "cell_type": "code",
   "execution_count": 40,
   "metadata": {
    "scrolled": true
   },
   "outputs": [
    {
     "data": {
      "text/plain": [
       "<matplotlib.axes._subplots.AxesSubplot at 0x1a365e9438>"
      ]
     },
     "execution_count": 40,
     "metadata": {},
     "output_type": "execute_result"
    },
    {
     "data": {
      "image/png": "[encoded data removed]",
      "text/plain": [
       "<Figure size 432x288 with 1 Axes>"
      ]
     },
     "metadata": {
      "needs_background": "light"
     },
     "output_type": "display_data"
    }
   ],
   "source": [
    "sns.barplot(x = ps['traAirport'], y = ps['price'], data = ps)"
   ]
  },
  {
   "cell_type": "markdown",
   "metadata": {},
   "source": [
    "Checking difference in price between different flight classes"
   ]
  },
  {
   "cell_type": "code",
   "execution_count": 41,
   "metadata": {
    "scrolled": false
   },
   "outputs": [
    {
     "data": {
      "text/plain": [
       "<matplotlib.axes._subplots.AxesSubplot at 0x1a3660ea20>"
      ]
     },
     "execution_count": 41,
     "metadata": {},
     "output_type": "execute_result"
    },
    {
     "data": {
      "image/png": "[encoded data removed]",
      "text/plain": [
       "<Figure size 432x288 with 1 Axes>"
      ]
     },
     "metadata": {
      "needs_background": "light"
     },
     "output_type": "display_data"
    }
   ],
   "source": [
    "sns.barplot(x = ps['cabinClass'], y = ps['price'], data = ps)"
   ]
  },
  {
   "cell_type": "code",
   "execution_count": 100,
   "metadata": {},
   "outputs": [
    {
     "data": {
      "text/plain": [
       "cabinClass\n",
       "C    551.004677\n",
       "F    650.947357\n",
       "Y    157.715998\n",
       "Name: price, dtype: float64"
      ]
     },
     "execution_count": 100,
     "metadata": {},
     "output_type": "execute_result"
    }
   ],
   "source": [
    "ps.groupby('cabinClass').price.mean()"
   ]
  },
  {
   "cell_type": "markdown",
   "metadata": {},
   "source": [
    "Checking difference in price between days in advance ticket was purchased"
   ]
  },
  {
   "cell_type": "code",
   "execution_count": 42,
   "metadata": {
    "scrolled": true
   },
   "outputs": [
    {
     "data": {
      "text/plain": [
       "<matplotlib.axes._subplots.AxesSubplot at 0x1a30af40f0>"
      ]
     },
     "execution_count": 42,
     "metadata": {},
     "output_type": "execute_result"
    },
    {
     "data": {
      "image/png": "[encoded data removed]",
      "text/plain": [
       "<Figure size 432x288 with 1 Axes>"
      ]
     },
     "metadata": {
      "needs_background": "light"
     },
     "output_type": "display_data"
    }
   ],
   "source": [
    "sns.barplot(x = ps['dateDifference'], y = ps['price'], data = ps)"
   ]
  },
  {
   "cell_type": "markdown",
   "metadata": {},
   "source": [
    "Checking difference in price between different months flight departed"
   ]
  },
  {
   "cell_type": "code",
   "execution_count": 43,
   "metadata": {
    "scrolled": true
   },
   "outputs": [
    {
     "data": {
      "text/plain": [
       "<matplotlib.axes._subplots.AxesSubplot at 0x1a2fc68ef0>"
      ]
     },
     "execution_count": 43,
     "metadata": {},
     "output_type": "execute_result"
    },
    {
     "data": {
      "image/png": "[encoded data removed]",
      "text/plain": [
       "<Figure size 432x288 with 1 Axes>"
      ]
     },
     "metadata": {
      "needs_background": "light"
     },
     "output_type": "display_data"
    }
   ],
   "source": [
    "sns.barplot(x = ps['Month'], y = ps['price'], data = ps)"
   ]
  },
  {
   "cell_type": "markdown",
   "metadata": {},
   "source": [
    "Checking difference in price of ticket based off day of week flight departed"
   ]
  },
  {
   "cell_type": "code",
   "execution_count": 44,
   "metadata": {
    "scrolled": true
   },
   "outputs": [
    {
     "data": {
      "text/plain": [
       "<matplotlib.axes._subplots.AxesSubplot at 0x1a365c97f0>"
      ]
     },
     "execution_count": 44,
     "metadata": {},
     "output_type": "execute_result"
    },
    {
     "data": {
      "image/png": "[encoded data removed]",
      "text/plain": [
       "<Figure size 432x288 with 1 Axes>"
      ]
     },
     "metadata": {
      "needs_background": "light"
     },
     "output_type": "display_data"
    }
   ],
   "source": [
    "sns.barplot(x = ps['DOW'], y = ps['price'], data = ps)"
   ]
  },
  {
   "cell_type": "markdown",
   "metadata": {},
   "source": [
    "Checking difference in price based off time of day flight departed"
   ]
  },
  {
   "cell_type": "code",
   "execution_count": 45,
   "metadata": {
    "scrolled": true
   },
   "outputs": [
    {
     "data": {
      "text/plain": [
       "<matplotlib.axes._subplots.AxesSubplot at 0x1a2ec6af60>"
      ]
     },
     "execution_count": 45,
     "metadata": {},
     "output_type": "execute_result"
    },
    {
     "data": {
      "image/png": "[encoded data removed]",
      "text/plain": [
       "<Figure size 432x288 with 1 Axes>"
      ]
     },
     "metadata": {
      "needs_background": "light"
     },
     "output_type": "display_data"
    }
   ],
   "source": [
    "sns.barplot(x = ps['TODD'], y = ps['price'], data = ps)"
   ]
  },
  {
   "cell_type": "markdown",
   "metadata": {},
   "source": [
    "Checking difference in price based off month ticket was purchased"
   ]
  },
  {
   "cell_type": "code",
   "execution_count": 46,
   "metadata": {
    "scrolled": true
   },
   "outputs": [
    {
     "data": {
      "text/plain": [
       "<matplotlib.axes._subplots.AxesSubplot at 0x1a363aef28>"
      ]
     },
     "execution_count": 46,
     "metadata": {},
     "output_type": "execute_result"
    },
    {
     "data": {
      "image/png": "[encoded data removed]",
      "text/plain": [
       "<Figure size 432x288 with 1 Axes>"
      ]
     },
     "metadata": {
      "needs_background": "light"
     },
     "output_type": "display_data"
    }
   ],
   "source": [
    "sns.barplot(x = ps['MOPD'], y = ps['price'], data = ps)"
   ]
  },
  {
   "cell_type": "markdown",
   "metadata": {},
   "source": [
    "Checking difference in price based off day of week ticket was purchased"
   ]
  },
  {
   "cell_type": "code",
   "execution_count": 47,
   "metadata": {
    "scrolled": true
   },
   "outputs": [
    {
     "data": {
      "text/plain": [
       "<matplotlib.axes._subplots.AxesSubplot at 0x1a2fcd2e10>"
      ]
     },
     "execution_count": 47,
     "metadata": {},
     "output_type": "execute_result"
    },
    {
     "data": {
      "image/png": "[encoded data removed]",
      "text/plain": [
       "<Figure size 432x288 with 1 Axes>"
      ]
     },
     "metadata": {
      "needs_background": "light"
     },
     "output_type": "display_data"
    }
   ],
   "source": [
    "sns.barplot(x = ps['DOPD'], y = ps['price'], data = ps)"
   ]
  },
  {
   "cell_type": "markdown",
   "metadata": {},
   "source": [
    "Checking difference in price based off time of day ticket was purchased"
   ]
  },
  {
   "cell_type": "code",
   "execution_count": 48,
   "metadata": {
    "scrolled": true
   },
   "outputs": [
    {
     "data": {
      "text/plain": [
       "<matplotlib.axes._subplots.AxesSubplot at 0x1a3609c3c8>"
      ]
     },
     "execution_count": 48,
     "metadata": {},
     "output_type": "execute_result"
    },
    {
     "data": {
      "image/png": "[encoded data removed]",
      "text/plain": [
       "<Figure size 432x288 with 1 Axes>"
      ]
     },
     "metadata": {
      "needs_background": "light"
     },
     "output_type": "display_data"
    }
   ],
   "source": [
    "sns.barplot(x = ps['TOPD_L'], y = ps['price'], data = ps)"
   ]
  },
  {
   "cell_type": "markdown",
   "metadata": {},
   "source": [
    "#### Feature Engineering Part 2"
   ]
  },
  {
   "cell_type": "markdown",
   "metadata": {},
   "source": [
    "Creating dummies for Beijing to Shanghai data set"
   ]
  },
  {
   "cell_type": "code",
   "execution_count": 51,
   "metadata": {},
   "outputs": [],
   "source": [
    "dummies1 = pd.get_dummies(ps['TOPD_L'], prefix = 'TOPD_L', drop_first = True)"
   ]
  },
  {
   "cell_type": "code",
   "execution_count": 53,
   "metadata": {},
   "outputs": [],
   "source": [
    "dummies1['price'] = ps['price']"
   ]
  },
  {
   "cell_type": "code",
   "execution_count": null,
   "metadata": {},
   "outputs": [],
   "source": [
    "dummiesb = pd.get_dummies(ps['dateDifference'], prefix = 'dateDifference', drop_first =True)\n",
    "ps = pd.concat([ps,dummiesb], axis =1)"
   ]
  },
  {
   "cell_type": "code",
   "execution_count": null,
   "metadata": {},
   "outputs": [],
   "source": [
    "dummiesc = pd.get_dummies(ps['cabinClass'], prefix = 'cabinClass', drop_first = True)\n",
    "dummiesd = pd.get_dummies(ps['Month'], prefix = 'Month', drop_first = True)\n",
    "dummiese = pd.get_dummies(ps['DOW'], prefix = 'DOW', drop_first = True)\n",
    "dummiesf = pd.get_dummies(ps['TODD'], prefix = 'TODD', drop_first = True)\n",
    "ps = pd.concat([ps,dummiesc,dummiesd,dummiese,dummiesf], axis =1)"
   ]
  },
  {
   "cell_type": "markdown",
   "metadata": {},
   "source": [
    "Creating dummies for Shanghai to Beijing data set"
   ]
  },
  {
   "cell_type": "code",
   "execution_count": null,
   "metadata": {},
   "outputs": [],
   "source": [
    "dummies2 = pd.get_dummies(sp['TOPD_L'], prefix = 'TOPD_L', drop_first = True)"
   ]
  },
  {
   "cell_type": "code",
   "execution_count": 57,
   "metadata": {},
   "outputs": [],
   "source": [
    "dummies2['price'] = sp['price']"
   ]
  },
  {
   "cell_type": "code",
   "execution_count": 72,
   "metadata": {},
   "outputs": [
    {
     "data": {
      "text/html": [
       "<div>\n",
       "<style scoped>\n",
       "    .dataframe tbody tr th:only-of-type {\n",
       "        vertical-align: middle;\n",
       "    }\n",
       "\n",
       "    .dataframe tbody tr th {\n",
       "        vertical-align: top;\n",
       "    }\n",
       "\n",
       "    .dataframe thead th {\n",
       "        text-align: right;\n",
       "    }\n",
       "</style>\n",
       "<table border=\"1\" class=\"dataframe\">\n",
       "  <thead>\n",
       "    <tr style=\"text-align: right;\">\n",
       "      <th></th>\n",
       "      <th>traAirport</th>\n",
       "      <th>cabinClass</th>\n",
       "      <th>price</th>\n",
       "      <th>dateDifference</th>\n",
       "      <th>DD</th>\n",
       "      <th>Month</th>\n",
       "      <th>DOW</th>\n",
       "      <th>TOD</th>\n",
       "      <th>TODD</th>\n",
       "      <th>PD</th>\n",
       "      <th>...</th>\n",
       "      <th>DOPD</th>\n",
       "      <th>TOPD</th>\n",
       "      <th>TOPD_L</th>\n",
       "      <th>TOPDL_1</th>\n",
       "      <th>MOPD_02</th>\n",
       "      <th>MOPD_03</th>\n",
       "      <th>MOPD_04</th>\n",
       "      <th>MOPD_05</th>\n",
       "      <th>MOPD_06</th>\n",
       "      <th>MOPD_07</th>\n",
       "    </tr>\n",
       "  </thead>\n",
       "  <tbody>\n",
       "    <tr>\n",
       "      <td>19</td>\n",
       "      <td>0</td>\n",
       "      <td>C</td>\n",
       "      <td>218.4</td>\n",
       "      <td>0.0</td>\n",
       "      <td>2019-05-01</td>\n",
       "      <td>05</td>\n",
       "      <td>Wednesday</td>\n",
       "      <td>07:00:00</td>\n",
       "      <td>M</td>\n",
       "      <td>2019-05-01</td>\n",
       "      <td>...</td>\n",
       "      <td>Wednesday</td>\n",
       "      <td>02:07:00</td>\n",
       "      <td>EM</td>\n",
       "      <td>1</td>\n",
       "      <td>0</td>\n",
       "      <td>0</td>\n",
       "      <td>0</td>\n",
       "      <td>1</td>\n",
       "      <td>0</td>\n",
       "      <td>0</td>\n",
       "    </tr>\n",
       "    <tr>\n",
       "      <td>20</td>\n",
       "      <td>0</td>\n",
       "      <td>C</td>\n",
       "      <td>792.4</td>\n",
       "      <td>0.0</td>\n",
       "      <td>2019-05-01</td>\n",
       "      <td>05</td>\n",
       "      <td>Wednesday</td>\n",
       "      <td>07:00:00</td>\n",
       "      <td>M</td>\n",
       "      <td>2019-05-01</td>\n",
       "      <td>...</td>\n",
       "      <td>Wednesday</td>\n",
       "      <td>02:07:00</td>\n",
       "      <td>EM</td>\n",
       "      <td>1</td>\n",
       "      <td>0</td>\n",
       "      <td>0</td>\n",
       "      <td>0</td>\n",
       "      <td>1</td>\n",
       "      <td>0</td>\n",
       "      <td>0</td>\n",
       "    </tr>\n",
       "    <tr>\n",
       "      <td>21</td>\n",
       "      <td>0</td>\n",
       "      <td>C</td>\n",
       "      <td>291.2</td>\n",
       "      <td>0.0</td>\n",
       "      <td>2019-05-01</td>\n",
       "      <td>05</td>\n",
       "      <td>Wednesday</td>\n",
       "      <td>07:55:00</td>\n",
       "      <td>M</td>\n",
       "      <td>2019-05-01</td>\n",
       "      <td>...</td>\n",
       "      <td>Wednesday</td>\n",
       "      <td>02:07:00</td>\n",
       "      <td>EM</td>\n",
       "      <td>1</td>\n",
       "      <td>0</td>\n",
       "      <td>0</td>\n",
       "      <td>0</td>\n",
       "      <td>1</td>\n",
       "      <td>0</td>\n",
       "      <td>0</td>\n",
       "    </tr>\n",
       "    <tr>\n",
       "      <td>22</td>\n",
       "      <td>0</td>\n",
       "      <td>C</td>\n",
       "      <td>792.4</td>\n",
       "      <td>0.0</td>\n",
       "      <td>2019-05-01</td>\n",
       "      <td>05</td>\n",
       "      <td>Wednesday</td>\n",
       "      <td>07:55:00</td>\n",
       "      <td>M</td>\n",
       "      <td>2019-05-01</td>\n",
       "      <td>...</td>\n",
       "      <td>Wednesday</td>\n",
       "      <td>02:07:00</td>\n",
       "      <td>EM</td>\n",
       "      <td>1</td>\n",
       "      <td>0</td>\n",
       "      <td>0</td>\n",
       "      <td>0</td>\n",
       "      <td>1</td>\n",
       "      <td>0</td>\n",
       "      <td>0</td>\n",
       "    </tr>\n",
       "    <tr>\n",
       "      <td>23</td>\n",
       "      <td>0</td>\n",
       "      <td>C</td>\n",
       "      <td>218.4</td>\n",
       "      <td>0.0</td>\n",
       "      <td>2019-05-01</td>\n",
       "      <td>05</td>\n",
       "      <td>Wednesday</td>\n",
       "      <td>08:00:00</td>\n",
       "      <td>M</td>\n",
       "      <td>2019-05-01</td>\n",
       "      <td>...</td>\n",
       "      <td>Wednesday</td>\n",
       "      <td>02:07:00</td>\n",
       "      <td>EM</td>\n",
       "      <td>1</td>\n",
       "      <td>0</td>\n",
       "      <td>0</td>\n",
       "      <td>0</td>\n",
       "      <td>1</td>\n",
       "      <td>0</td>\n",
       "      <td>0</td>\n",
       "    </tr>\n",
       "  </tbody>\n",
       "</table>\n",
       "<p>5 rows × 21 columns</p>\n",
       "</div>"
      ],
      "text/plain": [
       "    traAirport cabinClass  price  dateDifference          DD Month        DOW  \\\n",
       "19           0          C  218.4             0.0  2019-05-01    05  Wednesday   \n",
       "20           0          C  792.4             0.0  2019-05-01    05  Wednesday   \n",
       "21           0          C  291.2             0.0  2019-05-01    05  Wednesday   \n",
       "22           0          C  792.4             0.0  2019-05-01    05  Wednesday   \n",
       "23           0          C  218.4             0.0  2019-05-01    05  Wednesday   \n",
       "\n",
       "         TOD TODD          PD  ...       DOPD      TOPD TOPD_L TOPDL_1  \\\n",
       "19  07:00:00    M  2019-05-01  ...  Wednesday  02:07:00     EM       1   \n",
       "20  07:00:00    M  2019-05-01  ...  Wednesday  02:07:00     EM       1   \n",
       "21  07:55:00    M  2019-05-01  ...  Wednesday  02:07:00     EM       1   \n",
       "22  07:55:00    M  2019-05-01  ...  Wednesday  02:07:00     EM       1   \n",
       "23  08:00:00    M  2019-05-01  ...  Wednesday  02:07:00     EM       1   \n",
       "\n",
       "    MOPD_02  MOPD_03  MOPD_04  MOPD_05  MOPD_06  MOPD_07  \n",
       "19        0        0        0        1        0        0  \n",
       "20        0        0        0        1        0        0  \n",
       "21        0        0        0        1        0        0  \n",
       "22        0        0        0        1        0        0  \n",
       "23        0        0        0        1        0        0  \n",
       "\n",
       "[5 rows x 21 columns]"
      ]
     },
     "execution_count": 72,
     "metadata": {},
     "output_type": "execute_result"
    }
   ],
   "source": [
    "\n",
    "dummiesMOPD = pd.get_dummies(sp['MOPD'], prefix = 'MOPD', drop_first = True)\n",
    "sp = pd.concat([sp,dummiesMOPD], axis =1)\n",
    "sp.head()"
   ]
  },
  {
   "cell_type": "code",
   "execution_count": 78,
   "metadata": {},
   "outputs": [],
   "source": [
    "sp['dateDifference'] = sp['dateDifference'].astype(int)\n",
    "\n",
    "\n",
    "dummiesdate_Diff = pd.get_dummies(sp['dateDifference'], prefix = 'dateDifference', drop_first = True)\n",
    "\n",
    "sp = pd.concat([sp,dummiesdate_Diff], axis = 1)\n"
   ]
  },
  {
   "cell_type": "code",
   "execution_count": 81,
   "metadata": {},
   "outputs": [],
   "source": [
    "dummiesg = pd.get_dummies(sp['cabinClass'], prefix = 'cabinClass', drop_first = True)\n",
    "dummiesh = pd.get_dummies(sp['Month'], prefix = 'Month', drop_first = True)\n",
    "dummiesi = pd.get_dummies(sp['DOW'], prefix = 'DOW', drop_first = True)\n",
    "dummiesj = pd.get_dummies(sp['TODD'], prefix = 'TODD', drop_first = True)\n",
    "sp = pd.concat([sp,dummiesg,dummiesh,dummiesi,dummiesj], axis =1)"
   ]
  },
  {
   "cell_type": "markdown",
   "metadata": {},
   "source": [
    "### Modeling"
   ]
  },
  {
   "cell_type": "markdown",
   "metadata": {},
   "source": [
    "#### Multiple Linear Regression Beijing-Shanghai"
   ]
  },
  {
   "cell_type": "code",
   "execution_count": 99,
   "metadata": {
    "scrolled": true
   },
   "outputs": [
    {
     "data": {
      "text/html": [
       "<table class=\"simpletable\">\n",
       "<caption>OLS Regression Results</caption>\n",
       "<tr>\n",
       "  <th>Dep. Variable:</th>          <td>price</td>      <th>  R-squared:         </th>  <td>   0.709</td>  \n",
       "</tr>\n",
       "<tr>\n",
       "  <th>Model:</th>                   <td>OLS</td>       <th>  Adj. R-squared:    </th>  <td>   0.709</td>  \n",
       "</tr>\n",
       "<tr>\n",
       "  <th>Method:</th>             <td>Least Squares</td>  <th>  F-statistic:       </th>  <td>2.715e+04</td> \n",
       "</tr>\n",
       "<tr>\n",
       "  <th>Date:</th>             <td>Tue, 25 Feb 2020</td> <th>  Prob (F-statistic):</th>   <td>  0.00</td>   \n",
       "</tr>\n",
       "<tr>\n",
       "  <th>Time:</th>                 <td>20:34:49</td>     <th>  Log-Likelihood:    </th> <td>-1.8937e+06</td>\n",
       "</tr>\n",
       "<tr>\n",
       "  <th>No. Observations:</th>      <td>300336</td>      <th>  AIC:               </th>  <td>3.787e+06</td> \n",
       "</tr>\n",
       "<tr>\n",
       "  <th>Df Residuals:</th>          <td>300308</td>      <th>  BIC:               </th>  <td>3.788e+06</td> \n",
       "</tr>\n",
       "<tr>\n",
       "  <th>Df Model:</th>              <td>    27</td>      <th>                     </th>      <td> </td>     \n",
       "</tr>\n",
       "<tr>\n",
       "  <th>Covariance Type:</th>      <td>nonrobust</td>    <th>                     </th>      <td> </td>     \n",
       "</tr>\n",
       "</table>\n",
       "<table class=\"simpletable\">\n",
       "<tr>\n",
       "          <td></td>             <th>coef</th>     <th>std err</th>      <th>t</th>      <th>P>|t|</th>  <th>[0.025</th>    <th>0.975]</th>  \n",
       "</tr>\n",
       "<tr>\n",
       "  <th>Intercept</th>         <td>  608.9742</td> <td>    1.180</td> <td>  516.139</td> <td> 0.000</td> <td>  606.662</td> <td>  611.287</td>\n",
       "</tr>\n",
       "<tr>\n",
       "  <th>traAirport</th>        <td>  -14.2648</td> <td>    1.773</td> <td>   -8.048</td> <td> 0.000</td> <td>  -17.739</td> <td>  -10.791</td>\n",
       "</tr>\n",
       "<tr>\n",
       "  <th>TOPDL_1</th>           <td>   -2.4069</td> <td>    0.835</td> <td>   -2.882</td> <td> 0.004</td> <td>   -4.044</td> <td>   -0.770</td>\n",
       "</tr>\n",
       "<tr>\n",
       "  <th>dateDifference_2</th>  <td>   -2.9319</td> <td>    0.923</td> <td>   -3.176</td> <td> 0.001</td> <td>   -4.741</td> <td>   -1.122</td>\n",
       "</tr>\n",
       "<tr>\n",
       "  <th>dateDifference_3</th>  <td>  -12.1391</td> <td>    0.911</td> <td>  -13.330</td> <td> 0.000</td> <td>  -13.924</td> <td>  -10.354</td>\n",
       "</tr>\n",
       "<tr>\n",
       "  <th>dateDifference_4</th>  <td>  -13.4668</td> <td>    1.191</td> <td>  -11.308</td> <td> 0.000</td> <td>  -15.801</td> <td>  -11.133</td>\n",
       "</tr>\n",
       "<tr>\n",
       "  <th>dateDifference_5</th>  <td>  -13.7362</td> <td>    0.916</td> <td>  -15.000</td> <td> 0.000</td> <td>  -15.531</td> <td>  -11.941</td>\n",
       "</tr>\n",
       "<tr>\n",
       "  <th>dateDifference_6</th>  <td>  -19.0919</td> <td>    1.198</td> <td>  -15.931</td> <td> 0.000</td> <td>  -21.441</td> <td>  -16.743</td>\n",
       "</tr>\n",
       "<tr>\n",
       "  <th>dateDifference_7</th>  <td>  -20.2538</td> <td>    0.917</td> <td>  -22.078</td> <td> 0.000</td> <td>  -22.052</td> <td>  -18.456</td>\n",
       "</tr>\n",
       "<tr>\n",
       "  <th>dateDifference_15</th> <td>  -17.5924</td> <td>    1.117</td> <td>  -15.756</td> <td> 0.000</td> <td>  -19.781</td> <td>  -15.404</td>\n",
       "</tr>\n",
       "<tr>\n",
       "  <th>dateDifference_30</th> <td>   -9.3129</td> <td>    1.210</td> <td>   -7.696</td> <td> 0.000</td> <td>  -11.685</td> <td>   -6.941</td>\n",
       "</tr>\n",
       "<tr>\n",
       "  <th>cabinClass_F</th>      <td>  106.1013</td> <td>    0.904</td> <td>  117.433</td> <td> 0.000</td> <td>  104.330</td> <td>  107.872</td>\n",
       "</tr>\n",
       "<tr>\n",
       "  <th>cabinClass_Y</th>      <td> -389.6987</td> <td>    0.573</td> <td> -679.892</td> <td> 0.000</td> <td> -390.822</td> <td> -388.575</td>\n",
       "</tr>\n",
       "<tr>\n",
       "  <th>Month_02</th>          <td>  -20.4501</td> <td>    0.755</td> <td>  -27.103</td> <td> 0.000</td> <td>  -21.929</td> <td>  -18.971</td>\n",
       "</tr>\n",
       "<tr>\n",
       "  <th>Month_03</th>          <td>   -2.5988</td> <td>    0.812</td> <td>   -3.199</td> <td> 0.001</td> <td>   -4.191</td> <td>   -1.007</td>\n",
       "</tr>\n",
       "<tr>\n",
       "  <th>Month_04</th>          <td>   20.4982</td> <td>    1.141</td> <td>   17.968</td> <td> 0.000</td> <td>   18.262</td> <td>   22.734</td>\n",
       "</tr>\n",
       "<tr>\n",
       "  <th>Month_05</th>          <td>    9.0196</td> <td>    1.049</td> <td>    8.601</td> <td> 0.000</td> <td>    6.964</td> <td>   11.075</td>\n",
       "</tr>\n",
       "<tr>\n",
       "  <th>Month_06</th>          <td>   -1.9352</td> <td>    1.016</td> <td>   -1.904</td> <td> 0.057</td> <td>   -3.927</td> <td>    0.057</td>\n",
       "</tr>\n",
       "<tr>\n",
       "  <th>Month_07</th>          <td>   -0.0585</td> <td>    0.977</td> <td>   -0.060</td> <td> 0.952</td> <td>   -1.973</td> <td>    1.856</td>\n",
       "</tr>\n",
       "<tr>\n",
       "  <th>Month_08</th>          <td>    1.8521</td> <td>    2.264</td> <td>    0.818</td> <td> 0.413</td> <td>   -2.586</td> <td>    6.290</td>\n",
       "</tr>\n",
       "<tr>\n",
       "  <th>DOW_Monday</th>        <td>  -40.2094</td> <td>    0.917</td> <td>  -43.863</td> <td> 0.000</td> <td>  -42.006</td> <td>  -38.413</td>\n",
       "</tr>\n",
       "<tr>\n",
       "  <th>DOW_Saturday</th>      <td>  -62.7137</td> <td>    0.907</td> <td>  -69.115</td> <td> 0.000</td> <td>  -64.492</td> <td>  -60.935</td>\n",
       "</tr>\n",
       "<tr>\n",
       "  <th>DOW_Sunday</th>        <td>  -35.1752</td> <td>    0.914</td> <td>  -38.476</td> <td> 0.000</td> <td>  -36.967</td> <td>  -33.383</td>\n",
       "</tr>\n",
       "<tr>\n",
       "  <th>DOW_Thursday</th>      <td>   -8.6472</td> <td>    0.915</td> <td>   -9.451</td> <td> 0.000</td> <td>  -10.440</td> <td>   -6.854</td>\n",
       "</tr>\n",
       "<tr>\n",
       "  <th>DOW_Tuesday</th>       <td>  -20.2425</td> <td>    0.921</td> <td>  -21.969</td> <td> 0.000</td> <td>  -22.048</td> <td>  -18.437</td>\n",
       "</tr>\n",
       "<tr>\n",
       "  <th>DOW_Wednesday</th>     <td>   -9.5194</td> <td>    0.915</td> <td>  -10.405</td> <td> 0.000</td> <td>  -11.313</td> <td>   -7.726</td>\n",
       "</tr>\n",
       "<tr>\n",
       "  <th>TODD_M</th>            <td>  -36.1893</td> <td>    0.567</td> <td>  -63.834</td> <td> 0.000</td> <td>  -37.300</td> <td>  -35.078</td>\n",
       "</tr>\n",
       "<tr>\n",
       "  <th>TODD_N</th>            <td>  -22.2153</td> <td>    0.638</td> <td>  -34.831</td> <td> 0.000</td> <td>  -23.465</td> <td>  -20.965</td>\n",
       "</tr>\n",
       "</table>\n",
       "<table class=\"simpletable\">\n",
       "<tr>\n",
       "  <th>Omnibus:</th>       <td>11782.132</td> <th>  Durbin-Watson:     </th> <td>   2.931</td> \n",
       "</tr>\n",
       "<tr>\n",
       "  <th>Prob(Omnibus):</th>  <td> 0.000</td>   <th>  Jarque-Bera (JB):  </th> <td>16154.579</td>\n",
       "</tr>\n",
       "<tr>\n",
       "  <th>Skew:</th>           <td>-0.404</td>   <th>  Prob(JB):          </th> <td>    0.00</td> \n",
       "</tr>\n",
       "<tr>\n",
       "  <th>Kurtosis:</th>       <td> 3.799</td>   <th>  Cond. No.          </th> <td>    14.9</td> \n",
       "</tr>\n",
       "</table><br/><br/>Warnings:<br/>[1] Standard Errors assume that the covariance matrix of the errors is correctly specified."
      ],
      "text/plain": [
       "<class 'statsmodels.iolib.summary.Summary'>\n",
       "\"\"\"\n",
       "                            OLS Regression Results                            \n",
       "==============================================================================\n",
       "Dep. Variable:                  price   R-squared:                       0.709\n",
       "Model:                            OLS   Adj. R-squared:                  0.709\n",
       "Method:                 Least Squares   F-statistic:                 2.715e+04\n",
       "Date:                Tue, 25 Feb 2020   Prob (F-statistic):               0.00\n",
       "Time:                        20:34:49   Log-Likelihood:            -1.8937e+06\n",
       "No. Observations:              300336   AIC:                         3.787e+06\n",
       "Df Residuals:                  300308   BIC:                         3.788e+06\n",
       "Df Model:                          27                                         \n",
       "Covariance Type:            nonrobust                                         \n",
       "=====================================================================================\n",
       "                        coef    std err          t      P>|t|      [0.025      0.975]\n",
       "-------------------------------------------------------------------------------------\n",
       "Intercept           608.9742      1.180    516.139      0.000     606.662     611.287\n",
       "traAirport          -14.2648      1.773     -8.048      0.000     -17.739     -10.791\n",
       "TOPDL_1              -2.4069      0.835     -2.882      0.004      -4.044      -0.770\n",
       "dateDifference_2     -2.9319      0.923     -3.176      0.001      -4.741      -1.122\n",
       "dateDifference_3    -12.1391      0.911    -13.330      0.000     -13.924     -10.354\n",
       "dateDifference_4    -13.4668      1.191    -11.308      0.000     -15.801     -11.133\n",
       "dateDifference_5    -13.7362      0.916    -15.000      0.000     -15.531     -11.941\n",
       "dateDifference_6    -19.0919      1.198    -15.931      0.000     -21.441     -16.743\n",
       "dateDifference_7    -20.2538      0.917    -22.078      0.000     -22.052     -18.456\n",
       "dateDifference_15   -17.5924      1.117    -15.756      0.000     -19.781     -15.404\n",
       "dateDifference_30    -9.3129      1.210     -7.696      0.000     -11.685      -6.941\n",
       "cabinClass_F        106.1013      0.904    117.433      0.000     104.330     107.872\n",
       "cabinClass_Y       -389.6987      0.573   -679.892      0.000    -390.822    -388.575\n",
       "Month_02            -20.4501      0.755    -27.103      0.000     -21.929     -18.971\n",
       "Month_03             -2.5988      0.812     -3.199      0.001      -4.191      -1.007\n",
       "Month_04             20.4982      1.141     17.968      0.000      18.262      22.734\n",
       "Month_05              9.0196      1.049      8.601      0.000       6.964      11.075\n",
       "Month_06             -1.9352      1.016     -1.904      0.057      -3.927       0.057\n",
       "Month_07             -0.0585      0.977     -0.060      0.952      -1.973       1.856\n",
       "Month_08              1.8521      2.264      0.818      0.413      -2.586       6.290\n",
       "DOW_Monday          -40.2094      0.917    -43.863      0.000     -42.006     -38.413\n",
       "DOW_Saturday        -62.7137      0.907    -69.115      0.000     -64.492     -60.935\n",
       "DOW_Sunday          -35.1752      0.914    -38.476      0.000     -36.967     -33.383\n",
       "DOW_Thursday         -8.6472      0.915     -9.451      0.000     -10.440      -6.854\n",
       "DOW_Tuesday         -20.2425      0.921    -21.969      0.000     -22.048     -18.437\n",
       "DOW_Wednesday        -9.5194      0.915    -10.405      0.000     -11.313      -7.726\n",
       "TODD_M              -36.1893      0.567    -63.834      0.000     -37.300     -35.078\n",
       "TODD_N              -22.2153      0.638    -34.831      0.000     -23.465     -20.965\n",
       "==============================================================================\n",
       "Omnibus:                    11782.132   Durbin-Watson:                   2.931\n",
       "Prob(Omnibus):                  0.000   Jarque-Bera (JB):            16154.579\n",
       "Skew:                          -0.404   Prob(JB):                         0.00\n",
       "Kurtosis:                       3.799   Cond. No.                         14.9\n",
       "==============================================================================\n",
       "\n",
       "Warnings:\n",
       "[1] Standard Errors assume that the covariance matrix of the errors is correctly specified.\n",
       "\"\"\""
      ]
     },
     "execution_count": 99,
     "metadata": {},
     "output_type": "execute_result"
    }
   ],
   "source": [
    "outcome = 'price'\n",
    "predictors = finalps.drop('price', axis =1)\n",
    "predictors.drop(['MOPD_02','MOPD_03','MOPD_04','MOPD_05','MOPD_06','MOPD_07'], axis = 1, inplace=True)\n",
    "pred_sum = '+'.join(predictors.columns)\n",
    "formula = outcome +'~'+ pred_sum\n",
    "model = ols(formula = formula, data = finalps).fit()\n",
    "model.summary()"
   ]
  },
  {
   "cell_type": "markdown",
   "metadata": {},
   "source": [
    "Insights on Feature impacted Flight Prices from Beijing to Shanghai: <br>\n",
    "Choosing to fly with a layover saves you \\\\$14 dollars. <br>\n",
    "You will save on average \\\\$18 by purchase your ticket 6, 7, or 15 days in advance. <br>\n",
    "February is the cheapest month to fly in with \\\\$20 worth of savings, while April is the most expensive month to fly in with an additional cost of \\\\$20. <br>\n",
    "Departing on Monday, Saturday and Sunday will save you on average \\\\$40. <br>\n",
    "The cheapest time of day to fly is from 6 AM to Noon and will save you \\\\$36. <br>"
   ]
  },
  {
   "cell_type": "markdown",
   "metadata": {},
   "source": [
    "#### Multiple Linear Regression Shanghai-Beijing"
   ]
  },
  {
   "cell_type": "code",
   "execution_count": 98,
   "metadata": {
    "scrolled": true
   },
   "outputs": [
    {
     "data": {
      "text/html": [
       "<table class=\"simpletable\">\n",
       "<caption>OLS Regression Results</caption>\n",
       "<tr>\n",
       "  <th>Dep. Variable:</th>          <td>price</td>      <th>  R-squared:         </th>  <td>   0.702</td>  \n",
       "</tr>\n",
       "<tr>\n",
       "  <th>Model:</th>                   <td>OLS</td>       <th>  Adj. R-squared:    </th>  <td>   0.702</td>  \n",
       "</tr>\n",
       "<tr>\n",
       "  <th>Method:</th>             <td>Least Squares</td>  <th>  F-statistic:       </th>  <td>1.974e+04</td> \n",
       "</tr>\n",
       "<tr>\n",
       "  <th>Date:</th>             <td>Tue, 25 Feb 2020</td> <th>  Prob (F-statistic):</th>   <td>  0.00</td>   \n",
       "</tr>\n",
       "<tr>\n",
       "  <th>Time:</th>                 <td>20:31:18</td>     <th>  Log-Likelihood:    </th> <td>-1.6941e+06</td>\n",
       "</tr>\n",
       "<tr>\n",
       "  <th>No. Observations:</th>      <td>268524</td>      <th>  AIC:               </th>  <td>3.388e+06</td> \n",
       "</tr>\n",
       "<tr>\n",
       "  <th>Df Residuals:</th>          <td>268491</td>      <th>  BIC:               </th>  <td>3.389e+06</td> \n",
       "</tr>\n",
       "<tr>\n",
       "  <th>Df Model:</th>              <td>    32</td>      <th>                     </th>      <td> </td>     \n",
       "</tr>\n",
       "<tr>\n",
       "  <th>Covariance Type:</th>      <td>nonrobust</td>    <th>                     </th>      <td> </td>     \n",
       "</tr>\n",
       "</table>\n",
       "<table class=\"simpletable\">\n",
       "<tr>\n",
       "          <td></td>             <th>coef</th>     <th>std err</th>      <th>t</th>      <th>P>|t|</th>  <th>[0.025</th>    <th>0.975]</th>  \n",
       "</tr>\n",
       "<tr>\n",
       "  <th>Intercept</th>         <td>  601.4816</td> <td>    2.334</td> <td>  257.659</td> <td> 0.000</td> <td>  596.906</td> <td>  606.057</td>\n",
       "</tr>\n",
       "<tr>\n",
       "  <th>traAirport</th>        <td>  -30.5491</td> <td>    1.891</td> <td>  -16.153</td> <td> 0.000</td> <td>  -34.256</td> <td>  -26.842</td>\n",
       "</tr>\n",
       "<tr>\n",
       "  <th>TOPDL_1</th>           <td>   -3.2974</td> <td>    0.912</td> <td>   -3.615</td> <td> 0.000</td> <td>   -5.085</td> <td>   -1.509</td>\n",
       "</tr>\n",
       "<tr>\n",
       "  <th>dateDifference_1</th>  <td>   -3.4726</td> <td>    2.162</td> <td>   -1.606</td> <td> 0.108</td> <td>   -7.709</td> <td>    0.764</td>\n",
       "</tr>\n",
       "<tr>\n",
       "  <th>dateDifference_2</th>  <td>   -6.4332</td> <td>    2.162</td> <td>   -2.975</td> <td> 0.003</td> <td>  -10.671</td> <td>   -2.195</td>\n",
       "</tr>\n",
       "<tr>\n",
       "  <th>dateDifference_3</th>  <td>  -14.7124</td> <td>    2.209</td> <td>   -6.659</td> <td> 0.000</td> <td>  -19.042</td> <td>  -10.382</td>\n",
       "</tr>\n",
       "<tr>\n",
       "  <th>dateDifference_4</th>  <td>  -13.8759</td> <td>    2.204</td> <td>   -6.296</td> <td> 0.000</td> <td>  -18.196</td> <td>   -9.556</td>\n",
       "</tr>\n",
       "<tr>\n",
       "  <th>dateDifference_5</th>  <td>  -16.4285</td> <td>    2.205</td> <td>   -7.451</td> <td> 0.000</td> <td>  -20.750</td> <td>  -12.107</td>\n",
       "</tr>\n",
       "<tr>\n",
       "  <th>dateDifference_6</th>  <td>  -23.4022</td> <td>    2.202</td> <td>  -10.628</td> <td> 0.000</td> <td>  -27.718</td> <td>  -19.087</td>\n",
       "</tr>\n",
       "<tr>\n",
       "  <th>dateDifference_7</th>  <td>  -23.4167</td> <td>    2.215</td> <td>  -10.570</td> <td> 0.000</td> <td>  -27.759</td> <td>  -19.075</td>\n",
       "</tr>\n",
       "<tr>\n",
       "  <th>dateDifference_13</th> <td>  -22.0310</td> <td>    7.297</td> <td>   -3.019</td> <td> 0.003</td> <td>  -36.333</td> <td>   -7.729</td>\n",
       "</tr>\n",
       "<tr>\n",
       "  <th>dateDifference_14</th> <td>  -19.4022</td> <td>    2.564</td> <td>   -7.568</td> <td> 0.000</td> <td>  -24.427</td> <td>  -14.378</td>\n",
       "</tr>\n",
       "<tr>\n",
       "  <th>dateDifference_15</th> <td>  -22.3663</td> <td>    2.374</td> <td>   -9.423</td> <td> 0.000</td> <td>  -27.018</td> <td>  -17.714</td>\n",
       "</tr>\n",
       "<tr>\n",
       "  <th>dateDifference_28</th> <td>  -15.4958</td> <td>    7.899</td> <td>   -1.962</td> <td> 0.050</td> <td>  -30.977</td> <td>   -0.014</td>\n",
       "</tr>\n",
       "<tr>\n",
       "  <th>dateDifference_29</th> <td>  -15.7286</td> <td>    2.639</td> <td>   -5.961</td> <td> 0.000</td> <td>  -20.900</td> <td>  -10.557</td>\n",
       "</tr>\n",
       "<tr>\n",
       "  <th>dateDifference_30</th> <td>  -15.7486</td> <td>    2.513</td> <td>   -6.267</td> <td> 0.000</td> <td>  -20.674</td> <td>  -10.824</td>\n",
       "</tr>\n",
       "<tr>\n",
       "  <th>cabinClass_F</th>      <td>  106.9347</td> <td>    0.953</td> <td>  112.221</td> <td> 0.000</td> <td>  105.067</td> <td>  108.802</td>\n",
       "</tr>\n",
       "<tr>\n",
       "  <th>cabinClass_Y</th>      <td> -385.3642</td> <td>    0.615</td> <td> -626.764</td> <td> 0.000</td> <td> -386.569</td> <td> -384.159</td>\n",
       "</tr>\n",
       "<tr>\n",
       "  <th>Month_02</th>          <td>  -40.8468</td> <td>    0.782</td> <td>  -52.244</td> <td> 0.000</td> <td>  -42.379</td> <td>  -39.314</td>\n",
       "</tr>\n",
       "<tr>\n",
       "  <th>Month_03</th>          <td>  -10.8487</td> <td>    0.836</td> <td>  -12.972</td> <td> 0.000</td> <td>  -12.488</td> <td>   -9.210</td>\n",
       "</tr>\n",
       "<tr>\n",
       "  <th>Month_04</th>          <td>   16.4253</td> <td>    1.430</td> <td>   11.487</td> <td> 0.000</td> <td>   13.623</td> <td>   19.228</td>\n",
       "</tr>\n",
       "<tr>\n",
       "  <th>Month_05</th>          <td>    0.6228</td> <td>    1.150</td> <td>    0.542</td> <td> 0.588</td> <td>   -1.631</td> <td>    2.877</td>\n",
       "</tr>\n",
       "<tr>\n",
       "  <th>Month_06</th>          <td>  -13.1502</td> <td>    1.104</td> <td>  -11.916</td> <td> 0.000</td> <td>  -15.313</td> <td>  -10.987</td>\n",
       "</tr>\n",
       "<tr>\n",
       "  <th>Month_07</th>          <td>   -8.8631</td> <td>    1.101</td> <td>   -8.048</td> <td> 0.000</td> <td>  -11.021</td> <td>   -6.705</td>\n",
       "</tr>\n",
       "<tr>\n",
       "  <th>Month_08</th>          <td>  -12.6890</td> <td>    2.640</td> <td>   -4.807</td> <td> 0.000</td> <td>  -17.863</td> <td>   -7.515</td>\n",
       "</tr>\n",
       "<tr>\n",
       "  <th>DOW_Monday</th>        <td>  -26.6059</td> <td>    0.978</td> <td>  -27.197</td> <td> 0.000</td> <td>  -28.523</td> <td>  -24.689</td>\n",
       "</tr>\n",
       "<tr>\n",
       "  <th>DOW_Saturday</th>      <td>  -37.6011</td> <td>    0.975</td> <td>  -38.581</td> <td> 0.000</td> <td>  -39.511</td> <td>  -35.691</td>\n",
       "</tr>\n",
       "<tr>\n",
       "  <th>DOW_Sunday</th>        <td>  -20.8408</td> <td>    0.969</td> <td>  -21.503</td> <td> 0.000</td> <td>  -22.740</td> <td>  -18.941</td>\n",
       "</tr>\n",
       "<tr>\n",
       "  <th>DOW_Thursday</th>      <td>   -3.8718</td> <td>    0.973</td> <td>   -3.978</td> <td> 0.000</td> <td>   -5.780</td> <td>   -1.964</td>\n",
       "</tr>\n",
       "<tr>\n",
       "  <th>DOW_Tuesday</th>       <td>  -20.2660</td> <td>    0.985</td> <td>  -20.569</td> <td> 0.000</td> <td>  -22.197</td> <td>  -18.335</td>\n",
       "</tr>\n",
       "<tr>\n",
       "  <th>DOW_Wednesday</th>     <td>   -6.7154</td> <td>    0.974</td> <td>   -6.894</td> <td> 0.000</td> <td>   -8.625</td> <td>   -4.806</td>\n",
       "</tr>\n",
       "<tr>\n",
       "  <th>TODD_M</th>            <td>   -5.4217</td> <td>    0.606</td> <td>   -8.940</td> <td> 0.000</td> <td>   -6.610</td> <td>   -4.233</td>\n",
       "</tr>\n",
       "<tr>\n",
       "  <th>TODD_N</th>            <td>  -28.8114</td> <td>    0.647</td> <td>  -44.507</td> <td> 0.000</td> <td>  -30.080</td> <td>  -27.543</td>\n",
       "</tr>\n",
       "</table>\n",
       "<table class=\"simpletable\">\n",
       "<tr>\n",
       "  <th>Omnibus:</th>       <td>9024.657</td> <th>  Durbin-Watson:     </th> <td>   2.871</td> \n",
       "</tr>\n",
       "<tr>\n",
       "  <th>Prob(Omnibus):</th>  <td> 0.000</td>  <th>  Jarque-Bera (JB):  </th> <td>11736.599</td>\n",
       "</tr>\n",
       "<tr>\n",
       "  <th>Skew:</th>           <td>-0.379</td>  <th>  Prob(JB):          </th> <td>    0.00</td> \n",
       "</tr>\n",
       "<tr>\n",
       "  <th>Kurtosis:</th>       <td> 3.688</td>  <th>  Cond. No.          </th> <td>    49.4</td> \n",
       "</tr>\n",
       "</table><br/><br/>Warnings:<br/>[1] Standard Errors assume that the covariance matrix of the errors is correctly specified."
      ],
      "text/plain": [
       "<class 'statsmodels.iolib.summary.Summary'>\n",
       "\"\"\"\n",
       "                            OLS Regression Results                            \n",
       "==============================================================================\n",
       "Dep. Variable:                  price   R-squared:                       0.702\n",
       "Model:                            OLS   Adj. R-squared:                  0.702\n",
       "Method:                 Least Squares   F-statistic:                 1.974e+04\n",
       "Date:                Tue, 25 Feb 2020   Prob (F-statistic):               0.00\n",
       "Time:                        20:31:18   Log-Likelihood:            -1.6941e+06\n",
       "No. Observations:              268524   AIC:                         3.388e+06\n",
       "Df Residuals:                  268491   BIC:                         3.389e+06\n",
       "Df Model:                          32                                         \n",
       "Covariance Type:            nonrobust                                         \n",
       "=====================================================================================\n",
       "                        coef    std err          t      P>|t|      [0.025      0.975]\n",
       "-------------------------------------------------------------------------------------\n",
       "Intercept           601.4816      2.334    257.659      0.000     596.906     606.057\n",
       "traAirport          -30.5491      1.891    -16.153      0.000     -34.256     -26.842\n",
       "TOPDL_1              -3.2974      0.912     -3.615      0.000      -5.085      -1.509\n",
       "dateDifference_1     -3.4726      2.162     -1.606      0.108      -7.709       0.764\n",
       "dateDifference_2     -6.4332      2.162     -2.975      0.003     -10.671      -2.195\n",
       "dateDifference_3    -14.7124      2.209     -6.659      0.000     -19.042     -10.382\n",
       "dateDifference_4    -13.8759      2.204     -6.296      0.000     -18.196      -9.556\n",
       "dateDifference_5    -16.4285      2.205     -7.451      0.000     -20.750     -12.107\n",
       "dateDifference_6    -23.4022      2.202    -10.628      0.000     -27.718     -19.087\n",
       "dateDifference_7    -23.4167      2.215    -10.570      0.000     -27.759     -19.075\n",
       "dateDifference_13   -22.0310      7.297     -3.019      0.003     -36.333      -7.729\n",
       "dateDifference_14   -19.4022      2.564     -7.568      0.000     -24.427     -14.378\n",
       "dateDifference_15   -22.3663      2.374     -9.423      0.000     -27.018     -17.714\n",
       "dateDifference_28   -15.4958      7.899     -1.962      0.050     -30.977      -0.014\n",
       "dateDifference_29   -15.7286      2.639     -5.961      0.000     -20.900     -10.557\n",
       "dateDifference_30   -15.7486      2.513     -6.267      0.000     -20.674     -10.824\n",
       "cabinClass_F        106.9347      0.953    112.221      0.000     105.067     108.802\n",
       "cabinClass_Y       -385.3642      0.615   -626.764      0.000    -386.569    -384.159\n",
       "Month_02            -40.8468      0.782    -52.244      0.000     -42.379     -39.314\n",
       "Month_03            -10.8487      0.836    -12.972      0.000     -12.488      -9.210\n",
       "Month_04             16.4253      1.430     11.487      0.000      13.623      19.228\n",
       "Month_05              0.6228      1.150      0.542      0.588      -1.631       2.877\n",
       "Month_06            -13.1502      1.104    -11.916      0.000     -15.313     -10.987\n",
       "Month_07             -8.8631      1.101     -8.048      0.000     -11.021      -6.705\n",
       "Month_08            -12.6890      2.640     -4.807      0.000     -17.863      -7.515\n",
       "DOW_Monday          -26.6059      0.978    -27.197      0.000     -28.523     -24.689\n",
       "DOW_Saturday        -37.6011      0.975    -38.581      0.000     -39.511     -35.691\n",
       "DOW_Sunday          -20.8408      0.969    -21.503      0.000     -22.740     -18.941\n",
       "DOW_Thursday         -3.8718      0.973     -3.978      0.000      -5.780      -1.964\n",
       "DOW_Tuesday         -20.2660      0.985    -20.569      0.000     -22.197     -18.335\n",
       "DOW_Wednesday        -6.7154      0.974     -6.894      0.000      -8.625      -4.806\n",
       "TODD_M               -5.4217      0.606     -8.940      0.000      -6.610      -4.233\n",
       "TODD_N              -28.8114      0.647    -44.507      0.000     -30.080     -27.543\n",
       "==============================================================================\n",
       "Omnibus:                     9024.657   Durbin-Watson:                   2.871\n",
       "Prob(Omnibus):                  0.000   Jarque-Bera (JB):            11736.599\n",
       "Skew:                          -0.379   Prob(JB):                         0.00\n",
       "Kurtosis:                       3.688   Cond. No.                         49.4\n",
       "==============================================================================\n",
       "\n",
       "Warnings:\n",
       "[1] Standard Errors assume that the covariance matrix of the errors is correctly specified.\n",
       "\"\"\""
      ]
     },
     "execution_count": 98,
     "metadata": {},
     "output_type": "execute_result"
    }
   ],
   "source": [
    "outcome1 = 'price'\n",
    "predictors1 = finalsp.drop('price', axis =1)\n",
    "predictors1.drop(['MOPD_02','MOPD_03','MOPD_04','MOPD_05','MOPD_06','MOPD_07'], axis = 1, inplace=True)\n",
    "pred_sum1 = '+'.join(predictors1.columns)\n",
    "formula1 = outcome1 +'~'+ pred_sum1\n",
    "model1 = ols(formula = formula1, data = finalsp).fit()\n",
    "model1.summary()"
   ]
  },
  {
   "cell_type": "markdown",
   "metadata": {},
   "source": [
    "Insights on Feature impacted Flight Prices from Shanghai to Beijing: <br>\n",
    "Choosing to fly with a layover saves you \\\\$30 dollars. <br>\n",
    "You will save on average \\\\$20 by purchase your ticket 6 to 30 days in advance. <br>\n",
    "February is the cheapest month to fly in with \\\\$40 worth of savings, while April is the most expensive month to fly in with an additional cost of \\\\$16. <br>\n",
    "Departing on Monday, Saturday and Sunday will save you on average \\\\$30. <br>\n",
    "The cheapest time of day to fly is from 6 PM to Midnight and will save you \\\\$28. <br>"
   ]
  },
  {
   "cell_type": "code",
   "execution_count": null,
   "metadata": {},
   "outputs": [],
   "source": []
  }
 ],
 "metadata": {
  "kernelspec": {
   "display_name": "Python 3",
   "language": "python",
   "name": "python3"
  },
  "language_info": {
   "codemirror_mode": {
    "name": "ipython",
    "version": 3
   },
   "file_extension": ".py",
   "mimetype": "text/x-python",
   "name": "python",
   "nbconvert_exporter": "python",
   "pygments_lexer": "ipython3",
   "version": "3.6.9"
  },
  "toc": {
   "base_numbering": 1,
   "nav_menu": {},
   "number_sections": true,
   "sideBar": true,
   "skip_h1_title": false,
   "title_cell": "Table of Contents",
   "title_sidebar": "Contents",
   "toc_cell": false,
   "toc_position": {},
   "toc_section_display": true,
   "toc_window_display": false
  }
 },
 "nbformat": 4,
 "nbformat_minor": 2
}
