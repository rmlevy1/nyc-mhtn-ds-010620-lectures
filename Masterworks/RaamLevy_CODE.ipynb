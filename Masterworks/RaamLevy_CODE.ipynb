{
 "cells": [
  {
   "cell_type": "code",
   "execution_count": 1,
   "metadata": {},
   "outputs": [
    {
     "data": {
      "text/html": [
       "<style type=\"text/css\">\n",
       "table.dataframe td, table.dataframe th {\n",
       "    border: 1px  black solid !important;\n",
       "  color: black !important;\n",
       "}\n"
      ],
      "text/plain": [
       "<IPython.core.display.HTML object>"
      ]
     },
     "metadata": {},
     "output_type": "display_data"
    }
   ],
   "source": [
    "%%HTML\n",
    "<style type=\"text/css\">\n",
    "table.dataframe td, table.dataframe th {\n",
    "    border: 1px  black solid !important;\n",
    "  color: black !important;\n",
    "}"
   ]
  },
  {
   "cell_type": "code",
   "execution_count": 2,
   "metadata": {},
   "outputs": [],
   "source": [
    "import pandas as pd"
   ]
  },
  {
   "cell_type": "code",
   "execution_count": 3,
   "metadata": {
    "scrolled": true
   },
   "outputs": [
    {
     "data": {
      "text/html": [
       "<div>\n",
       "<style scoped>\n",
       "    .dataframe tbody tr th:only-of-type {\n",
       "        vertical-align: middle;\n",
       "    }\n",
       "\n",
       "    .dataframe tbody tr th {\n",
       "        vertical-align: top;\n",
       "    }\n",
       "\n",
       "    .dataframe thead th {\n",
       "        text-align: right;\n",
       "    }\n",
       "</style>\n",
       "<table border=\"1\" class=\"dataframe\">\n",
       "  <thead>\n",
       "    <tr style=\"text-align: right;\">\n",
       "      <th></th>\n",
       "      <th>Artist Name</th>\n",
       "      <th>Artwork Title</th>\n",
       "      <th>Second Sale Date</th>\n",
       "      <th>Second Auction House</th>\n",
       "      <th>Second Low &amp; High Estimates (M)</th>\n",
       "      <th>Second Realized Price (M)</th>\n",
       "      <th>Second Currency of Transaction</th>\n",
       "      <th>Second Link</th>\n",
       "      <th>First Sale Date</th>\n",
       "      <th>First Auction House</th>\n",
       "      <th>First Low &amp; High Estimates (M)</th>\n",
       "      <th>First Realized Price (M)</th>\n",
       "      <th>First Currency of Transaction</th>\n",
       "      <th>First Link</th>\n",
       "    </tr>\n",
       "  </thead>\n",
       "  <tbody>\n",
       "    <tr>\n",
       "      <td>0</td>\n",
       "      <td>Mark Rothko</td>\n",
       "      <td>\"Blue Over Red\"</td>\n",
       "      <td>11/14/19</td>\n",
       "      <td>Sotheby's</td>\n",
       "      <td>25-35</td>\n",
       "      <td>26.461</td>\n",
       "      <td>USD</td>\n",
       "      <td>https://www.sothebys.com/en/auctions/ecatalogu...</td>\n",
       "      <td>11/08/05</td>\n",
       "      <td>Christie's NY</td>\n",
       "      <td>4.5-6.5</td>\n",
       "      <td>5.616</td>\n",
       "      <td>USD</td>\n",
       "      <td>https://www.christies.com/lotfinder/Lot/mark-r...</td>\n",
       "    </tr>\n",
       "  </tbody>\n",
       "</table>\n",
       "</div>"
      ],
      "text/plain": [
       "   Artist Name    Artwork Title Second Sale Date Second Auction House  \\\n",
       "0  Mark Rothko  \"Blue Over Red\"         11/14/19            Sotheby's   \n",
       "\n",
       "  Second Low & High Estimates (M)  Second Realized Price (M)  \\\n",
       "0                           25-35                     26.461   \n",
       "\n",
       "  Second Currency of Transaction  \\\n",
       "0                            USD   \n",
       "\n",
       "                                         Second Link First Sale Date  \\\n",
       "0  https://www.sothebys.com/en/auctions/ecatalogu...        11/08/05   \n",
       "\n",
       "  First Auction House First Low & High Estimates (M)  \\\n",
       "0       Christie's NY                        4.5-6.5   \n",
       "\n",
       "   First Realized Price (M) First Currency of Transaction  \\\n",
       "0                     5.616                           USD   \n",
       "\n",
       "                                          First Link  \n",
       "0  https://www.christies.com/lotfinder/Lot/mark-r...  "
      ]
     },
     "execution_count": 3,
     "metadata": {},
     "output_type": "execute_result"
    }
   ],
   "source": [
    "df = pd.read_csv('RaamLevy_COLLECTED_PAIR.csv')\n",
    "df.head()"
   ]
  },
  {
   "cell_type": "code",
   "execution_count": 4,
   "metadata": {},
   "outputs": [],
   "source": [
    "df.drop(['Second Auction House', 'Second Low & High Estimates (M)',\n",
    "         'Second Currency of Transaction', 'Second Link', 'First Auction House',\n",
    "         'First Low & High Estimates (M)', 'First Currency of Transaction','First Link'] , axis=1, inplace=True)"
   ]
  },
  {
   "cell_type": "code",
   "execution_count": 5,
   "metadata": {},
   "outputs": [
    {
     "data": {
      "text/html": [
       "<div>\n",
       "<style scoped>\n",
       "    .dataframe tbody tr th:only-of-type {\n",
       "        vertical-align: middle;\n",
       "    }\n",
       "\n",
       "    .dataframe tbody tr th {\n",
       "        vertical-align: top;\n",
       "    }\n",
       "\n",
       "    .dataframe thead th {\n",
       "        text-align: right;\n",
       "    }\n",
       "</style>\n",
       "<table border=\"1\" class=\"dataframe\">\n",
       "  <thead>\n",
       "    <tr style=\"text-align: right;\">\n",
       "      <th></th>\n",
       "      <th>Artist Name</th>\n",
       "      <th>Artwork Title</th>\n",
       "      <th>Second Sale Date</th>\n",
       "      <th>Second Realized Price (M)</th>\n",
       "      <th>First Sale Date</th>\n",
       "      <th>First Realized Price (M)</th>\n",
       "    </tr>\n",
       "  </thead>\n",
       "  <tbody>\n",
       "    <tr>\n",
       "      <td>0</td>\n",
       "      <td>Mark Rothko</td>\n",
       "      <td>\"Blue Over Red\"</td>\n",
       "      <td>11/14/19</td>\n",
       "      <td>26.461</td>\n",
       "      <td>11/08/05</td>\n",
       "      <td>5.616</td>\n",
       "    </tr>\n",
       "  </tbody>\n",
       "</table>\n",
       "</div>"
      ],
      "text/plain": [
       "   Artist Name    Artwork Title Second Sale Date  Second Realized Price (M)  \\\n",
       "0  Mark Rothko  \"Blue Over Red\"         11/14/19                     26.461   \n",
       "\n",
       "  First Sale Date  First Realized Price (M)  \n",
       "0        11/08/05                     5.616  "
      ]
     },
     "execution_count": 5,
     "metadata": {},
     "output_type": "execute_result"
    }
   ],
   "source": [
    "df.head()"
   ]
  },
  {
   "cell_type": "code",
   "execution_count": 6,
   "metadata": {},
   "outputs": [],
   "source": [
    "df.to_csv('RaamLevy_PRICES_AND_DATES.csv', index = False)"
   ]
  }
 ],
 "metadata": {
  "kernelspec": {
   "display_name": "Python 3",
   "language": "python",
   "name": "python3"
  },
  "language_info": {
   "codemirror_mode": {
    "name": "ipython",
    "version": 3
   },
   "file_extension": ".py",
   "mimetype": "text/x-python",
   "name": "python",
   "nbconvert_exporter": "python",
   "pygments_lexer": "ipython3",
   "version": "3.6.9"
  },
  "toc": {
   "base_numbering": 1,
   "nav_menu": {},
   "number_sections": true,
   "sideBar": true,
   "skip_h1_title": false,
   "title_cell": "Table of Contents",
   "title_sidebar": "Contents",
   "toc_cell": false,
   "toc_position": {},
   "toc_section_display": true,
   "toc_window_display": false
  }
 },
 "nbformat": 4,
 "nbformat_minor": 2
}
