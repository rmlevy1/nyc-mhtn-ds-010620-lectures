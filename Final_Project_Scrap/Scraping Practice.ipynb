{
 "cells": [
  {
   "cell_type": "code",
   "execution_count": 127,
   "metadata": {},
   "outputs": [],
   "source": [
    "from selenium.common.exceptions import NoSuchElementException, ElementClickInterceptedException\n",
    "from selenium import webdriver\n",
    "import time\n",
    "import pandas as pd\n",
    "\n",
    "\n",
    "def get_jobs(num_jobs, verbose, path, slp_time, p_num):\n",
    "    \n",
    "    '''Gathers jobs as a dataframe, scraped from Glassdoor'''\n",
    "    \n",
    "    #Initializing the webdriver\n",
    "    options = webdriver.ChromeOptions()\n",
    "    options.add_argument(\"--incognito\")\n",
    "    \n",
    "    #Uncomment the line below if you'd like to scrape without a new Chrome window every time.\n",
    "    #options.add_argument('headless')\n",
    "    \n",
    "    #Change the path to where chromedriver is in your home folder.\n",
    "    driver = webdriver.Chrome(executable_path=path, options=options)\n",
    "    driver.set_window_size(1120, 1000)\n",
    "    \n",
    "    url = 'https://www.glassdoor.com/Job/machine-learning-engineer-jobs-SRCH_KO0,25_IP{}.htm'.format(p_num)\n",
    "    #url = 'https://www.glassdoor.com/Job/data-engineer-jobs-SRCH_KO0,13_IP{}.htm'.format(p_num)\n",
    "    #url = 'https://www.glassdoor.com/Job/data-analyst-jobs-SRCH_KO0,12_IP{}.htm?sortBy=date_desc'.format(p_num)\n",
    "    #url = 'https://www.glassdoor.com/Job/data-scientist-jobs-SRCH_KO0,14_IP{}.htm'.format(p_num)\n",
    "    #url = \"https://www.glassdoor.com/Job/jobs.htm?suggestCount=0&suggestChosen=false&clickSource=searchBtn&typedKeyword=\"+keyword+\"&sc.keyword=\"+keyword+\"&locT=&locId=&jobType=\"\n",
    "    #url = 'https://www.glassdoor.com/Job/jobs.htm?sc.keyword=\"' + keyword + '\"&locT=C&locId=1147401&locKeyword=San%20Francisco,%20CA&jobType=all&fromAge=-1&minSalary=0&includeNoSalaryJobs=true&radius=100&cityId=-1&minRating=0.0&industryId=-1&sgocId=-1&seniorityType=all&companyId=-1&employerSizes=0&applicationType=0&remoteWorkType=0'\n",
    "    driver.get(url)\n",
    "    jobs = []\n",
    "\n",
    "    while len(jobs) < num_jobs:  #If true, should be still looking for new jobs.\n",
    "\n",
    "        #Let the page load. Change this number based on your internet speed.\n",
    "        #Or, wait until the webpage is loaded, instead of hardcoding it.\n",
    "        time.sleep(slp_time)\n",
    "\n",
    "        #Test for the \"Sign Up\" prompt and get rid of it.\n",
    "        try:\n",
    "            driver.find_element_by_class_name(\"selected\").click()\n",
    "        except ElementClickInterceptedException:\n",
    "            pass\n",
    "\n",
    "        time.sleep(.1)\n",
    "\n",
    "        try:\n",
    "            driver.find_element_by_css_selector('[alt=\"Close\"]').click() #clicking to the X.\n",
    "            print(' x out worked')\n",
    "        except NoSuchElementException:\n",
    "            print(' x out failed')\n",
    "            pass\n",
    "\n",
    "        \n",
    "        #Going through each job in this page\n",
    "        job_buttons = driver.find_elements_by_class_name(\"jl\")  #jl for Job Listing. These are the buttons we're going to click.\n",
    "        for job_button in job_buttons:  \n",
    "\n",
    "            print(\"Progress: {}\".format(\"\" + str(len(jobs)) + \"/\" + str(num_jobs)))\n",
    "            if len(jobs) >= num_jobs:\n",
    "                break\n",
    "\n",
    "            job_button.click()  #You might \n",
    "            time.sleep(1)\n",
    "            collected_successfully = False\n",
    "            \n",
    "            while not collected_successfully:\n",
    "                try:\n",
    "                    company_name = driver.find_element_by_xpath('.//div[@class=\"employerName\"]').text\n",
    "                    location = driver.find_element_by_xpath('.//div[@class=\"location\"]').text\n",
    "                    job_title = driver.find_element_by_xpath('.//div[contains(@class, \"title\")]').text\n",
    "                    job_description = driver.find_element_by_xpath('.//div[@class=\"jobDescriptionContent desc\"]').text\n",
    "                    collected_successfully = True\n",
    "                except:\n",
    "                    time.sleep(5)\n",
    "\n",
    "            try:\n",
    "                salary_estimate = driver.find_element_by_xpath('.//span[@class=\"gray salary\"]').text\n",
    "            except NoSuchElementException:\n",
    "                salary_estimate = -1 #You need to set a \"not found value. It's important.\"\n",
    "            \n",
    "            try:\n",
    "                rating = driver.find_element_by_xpath('.//span[@class=\"rating\"]').text\n",
    "            except NoSuchElementException:\n",
    "                rating = -1 #You need to set a \"not found value. It's important.\"\n",
    "\n",
    "            #Printing for debugging\n",
    "            if verbose:\n",
    "                print(\"Job Title: {}\".format(job_title))\n",
    "                print(\"Salary Estimate: {}\".format(salary_estimate))\n",
    "                print(\"Job Description: {}\".format(job_description[:500]))\n",
    "                print(\"Rating: {}\".format(rating))\n",
    "                print(\"Company Name: {}\".format(company_name))\n",
    "                print(\"Location: {}\".format(location))\n",
    "\n",
    "            #Going to the Company tab...\n",
    "            #clicking on this:\n",
    "            #<div class=\"tab\" data-tab-type=\"overview\"><span>Company</span></div>\n",
    "            try:\n",
    "                driver.find_element_by_xpath('.//div[@class=\"tab\" and @data-tab-type=\"overview\"]').click()\n",
    "\n",
    "                try:\n",
    "                    #<div class=\"infoEntity\">\n",
    "                    #    <label>Headquarters</label>\n",
    "                    #    <span class=\"value\">San Francisco, CA</span>\n",
    "                    #</div>\n",
    "                    headquarters = driver.find_element_by_xpath('.//div[@class=\"infoEntity\"]//label[text()=\"Headquarters\"]//following-sibling::*').text\n",
    "                except NoSuchElementException:\n",
    "                    headquarters = -1\n",
    "\n",
    "                try:\n",
    "                    size = driver.find_element_by_xpath('.//div[@class=\"infoEntity\"]//label[text()=\"Size\"]//following-sibling::*').text\n",
    "                except NoSuchElementException:\n",
    "                    size = -1\n",
    "\n",
    "                try:\n",
    "                    founded = driver.find_element_by_xpath('.//div[@class=\"infoEntity\"]//label[text()=\"Founded\"]//following-sibling::*').text\n",
    "                except NoSuchElementException:\n",
    "                    founded = -1\n",
    "\n",
    "                try:\n",
    "                    type_of_ownership = driver.find_element_by_xpath('.//div[@class=\"infoEntity\"]//label[text()=\"Type\"]//following-sibling::*').text\n",
    "                except NoSuchElementException:\n",
    "                    type_of_ownership = -1\n",
    "\n",
    "                try:\n",
    "                    industry = driver.find_element_by_xpath('.//div[@class=\"infoEntity\"]//label[text()=\"Industry\"]//following-sibling::*').text\n",
    "                except NoSuchElementException:\n",
    "                    industry = -1\n",
    "\n",
    "                try:\n",
    "                    sector = driver.find_element_by_xpath('.//div[@class=\"infoEntity\"]//label[text()=\"Sector\"]//following-sibling::*').text\n",
    "                except NoSuchElementException:\n",
    "                    sector = -1\n",
    "\n",
    "                try:\n",
    "                    revenue = driver.find_element_by_xpath('.//div[@class=\"infoEntity\"]//label[text()=\"Revenue\"]//following-sibling::*').text\n",
    "                except NoSuchElementException:\n",
    "                    revenue = -1\n",
    "\n",
    "                try:\n",
    "                    competitors = driver.find_element_by_xpath('.//div[@class=\"infoEntity\"]//label[text()=\"Competitors\"]//following-sibling::*').text\n",
    "                except NoSuchElementException:\n",
    "                    competitors = -1\n",
    "\n",
    "            except NoSuchElementException:  #Rarely, some job postings do not have the \"Company\" tab.\n",
    "                headquarters = -1\n",
    "                size = -1\n",
    "                founded = -1\n",
    "                type_of_ownership = -1\n",
    "                industry = -1\n",
    "                sector = -1\n",
    "                revenue = -1\n",
    "                competitors = -1\n",
    "\n",
    "                \n",
    "            if verbose:\n",
    "                print(\"Headquarters: {}\".format(headquarters))\n",
    "                print(\"Size: {}\".format(size))\n",
    "                print(\"Founded: {}\".format(founded))\n",
    "                print(\"Type of Ownership: {}\".format(type_of_ownership))\n",
    "                print(\"Industry: {}\".format(industry))\n",
    "                print(\"Sector: {}\".format(sector))\n",
    "                print(\"Revenue: {}\".format(revenue))\n",
    "                print(\"Competitors: {}\".format(competitors))\n",
    "                print(\"@@@@@@@@@@@@@@@@@@@@@@@@@@@@@@@@@@@@@@@@@@@@@@@@@@@@\")\n",
    "\n",
    "            jobs.append({\"Job Title\" : job_title,\n",
    "            \"Salary Estimate\" : salary_estimate,\n",
    "            \"Job Description\" : job_description,\n",
    "            \"Rating\" : rating,\n",
    "            \"Company Name\" : company_name,\n",
    "            \"Location\" : location,\n",
    "            \"Headquarters\" : headquarters,\n",
    "            \"Size\" : size,\n",
    "            \"Founded\" : founded,\n",
    "            \"Type of ownership\" : type_of_ownership,\n",
    "            \"Industry\" : industry,\n",
    "            \"Sector\" : sector,\n",
    "            \"Revenue\" : revenue,\n",
    "            \"Competitors\" : competitors})\n",
    "            #add job to jobs\n",
    "            \n",
    "            \n",
    "        #Clicking on the \"next page\" button\n",
    "        try:\n",
    "            driver.find_element_by_xpath('.//li[@class=\"next\"]//a').click()\n",
    "        except NoSuchElementException:\n",
    "            print(\"Scraping terminated before reaching target number of jobs. Needed {}, got {}.\".format(num_jobs, len(jobs)))\n",
    "            break\n",
    "\n",
    "    return pd.DataFrame(jobs)  #This line converts the dictionary object into a pandas DataFrame.v"
   ]
  },
  {
   "cell_type": "code",
   "execution_count": 10,
   "metadata": {},
   "outputs": [
    {
     "name": "stdout",
     "output_type": "stream",
     "text": [
      " x out failed\n",
      "Progress: 0/10\n",
      "Progress: 1/10\n",
      "Progress: 2/10\n",
      "Progress: 3/10\n",
      "Progress: 4/10\n",
      "Progress: 5/10\n",
      "Progress: 6/10\n",
      "Progress: 7/10\n",
      "Progress: 8/10\n",
      "Progress: 9/10\n",
      "Progress: 10/10\n"
     ]
    }
   ],
   "source": [
    "#path = \"C:/Users/Ken/Documents/ds_salary_proj/chromedriver\"\n",
    "path = \"/Users/flationschool/Course_Materials/nyc-mhtn-ds-010620-lectures/Final_Project/chromedriver\"\n",
    "\n",
    "df = get_jobs(10, False, path, 15)\n",
    "\n",
    "#df.to_csv('glassdoor_jobs.csv', index = False)"
   ]
  },
  {
   "cell_type": "code",
   "execution_count": 17,
   "metadata": {},
   "outputs": [
    {
     "name": "stdout",
     "output_type": "stream",
     "text": [
      " x out failed\n",
      "Progress: 0/10\n",
      "Progress: 1/10\n",
      "Progress: 2/10\n",
      "Progress: 3/10\n",
      "Progress: 4/10\n",
      "Progress: 5/10\n",
      "Progress: 6/10\n",
      "Progress: 7/10\n",
      "Progress: 8/10\n",
      "Progress: 9/10\n",
      "Progress: 10/10\n"
     ]
    }
   ],
   "source": [
    "df2 = get_jobs(10, False, path, 20)"
   ]
  },
  {
   "cell_type": "code",
   "execution_count": 22,
   "metadata": {},
   "outputs": [
    {
     "name": "stdout",
     "output_type": "stream",
     "text": [
      " x out worked\n",
      "Progress: 0/5\n",
      "Progress: 1/5\n",
      "Progress: 2/5\n",
      "Progress: 3/5\n",
      "Progress: 4/5\n",
      "Progress: 5/5\n"
     ]
    }
   ],
   "source": [
    "df3 = get_jobs(5, False, path, 20, 21)"
   ]
  },
  {
   "cell_type": "code",
   "execution_count": 24,
   "metadata": {},
   "outputs": [
    {
     "name": "stdout",
     "output_type": "stream",
     "text": [
      " x out failed\n",
      "Progress: 0/5\n",
      "Progress: 1/5\n",
      "Progress: 2/5\n",
      "Progress: 3/5\n",
      "Progress: 4/5\n",
      "Progress: 5/5\n"
     ]
    }
   ],
   "source": [
    "df4 = get_jobs(5, False, path, 20, 22)"
   ]
  },
  {
   "cell_type": "code",
   "execution_count": 25,
   "metadata": {},
   "outputs": [
    {
     "name": "stdout",
     "output_type": "stream",
     "text": [
      " x out failed\n",
      "Progress: 0/10\n",
      "Progress: 1/10\n",
      "Progress: 2/10\n",
      "Progress: 3/10\n",
      "Progress: 4/10\n",
      "Progress: 5/10\n",
      "Progress: 6/10\n",
      "Progress: 7/10\n",
      "Progress: 8/10\n",
      "Progress: 9/10\n",
      "Progress: 10/10\n"
     ]
    }
   ],
   "source": [
    "df5 = get_jobs(10, False, path, 20, 23)"
   ]
  },
  {
   "cell_type": "code",
   "execution_count": 26,
   "metadata": {},
   "outputs": [
    {
     "name": "stdout",
     "output_type": "stream",
     "text": [
      " x out failed\n",
      "Progress: 0/10\n",
      "Progress: 1/10\n",
      "Progress: 2/10\n",
      "Progress: 3/10\n",
      "Progress: 4/10\n",
      "Progress: 5/10\n",
      "Progress: 6/10\n",
      "Progress: 7/10\n",
      "Progress: 8/10\n",
      "Progress: 9/10\n",
      "Progress: 10/10\n"
     ]
    }
   ],
   "source": [
    "df6 = get_jobs(10, False, path, 20, 24)"
   ]
  },
  {
   "cell_type": "code",
   "execution_count": 29,
   "metadata": {},
   "outputs": [
    {
     "name": "stdout",
     "output_type": "stream",
     "text": [
      " x out failed\n",
      "Progress: 0/5\n",
      "Progress: 1/5\n",
      "Progress: 2/5\n",
      "Progress: 3/5\n",
      "Progress: 4/5\n",
      "Progress: 5/5\n"
     ]
    }
   ],
   "source": [
    "df7 = get_jobs(5, False, path, 20, 25)"
   ]
  },
  {
   "cell_type": "code",
   "execution_count": 32,
   "metadata": {},
   "outputs": [
    {
     "name": "stdout",
     "output_type": "stream",
     "text": [
      " x out failed\n",
      "Progress: 0/5\n",
      "Progress: 1/5\n",
      "Progress: 2/5\n",
      "Progress: 3/5\n",
      "Progress: 4/5\n",
      "Progress: 5/5\n"
     ]
    }
   ],
   "source": [
    "df8 = get_jobs(5, False, path, 10, 26)"
   ]
  },
  {
   "cell_type": "code",
   "execution_count": 35,
   "metadata": {},
   "outputs": [
    {
     "name": "stdout",
     "output_type": "stream",
     "text": [
      " x out failed\n",
      "Progress: 0/5\n",
      "Progress: 1/5\n",
      "Progress: 2/5\n",
      "Progress: 3/5\n",
      "Progress: 4/5\n",
      "Progress: 5/5\n"
     ]
    }
   ],
   "source": [
    "df9 = get_jobs(5, False, path, 10, 27)"
   ]
  },
  {
   "cell_type": "code",
   "execution_count": 38,
   "metadata": {},
   "outputs": [
    {
     "name": "stdout",
     "output_type": "stream",
     "text": [
      " x out failed\n",
      "Progress: 0/5\n",
      "Progress: 1/5\n",
      "Progress: 2/5\n",
      "Progress: 3/5\n",
      "Progress: 4/5\n",
      "Progress: 5/5\n"
     ]
    }
   ],
   "source": [
    "df10 = get_jobs(5, False, path, 10, 28)"
   ]
  },
  {
   "cell_type": "code",
   "execution_count": 39,
   "metadata": {},
   "outputs": [
    {
     "name": "stdout",
     "output_type": "stream",
     "text": [
      " x out failed\n",
      "Progress: 0/10\n",
      "Progress: 1/10\n",
      "Progress: 2/10\n",
      "Progress: 3/10\n",
      "Progress: 4/10\n",
      "Progress: 5/10\n",
      "Progress: 6/10\n",
      "Progress: 7/10\n",
      "Progress: 8/10\n",
      "Progress: 9/10\n",
      "Progress: 10/10\n"
     ]
    }
   ],
   "source": [
    "df11 = get_jobs(10, False, path, 10, 29)"
   ]
  },
  {
   "cell_type": "code",
   "execution_count": 40,
   "metadata": {},
   "outputs": [
    {
     "name": "stdout",
     "output_type": "stream",
     "text": [
      " x out failed\n",
      "Progress: 0/25\n",
      "Progress: 1/25\n",
      "Progress: 2/25\n",
      "Progress: 3/25\n",
      "Progress: 4/25\n",
      "Progress: 5/25\n",
      "Progress: 6/25\n",
      "Progress: 7/25\n",
      "Progress: 8/25\n",
      "Progress: 9/25\n",
      "Progress: 10/25\n",
      "Progress: 11/25\n",
      "Progress: 12/25\n",
      "Progress: 13/25\n",
      "Progress: 14/25\n",
      "Progress: 15/25\n",
      "Progress: 16/25\n",
      "Progress: 17/25\n",
      "Progress: 18/25\n",
      "Progress: 19/25\n",
      "Progress: 20/25\n",
      "Progress: 21/25\n",
      "Progress: 22/25\n",
      "Progress: 23/25\n",
      "Progress: 24/25\n",
      "Progress: 25/25\n"
     ]
    }
   ],
   "source": [
    "df12 = get_jobs(25, False, path, 10, 29)"
   ]
  },
  {
   "cell_type": "code",
   "execution_count": 44,
   "metadata": {},
   "outputs": [
    {
     "name": "stdout",
     "output_type": "stream",
     "text": [
      " x out failed\n",
      "Progress: 0/5\n",
      "Progress: 1/5\n",
      "Progress: 2/5\n",
      "Progress: 3/5\n",
      "Progress: 4/5\n",
      "Progress: 5/5\n"
     ]
    }
   ],
   "source": [
    "df13 = get_jobs(5, False, path, 10, 30)"
   ]
  },
  {
   "cell_type": "code",
   "execution_count": 48,
   "metadata": {},
   "outputs": [
    {
     "name": "stdout",
     "output_type": "stream",
     "text": [
      " x out worked\n",
      "Progress: 0/7\n",
      "Progress: 1/7\n",
      "Progress: 2/7\n",
      "Progress: 3/7\n",
      "Progress: 4/7\n",
      "Progress: 5/7\n",
      "Progress: 6/7\n",
      "Progress: 7/7\n"
     ]
    }
   ],
   "source": [
    "df14 = get_jobs(7, False, path, 10)"
   ]
  },
  {
   "cell_type": "code",
   "execution_count": 52,
   "metadata": {},
   "outputs": [
    {
     "name": "stdout",
     "output_type": "stream",
     "text": [
      " x out failed\n",
      "Progress: 0/5\n",
      "Progress: 1/5\n",
      "Progress: 2/5\n",
      "Progress: 3/5\n",
      "Progress: 4/5\n",
      "Progress: 5/5\n"
     ]
    }
   ],
   "source": [
    "df15 = get_jobs(5, False, path, 10, 3)"
   ]
  },
  {
   "cell_type": "code",
   "execution_count": 53,
   "metadata": {},
   "outputs": [
    {
     "name": "stdout",
     "output_type": "stream",
     "text": [
      " x out failed\n",
      "Progress: 0/5\n",
      "Progress: 1/5\n",
      "Progress: 2/5\n",
      "Progress: 3/5\n",
      "Progress: 4/5\n",
      "Progress: 5/5\n"
     ]
    }
   ],
   "source": [
    "df16 = get_jobs(5, False, path, 10, 4)"
   ]
  },
  {
   "cell_type": "code",
   "execution_count": 54,
   "metadata": {},
   "outputs": [
    {
     "name": "stdout",
     "output_type": "stream",
     "text": [
      " x out failed\n",
      "Progress: 0/5\n",
      "Progress: 1/5\n",
      "Progress: 2/5\n",
      "Progress: 3/5\n",
      "Progress: 4/5\n",
      "Progress: 5/5\n"
     ]
    }
   ],
   "source": [
    "df17 = get_jobs(5, False, path, 10, 5)"
   ]
  },
  {
   "cell_type": "code",
   "execution_count": 55,
   "metadata": {},
   "outputs": [
    {
     "name": "stdout",
     "output_type": "stream",
     "text": [
      " x out failed\n",
      "Progress: 0/5\n",
      "Progress: 1/5\n",
      "Progress: 2/5\n",
      "Progress: 3/5\n",
      "Progress: 4/5\n",
      "Progress: 5/5\n"
     ]
    }
   ],
   "source": [
    "df18 = get_jobs(5, False, path, 10, 6)"
   ]
  },
  {
   "cell_type": "code",
   "execution_count": 56,
   "metadata": {},
   "outputs": [
    {
     "name": "stdout",
     "output_type": "stream",
     "text": [
      " x out failed\n",
      "Progress: 0/5\n",
      "Progress: 1/5\n",
      "Progress: 2/5\n",
      "Progress: 3/5\n",
      "Progress: 4/5\n",
      "Progress: 5/5\n"
     ]
    }
   ],
   "source": [
    "df19 = get_jobs(5, False, path, 10, 7)"
   ]
  },
  {
   "cell_type": "code",
   "execution_count": 57,
   "metadata": {},
   "outputs": [
    {
     "name": "stdout",
     "output_type": "stream",
     "text": [
      " x out failed\n",
      "Progress: 0/5\n",
      "Progress: 1/5\n",
      "Progress: 2/5\n",
      "Progress: 3/5\n",
      "Progress: 4/5\n",
      "Progress: 5/5\n"
     ]
    }
   ],
   "source": [
    "df20 = get_jobs(5, False, path, 10, 8)"
   ]
  },
  {
   "cell_type": "code",
   "execution_count": 60,
   "metadata": {},
   "outputs": [
    {
     "name": "stdout",
     "output_type": "stream",
     "text": [
      " x out failed\n",
      "Progress: 0/5\n",
      "Progress: 1/5\n",
      "Progress: 2/5\n",
      "Progress: 3/5\n",
      "Progress: 4/5\n",
      "Progress: 5/5\n"
     ]
    }
   ],
   "source": [
    "df21 = get_jobs(5, False, path, 10, 9)"
   ]
  },
  {
   "cell_type": "code",
   "execution_count": 61,
   "metadata": {},
   "outputs": [
    {
     "name": "stdout",
     "output_type": "stream",
     "text": [
      " x out failed\n",
      "Progress: 0/5\n",
      "Progress: 1/5\n",
      "Progress: 2/5\n",
      "Progress: 3/5\n",
      "Progress: 4/5\n",
      "Progress: 5/5\n"
     ]
    }
   ],
   "source": [
    "df22 = get_jobs(5, False, path, 10, 10)"
   ]
  },
  {
   "cell_type": "code",
   "execution_count": 62,
   "metadata": {},
   "outputs": [
    {
     "name": "stdout",
     "output_type": "stream",
     "text": [
      " x out worked\n",
      "Progress: 0/5\n",
      "Progress: 1/5\n",
      "Progress: 2/5\n",
      "Progress: 3/5\n",
      "Progress: 4/5\n",
      "Progress: 5/5\n"
     ]
    }
   ],
   "source": [
    "df23 = get_jobs(5, False, path, 10, 11)"
   ]
  },
  {
   "cell_type": "code",
   "execution_count": 63,
   "metadata": {},
   "outputs": [
    {
     "name": "stdout",
     "output_type": "stream",
     "text": [
      " x out failed\n",
      "Progress: 0/5\n",
      "Progress: 1/5\n",
      "Progress: 2/5\n",
      "Progress: 3/5\n",
      "Progress: 4/5\n",
      "Progress: 5/5\n"
     ]
    }
   ],
   "source": [
    "df24 = get_jobs(5, False, path, 10, 12)"
   ]
  },
  {
   "cell_type": "code",
   "execution_count": 64,
   "metadata": {},
   "outputs": [
    {
     "name": "stdout",
     "output_type": "stream",
     "text": [
      " x out failed\n",
      "Progress: 0/5\n",
      "Progress: 1/5\n",
      "Progress: 2/5\n",
      "Progress: 3/5\n",
      "Progress: 4/5\n",
      "Progress: 5/5\n"
     ]
    }
   ],
   "source": [
    "df25 = get_jobs(5, False, path, 10, 13)"
   ]
  },
  {
   "cell_type": "code",
   "execution_count": 65,
   "metadata": {},
   "outputs": [
    {
     "name": "stdout",
     "output_type": "stream",
     "text": [
      " x out failed\n",
      "Progress: 0/5\n",
      "Progress: 1/5\n",
      "Progress: 2/5\n",
      "Progress: 3/5\n",
      "Progress: 4/5\n",
      "Progress: 5/5\n"
     ]
    }
   ],
   "source": [
    "df26 = get_jobs(5, False, path, 10, 14)"
   ]
  },
  {
   "cell_type": "code",
   "execution_count": 66,
   "metadata": {},
   "outputs": [
    {
     "name": "stdout",
     "output_type": "stream",
     "text": [
      " x out failed\n",
      "Progress: 0/5\n",
      "Progress: 1/5\n",
      "Progress: 2/5\n",
      "Progress: 3/5\n",
      "Progress: 4/5\n",
      "Progress: 5/5\n"
     ]
    }
   ],
   "source": [
    "df27 = get_jobs(5, False, path, 10, 15)"
   ]
  },
  {
   "cell_type": "code",
   "execution_count": 67,
   "metadata": {},
   "outputs": [
    {
     "name": "stdout",
     "output_type": "stream",
     "text": [
      " x out failed\n",
      "Progress: 0/5\n",
      "Progress: 1/5\n",
      "Progress: 2/5\n",
      "Progress: 3/5\n",
      "Progress: 4/5\n",
      "Progress: 5/5\n"
     ]
    }
   ],
   "source": [
    "df28 = get_jobs(5, False, path, 10, 16)"
   ]
  },
  {
   "cell_type": "code",
   "execution_count": 68,
   "metadata": {},
   "outputs": [
    {
     "name": "stdout",
     "output_type": "stream",
     "text": [
      " x out failed\n",
      "Progress: 0/5\n",
      "Progress: 1/5\n",
      "Progress: 2/5\n",
      "Progress: 3/5\n",
      "Progress: 4/5\n",
      "Progress: 5/5\n"
     ]
    }
   ],
   "source": [
    "df29 = get_jobs(5, False, path, 10, 17)"
   ]
  },
  {
   "cell_type": "code",
   "execution_count": 69,
   "metadata": {},
   "outputs": [
    {
     "name": "stdout",
     "output_type": "stream",
     "text": [
      " x out failed\n",
      "Progress: 0/5\n",
      "Progress: 1/5\n",
      "Progress: 2/5\n",
      "Progress: 3/5\n",
      "Progress: 4/5\n",
      "Progress: 5/5\n"
     ]
    }
   ],
   "source": [
    "df30 = get_jobs(5, False, path, 10, 18)"
   ]
  },
  {
   "cell_type": "code",
   "execution_count": 70,
   "metadata": {},
   "outputs": [
    {
     "name": "stdout",
     "output_type": "stream",
     "text": [
      " x out failed\n",
      "Progress: 0/5\n",
      "Progress: 1/5\n",
      "Progress: 2/5\n",
      "Progress: 3/5\n",
      "Progress: 4/5\n",
      "Progress: 5/5\n"
     ]
    }
   ],
   "source": [
    "df31 = get_jobs(5, False, path, 10, 19)"
   ]
  },
  {
   "cell_type": "code",
   "execution_count": 71,
   "metadata": {},
   "outputs": [
    {
     "name": "stdout",
     "output_type": "stream",
     "text": [
      " x out failed\n",
      "Progress: 0/5\n",
      "Progress: 1/5\n",
      "Progress: 2/5\n",
      "Progress: 3/5\n",
      "Progress: 4/5\n",
      "Progress: 5/5\n"
     ]
    }
   ],
   "source": [
    "df32 = get_jobs(5, False, path, 10, 20)"
   ]
  },
  {
   "cell_type": "code",
   "execution_count": 72,
   "metadata": {},
   "outputs": [
    {
     "name": "stdout",
     "output_type": "stream",
     "text": [
      " x out failed\n",
      "Progress: 0/5\n",
      "Progress: 1/5\n",
      "Progress: 2/5\n",
      "Progress: 3/5\n",
      "Progress: 4/5\n",
      "Progress: 5/5\n"
     ]
    }
   ],
   "source": [
    "df33 = get_jobs(5, False, path, 10, 21)"
   ]
  },
  {
   "cell_type": "code",
   "execution_count": 73,
   "metadata": {},
   "outputs": [
    {
     "name": "stdout",
     "output_type": "stream",
     "text": [
      " x out failed\n",
      "Progress: 0/5\n",
      "Progress: 1/5\n",
      "Progress: 2/5\n",
      "Progress: 3/5\n",
      "Progress: 4/5\n",
      "Progress: 5/5\n"
     ]
    }
   ],
   "source": [
    "df34 = get_jobs(5, False, path, 10, 22)"
   ]
  },
  {
   "cell_type": "code",
   "execution_count": 75,
   "metadata": {},
   "outputs": [
    {
     "name": "stdout",
     "output_type": "stream",
     "text": [
      " x out failed\n",
      "Progress: 0/5\n",
      "Progress: 1/5\n",
      "Progress: 2/5\n",
      "Progress: 3/5\n",
      "Progress: 4/5\n",
      "Progress: 5/5\n"
     ]
    }
   ],
   "source": [
    "df36 = get_jobs(5, False, path, 10, 24)"
   ]
  },
  {
   "cell_type": "code",
   "execution_count": 76,
   "metadata": {},
   "outputs": [
    {
     "name": "stdout",
     "output_type": "stream",
     "text": [
      " x out failed\n",
      "Progress: 0/5\n",
      "Progress: 1/5\n",
      "Progress: 2/5\n",
      "Progress: 3/5\n",
      "Progress: 4/5\n",
      "Progress: 5/5\n"
     ]
    }
   ],
   "source": [
    "df37 = get_jobs(5, False, path, 10, 25)"
   ]
  },
  {
   "cell_type": "code",
   "execution_count": 77,
   "metadata": {},
   "outputs": [
    {
     "name": "stdout",
     "output_type": "stream",
     "text": [
      " x out failed\n",
      "Progress: 0/5\n",
      "Progress: 1/5\n",
      "Progress: 2/5\n",
      "Progress: 3/5\n",
      "Progress: 4/5\n",
      "Progress: 5/5\n"
     ]
    }
   ],
   "source": [
    "df38 = get_jobs(5, False, path, 10, 26)"
   ]
  },
  {
   "cell_type": "code",
   "execution_count": 78,
   "metadata": {},
   "outputs": [
    {
     "name": "stdout",
     "output_type": "stream",
     "text": [
      " x out failed\n",
      "Progress: 0/5\n",
      "Progress: 1/5\n",
      "Progress: 2/5\n",
      "Progress: 3/5\n",
      "Progress: 4/5\n",
      "Progress: 5/5\n"
     ]
    }
   ],
   "source": [
    "df39 = get_jobs(5, False, path, 10, 27)"
   ]
  },
  {
   "cell_type": "code",
   "execution_count": 79,
   "metadata": {},
   "outputs": [
    {
     "name": "stdout",
     "output_type": "stream",
     "text": [
      " x out failed\n",
      "Progress: 0/5\n",
      "Progress: 1/5\n",
      "Progress: 2/5\n",
      "Progress: 3/5\n",
      "Progress: 4/5\n",
      "Progress: 5/5\n"
     ]
    }
   ],
   "source": [
    "df40 = get_jobs(5, False, path, 10, 28)"
   ]
  },
  {
   "cell_type": "code",
   "execution_count": 80,
   "metadata": {},
   "outputs": [
    {
     "name": "stdout",
     "output_type": "stream",
     "text": [
      " x out failed\n",
      "Progress: 0/5\n",
      "Progress: 1/5\n",
      "Progress: 2/5\n",
      "Progress: 3/5\n",
      "Progress: 4/5\n",
      "Progress: 5/5\n"
     ]
    }
   ],
   "source": [
    "df41 = get_jobs(5, False, path, 10, 29)"
   ]
  },
  {
   "cell_type": "code",
   "execution_count": 81,
   "metadata": {},
   "outputs": [
    {
     "name": "stdout",
     "output_type": "stream",
     "text": [
      " x out worked\n",
      "Progress: 0/5\n",
      "Progress: 1/5\n",
      "Progress: 2/5\n",
      "Progress: 3/5\n",
      "Progress: 4/5\n",
      "Progress: 5/5\n"
     ]
    }
   ],
   "source": [
    "df42 = get_jobs(5, False, path, 10, 30)"
   ]
  },
  {
   "cell_type": "code",
   "execution_count": 122,
   "metadata": {},
   "outputs": [],
   "source": [
    "finaldf = pd.concat([df,df2,df3,df4,df5,df6,df7,df8,df9,df10,df11,df12,df13,df14,df15,df16,df17,df18,df19,df20], ignore_index = True)"
   ]
  },
  {
   "cell_type": "code",
   "execution_count": 123,
   "metadata": {},
   "outputs": [],
   "source": [
    "finaldf = pd.concat([finaldf,df21,df22,df23,df24,df25,df26,df27,df28,df29,df30,df31,df32,df33,df34,df36,df37,df38,df39,df40,df41,df42], ignore_index =True)"
   ]
  },
  {
   "cell_type": "code",
   "execution_count": 124,
   "metadata": {},
   "outputs": [
    {
     "data": {
      "text/html": [
       "<div>\n",
       "<style scoped>\n",
       "    .dataframe tbody tr th:only-of-type {\n",
       "        vertical-align: middle;\n",
       "    }\n",
       "\n",
       "    .dataframe tbody tr th {\n",
       "        vertical-align: top;\n",
       "    }\n",
       "\n",
       "    .dataframe thead th {\n",
       "        text-align: right;\n",
       "    }\n",
       "</style>\n",
       "<table border=\"1\" class=\"dataframe\">\n",
       "  <thead>\n",
       "    <tr style=\"text-align: right;\">\n",
       "      <th></th>\n",
       "      <th>Job Title</th>\n",
       "      <th>Salary Estimate</th>\n",
       "      <th>Job Description</th>\n",
       "      <th>Rating</th>\n",
       "      <th>Company Name</th>\n",
       "      <th>Location</th>\n",
       "      <th>Headquarters</th>\n",
       "      <th>Size</th>\n",
       "      <th>Founded</th>\n",
       "      <th>Type of ownership</th>\n",
       "      <th>Industry</th>\n",
       "      <th>Sector</th>\n",
       "      <th>Revenue</th>\n",
       "      <th>Competitors</th>\n",
       "    </tr>\n",
       "  </thead>\n",
       "  <tbody>\n",
       "    <tr>\n",
       "      <td>0</td>\n",
       "      <td>Senior Data Scientist</td>\n",
       "      <td>$105K-$167K (Glassdoor est.)</td>\n",
       "      <td>About Us\\n\\nAt GutCheck, we pioneered agile ma...</td>\n",
       "      <td>3.8</td>\n",
       "      <td>GutCheck\\n3.8</td>\n",
       "      <td>Denver, CO</td>\n",
       "      <td>Denver, CO</td>\n",
       "      <td>51 to 200 employees</td>\n",
       "      <td>2009</td>\n",
       "      <td>Company - Private</td>\n",
       "      <td>Advertising &amp; Marketing</td>\n",
       "      <td>Business Services</td>\n",
       "      <td>$10 to $25 million (USD)</td>\n",
       "      <td>Nielsen, Zappi, SurveyMonkey</td>\n",
       "    </tr>\n",
       "    <tr>\n",
       "      <td>1</td>\n",
       "      <td>Data Scientist</td>\n",
       "      <td>$105K-$167K (Glassdoor est.)</td>\n",
       "      <td>Data Scientist\\n\\nAs Data Scientist at HP Inc....</td>\n",
       "      <td>4.0</td>\n",
       "      <td>HP Inc.\\n4.0</td>\n",
       "      <td>San Diego, CA</td>\n",
       "      <td>Palo Alto, CA</td>\n",
       "      <td>10000+ employees</td>\n",
       "      <td>1939</td>\n",
       "      <td>Company - Public</td>\n",
       "      <td>Computer Hardware &amp; Software</td>\n",
       "      <td>Information Technology</td>\n",
       "      <td>Unknown / Non-Applicable</td>\n",
       "      <td>-1</td>\n",
       "    </tr>\n",
       "    <tr>\n",
       "      <td>2</td>\n",
       "      <td>Scientist/ Sr. Engineer I, Process Development</td>\n",
       "      <td>$105K-$167K (Glassdoor est.)</td>\n",
       "      <td>The Role:\\nCurious about HIGH-THROUGHPUT PROCE...</td>\n",
       "      <td>3.4</td>\n",
       "      <td>Moderna Therapeutics\\n3.4</td>\n",
       "      <td>Norwood, MA</td>\n",
       "      <td>Cambridge, MA</td>\n",
       "      <td>501 to 1000 employees</td>\n",
       "      <td>2011</td>\n",
       "      <td>Company - Public</td>\n",
       "      <td>Biotech &amp; Pharmaceuticals</td>\n",
       "      <td>Biotech &amp; Pharmaceuticals</td>\n",
       "      <td>$1 to $5 million (USD)</td>\n",
       "      <td>-1</td>\n",
       "    </tr>\n",
       "    <tr>\n",
       "      <td>3</td>\n",
       "      <td>Analytics Manager</td>\n",
       "      <td>$105K-$167K (Glassdoor est.)</td>\n",
       "      <td>Responsible for both high level and granular m...</td>\n",
       "      <td>4.4</td>\n",
       "      <td>OneMagnify\\n4.4</td>\n",
       "      <td>Dearborn, MI</td>\n",
       "      <td>Detroit, MI</td>\n",
       "      <td>201 to 500 employees</td>\n",
       "      <td>1967</td>\n",
       "      <td>Company - Private</td>\n",
       "      <td>Advertising &amp; Marketing</td>\n",
       "      <td>Business Services</td>\n",
       "      <td>Unknown / Non-Applicable</td>\n",
       "      <td>-1</td>\n",
       "    </tr>\n",
       "    <tr>\n",
       "      <td>4</td>\n",
       "      <td>Computational Chemist/Data Scientist</td>\n",
       "      <td>$105K-$167K (Glassdoor est.)</td>\n",
       "      <td>*Organization and Job ID**\\nJob ID: 310562\\n\\n...</td>\n",
       "      <td>3.8</td>\n",
       "      <td>PNNL\\n3.8</td>\n",
       "      <td>Richland, WA</td>\n",
       "      <td>Richland, WA</td>\n",
       "      <td>1001 to 5000 employees</td>\n",
       "      <td>1965</td>\n",
       "      <td>Government</td>\n",
       "      <td>Energy</td>\n",
       "      <td>Oil, Gas, Energy &amp; Utilities</td>\n",
       "      <td>$500 million to $1 billion (USD)</td>\n",
       "      <td>Oak Ridge National Laboratory, National Renewa...</td>\n",
       "    </tr>\n",
       "    <tr>\n",
       "      <td>...</td>\n",
       "      <td>...</td>\n",
       "      <td>...</td>\n",
       "      <td>...</td>\n",
       "      <td>...</td>\n",
       "      <td>...</td>\n",
       "      <td>...</td>\n",
       "      <td>...</td>\n",
       "      <td>...</td>\n",
       "      <td>...</td>\n",
       "      <td>...</td>\n",
       "      <td>...</td>\n",
       "      <td>...</td>\n",
       "      <td>...</td>\n",
       "      <td>...</td>\n",
       "    </tr>\n",
       "    <tr>\n",
       "      <td>247</td>\n",
       "      <td>Data Analyst</td>\n",
       "      <td>$49K-$65K (Glassdoor est.)</td>\n",
       "      <td>KellyMitchell matches the best IT and business...</td>\n",
       "      <td>3.6</td>\n",
       "      <td>Kelly Mitchell Group\\n3.6</td>\n",
       "      <td>New Albany, OH</td>\n",
       "      <td>Saint Louis, MO</td>\n",
       "      <td>1001 to 5000 employees</td>\n",
       "      <td>1998</td>\n",
       "      <td>Company - Private</td>\n",
       "      <td>Staffing &amp; Outsourcing</td>\n",
       "      <td>Business Services</td>\n",
       "      <td>$50 to $100 million (USD)</td>\n",
       "      <td>-1</td>\n",
       "    </tr>\n",
       "    <tr>\n",
       "      <td>248</td>\n",
       "      <td>Data Analyst</td>\n",
       "      <td>$49K-$65K (Glassdoor est.)</td>\n",
       "      <td>POSITION TITLE: Data Analyst\\n\\nREPORTS TO: AV...</td>\n",
       "      <td>3.7</td>\n",
       "      <td>State Employee Credit Union\\n3.7</td>\n",
       "      <td>Santa Fe, NM</td>\n",
       "      <td>Raleigh, NC</td>\n",
       "      <td>1001 to 5000 employees</td>\n",
       "      <td>1937</td>\n",
       "      <td>Nonprofit Organization</td>\n",
       "      <td>Investment Banking &amp; Asset Management</td>\n",
       "      <td>Finance</td>\n",
       "      <td>$500 million to $1 billion (USD)</td>\n",
       "      <td>-1</td>\n",
       "    </tr>\n",
       "    <tr>\n",
       "      <td>249</td>\n",
       "      <td>Data Analyst</td>\n",
       "      <td>$49K-$65K (Glassdoor est.)</td>\n",
       "      <td>At ALLERE GROUP, we pride ourselves in creatin...</td>\n",
       "      <td>5.0</td>\n",
       "      <td>Allere\\n5.0</td>\n",
       "      <td>Des Moines, IA</td>\n",
       "      <td>Kalamazoo, MI</td>\n",
       "      <td>1 to 50 employees</td>\n",
       "      <td>-1</td>\n",
       "      <td>Company - Private</td>\n",
       "      <td>-1</td>\n",
       "      <td>-1</td>\n",
       "      <td>Less than $1 million (USD)</td>\n",
       "      <td>-1</td>\n",
       "    </tr>\n",
       "    <tr>\n",
       "      <td>250</td>\n",
       "      <td>Business Data Analyst I</td>\n",
       "      <td>$49K-$65K (Glassdoor est.)</td>\n",
       "      <td>The Business Data Analyst I is responsible for...</td>\n",
       "      <td>3.8</td>\n",
       "      <td>Digital Turbine\\n3.8</td>\n",
       "      <td>Austin, TX</td>\n",
       "      <td>Austin, TX</td>\n",
       "      <td>51 to 200 employees</td>\n",
       "      <td>2011</td>\n",
       "      <td>Company - Public</td>\n",
       "      <td>Computer Hardware &amp; Software</td>\n",
       "      <td>Information Technology</td>\n",
       "      <td>$100 to $500 million (USD)</td>\n",
       "      <td>-1</td>\n",
       "    </tr>\n",
       "    <tr>\n",
       "      <td>251</td>\n",
       "      <td>Senior Data Analyst</td>\n",
       "      <td>$49K-$65K (Glassdoor est.)</td>\n",
       "      <td>At Vida, our mission is to eradicate chronic d...</td>\n",
       "      <td>3.2</td>\n",
       "      <td>Vida (CA)\\n3.2</td>\n",
       "      <td>San Francisco, CA</td>\n",
       "      <td>San Francisco, CA</td>\n",
       "      <td>51 to 200 employees</td>\n",
       "      <td>2014</td>\n",
       "      <td>Company - Private</td>\n",
       "      <td>Health Care Services &amp; Hospitals</td>\n",
       "      <td>Health Care</td>\n",
       "      <td>Unknown / Non-Applicable</td>\n",
       "      <td>-1</td>\n",
       "    </tr>\n",
       "  </tbody>\n",
       "</table>\n",
       "<p>252 rows × 14 columns</p>\n",
       "</div>"
      ],
      "text/plain": [
       "                                          Job Title  \\\n",
       "0                             Senior Data Scientist   \n",
       "1                                    Data Scientist   \n",
       "2    Scientist/ Sr. Engineer I, Process Development   \n",
       "3                                 Analytics Manager   \n",
       "4              Computational Chemist/Data Scientist   \n",
       "..                                              ...   \n",
       "247                                    Data Analyst   \n",
       "248                                    Data Analyst   \n",
       "249                                    Data Analyst   \n",
       "250                         Business Data Analyst I   \n",
       "251                             Senior Data Analyst   \n",
       "\n",
       "                  Salary Estimate  \\\n",
       "0    $105K-$167K (Glassdoor est.)   \n",
       "1    $105K-$167K (Glassdoor est.)   \n",
       "2    $105K-$167K (Glassdoor est.)   \n",
       "3    $105K-$167K (Glassdoor est.)   \n",
       "4    $105K-$167K (Glassdoor est.)   \n",
       "..                            ...   \n",
       "247    $49K-$65K (Glassdoor est.)   \n",
       "248    $49K-$65K (Glassdoor est.)   \n",
       "249    $49K-$65K (Glassdoor est.)   \n",
       "250    $49K-$65K (Glassdoor est.)   \n",
       "251    $49K-$65K (Glassdoor est.)   \n",
       "\n",
       "                                       Job Description Rating  \\\n",
       "0    About Us\\n\\nAt GutCheck, we pioneered agile ma...    3.8   \n",
       "1    Data Scientist\\n\\nAs Data Scientist at HP Inc....    4.0   \n",
       "2    The Role:\\nCurious about HIGH-THROUGHPUT PROCE...    3.4   \n",
       "3    Responsible for both high level and granular m...    4.4   \n",
       "4    *Organization and Job ID**\\nJob ID: 310562\\n\\n...    3.8   \n",
       "..                                                 ...    ...   \n",
       "247  KellyMitchell matches the best IT and business...    3.6   \n",
       "248  POSITION TITLE: Data Analyst\\n\\nREPORTS TO: AV...    3.7   \n",
       "249  At ALLERE GROUP, we pride ourselves in creatin...    5.0   \n",
       "250  The Business Data Analyst I is responsible for...    3.8   \n",
       "251  At Vida, our mission is to eradicate chronic d...    3.2   \n",
       "\n",
       "                         Company Name           Location       Headquarters  \\\n",
       "0                       GutCheck\\n3.8         Denver, CO         Denver, CO   \n",
       "1                        HP Inc.\\n4.0      San Diego, CA      Palo Alto, CA   \n",
       "2           Moderna Therapeutics\\n3.4        Norwood, MA      Cambridge, MA   \n",
       "3                     OneMagnify\\n4.4       Dearborn, MI        Detroit, MI   \n",
       "4                           PNNL\\n3.8       Richland, WA       Richland, WA   \n",
       "..                                ...                ...                ...   \n",
       "247         Kelly Mitchell Group\\n3.6     New Albany, OH    Saint Louis, MO   \n",
       "248  State Employee Credit Union\\n3.7       Santa Fe, NM        Raleigh, NC   \n",
       "249                       Allere\\n5.0     Des Moines, IA      Kalamazoo, MI   \n",
       "250              Digital Turbine\\n3.8         Austin, TX         Austin, TX   \n",
       "251                    Vida (CA)\\n3.2  San Francisco, CA  San Francisco, CA   \n",
       "\n",
       "                       Size Founded       Type of ownership  \\\n",
       "0       51 to 200 employees    2009       Company - Private   \n",
       "1          10000+ employees    1939        Company - Public   \n",
       "2     501 to 1000 employees    2011        Company - Public   \n",
       "3      201 to 500 employees    1967       Company - Private   \n",
       "4    1001 to 5000 employees    1965              Government   \n",
       "..                      ...     ...                     ...   \n",
       "247  1001 to 5000 employees    1998       Company - Private   \n",
       "248  1001 to 5000 employees    1937  Nonprofit Organization   \n",
       "249       1 to 50 employees      -1       Company - Private   \n",
       "250     51 to 200 employees    2011        Company - Public   \n",
       "251     51 to 200 employees    2014       Company - Private   \n",
       "\n",
       "                                  Industry                        Sector  \\\n",
       "0                  Advertising & Marketing             Business Services   \n",
       "1             Computer Hardware & Software        Information Technology   \n",
       "2                Biotech & Pharmaceuticals     Biotech & Pharmaceuticals   \n",
       "3                  Advertising & Marketing             Business Services   \n",
       "4                                   Energy  Oil, Gas, Energy & Utilities   \n",
       "..                                     ...                           ...   \n",
       "247                 Staffing & Outsourcing             Business Services   \n",
       "248  Investment Banking & Asset Management                       Finance   \n",
       "249                                     -1                            -1   \n",
       "250           Computer Hardware & Software        Information Technology   \n",
       "251       Health Care Services & Hospitals                   Health Care   \n",
       "\n",
       "                              Revenue  \\\n",
       "0            $10 to $25 million (USD)   \n",
       "1            Unknown / Non-Applicable   \n",
       "2              $1 to $5 million (USD)   \n",
       "3            Unknown / Non-Applicable   \n",
       "4    $500 million to $1 billion (USD)   \n",
       "..                                ...   \n",
       "247         $50 to $100 million (USD)   \n",
       "248  $500 million to $1 billion (USD)   \n",
       "249        Less than $1 million (USD)   \n",
       "250        $100 to $500 million (USD)   \n",
       "251          Unknown / Non-Applicable   \n",
       "\n",
       "                                           Competitors  \n",
       "0                         Nielsen, Zappi, SurveyMonkey  \n",
       "1                                                   -1  \n",
       "2                                                   -1  \n",
       "3                                                   -1  \n",
       "4    Oak Ridge National Laboratory, National Renewa...  \n",
       "..                                                 ...  \n",
       "247                                                 -1  \n",
       "248                                                 -1  \n",
       "249                                                 -1  \n",
       "250                                                 -1  \n",
       "251                                                 -1  \n",
       "\n",
       "[252 rows x 14 columns]"
      ]
     },
     "execution_count": 124,
     "metadata": {},
     "output_type": "execute_result"
    }
   ],
   "source": [
    "finaldf"
   ]
  },
  {
   "cell_type": "code",
   "execution_count": 88,
   "metadata": {},
   "outputs": [
    {
     "name": "stdout",
     "output_type": "stream",
     "text": [
      " x out failed\n",
      "Progress: 0/7\n",
      "Progress: 1/7\n",
      "Progress: 2/7\n",
      "Progress: 3/7\n",
      "Progress: 4/7\n",
      "Progress: 5/7\n",
      "Progress: 6/7\n",
      "Progress: 7/7\n"
     ]
    }
   ],
   "source": [
    "df43 = get_jobs(7, False, path, 10, 2)"
   ]
  },
  {
   "cell_type": "code",
   "execution_count": 89,
   "metadata": {},
   "outputs": [
    {
     "name": "stdout",
     "output_type": "stream",
     "text": [
      " x out failed\n",
      "Progress: 0/7\n",
      "Progress: 1/7\n",
      "Progress: 2/7\n",
      "Progress: 3/7\n",
      "Progress: 4/7\n",
      "Progress: 5/7\n",
      "Progress: 6/7\n",
      "Progress: 7/7\n"
     ]
    }
   ],
   "source": [
    "df44 = get_jobs(7, False, path, 10, 3)"
   ]
  },
  {
   "cell_type": "code",
   "execution_count": 90,
   "metadata": {},
   "outputs": [
    {
     "name": "stdout",
     "output_type": "stream",
     "text": [
      " x out failed\n",
      "Progress: 0/7\n",
      "Progress: 1/7\n",
      "Progress: 2/7\n",
      "Progress: 3/7\n",
      "Progress: 4/7\n",
      "Progress: 5/7\n",
      "Progress: 6/7\n",
      "Progress: 7/7\n"
     ]
    }
   ],
   "source": [
    "df45 = get_jobs(7, False, path, 10, 4)"
   ]
  },
  {
   "cell_type": "code",
   "execution_count": 91,
   "metadata": {},
   "outputs": [
    {
     "name": "stdout",
     "output_type": "stream",
     "text": [
      " x out failed\n",
      "Progress: 0/7\n",
      "Progress: 1/7\n",
      "Progress: 2/7\n",
      "Progress: 3/7\n",
      "Progress: 4/7\n",
      "Progress: 5/7\n",
      "Progress: 6/7\n",
      "Progress: 7/7\n"
     ]
    }
   ],
   "source": [
    "df46 = get_jobs(7, False, path, 10, 5)"
   ]
  },
  {
   "cell_type": "code",
   "execution_count": 93,
   "metadata": {},
   "outputs": [
    {
     "name": "stdout",
     "output_type": "stream",
     "text": [
      " x out failed\n",
      "Progress: 0/5\n",
      "Progress: 1/5\n",
      "Progress: 2/5\n",
      "Progress: 3/5\n",
      "Progress: 4/5\n",
      "Progress: 5/5\n"
     ]
    }
   ],
   "source": [
    "df47 = get_jobs(5, False, path, 10, 6)"
   ]
  },
  {
   "cell_type": "code",
   "execution_count": 94,
   "metadata": {},
   "outputs": [
    {
     "name": "stdout",
     "output_type": "stream",
     "text": [
      " x out failed\n",
      "Progress: 0/5\n",
      "Progress: 1/5\n",
      "Progress: 2/5\n",
      "Progress: 3/5\n",
      "Progress: 4/5\n",
      "Progress: 5/5\n"
     ]
    }
   ],
   "source": [
    "df48 = get_jobs(5, False, path, 10, 7)"
   ]
  },
  {
   "cell_type": "code",
   "execution_count": 95,
   "metadata": {},
   "outputs": [
    {
     "name": "stdout",
     "output_type": "stream",
     "text": [
      " x out failed\n",
      "Progress: 0/5\n",
      "Progress: 1/5\n",
      "Progress: 2/5\n",
      "Progress: 3/5\n",
      "Progress: 4/5\n",
      "Progress: 5/5\n"
     ]
    }
   ],
   "source": [
    "df49 = get_jobs(5, False, path, 10, 8)"
   ]
  },
  {
   "cell_type": "code",
   "execution_count": 96,
   "metadata": {},
   "outputs": [
    {
     "name": "stdout",
     "output_type": "stream",
     "text": [
      " x out failed\n",
      "Progress: 0/5\n",
      "Progress: 1/5\n",
      "Progress: 2/5\n",
      "Progress: 3/5\n",
      "Progress: 4/5\n",
      "Progress: 5/5\n"
     ]
    }
   ],
   "source": [
    "df50 = get_jobs(5, False, path, 10, 9)"
   ]
  },
  {
   "cell_type": "code",
   "execution_count": 97,
   "metadata": {},
   "outputs": [
    {
     "name": "stdout",
     "output_type": "stream",
     "text": [
      " x out failed\n",
      "Progress: 0/5\n",
      "Progress: 1/5\n",
      "Progress: 2/5\n",
      "Progress: 3/5\n",
      "Progress: 4/5\n",
      "Progress: 5/5\n"
     ]
    }
   ],
   "source": [
    "df51 = get_jobs(5, False, path, 10, 10)"
   ]
  },
  {
   "cell_type": "code",
   "execution_count": 98,
   "metadata": {},
   "outputs": [
    {
     "name": "stdout",
     "output_type": "stream",
     "text": [
      " x out failed\n",
      "Progress: 0/5\n",
      "Progress: 1/5\n",
      "Progress: 2/5\n",
      "Progress: 3/5\n",
      "Progress: 4/5\n",
      "Progress: 5/5\n"
     ]
    }
   ],
   "source": [
    "df52 = get_jobs(5, False, path, 10, 11)"
   ]
  },
  {
   "cell_type": "code",
   "execution_count": 99,
   "metadata": {},
   "outputs": [
    {
     "name": "stdout",
     "output_type": "stream",
     "text": [
      " x out failed\n",
      "Progress: 0/5\n",
      "Progress: 1/5\n",
      "Progress: 2/5\n",
      "Progress: 3/5\n",
      "Progress: 4/5\n",
      "Progress: 5/5\n"
     ]
    }
   ],
   "source": [
    "df53 = get_jobs(5, False, path, 10, 12)"
   ]
  },
  {
   "cell_type": "code",
   "execution_count": 100,
   "metadata": {},
   "outputs": [
    {
     "name": "stdout",
     "output_type": "stream",
     "text": [
      " x out failed\n",
      "Progress: 0/5\n",
      "Progress: 1/5\n",
      "Progress: 2/5\n",
      "Progress: 3/5\n",
      "Progress: 4/5\n",
      "Progress: 5/5\n"
     ]
    }
   ],
   "source": [
    "df54 = get_jobs(5, False, path, 10, 13)"
   ]
  },
  {
   "cell_type": "code",
   "execution_count": 101,
   "metadata": {},
   "outputs": [
    {
     "name": "stdout",
     "output_type": "stream",
     "text": [
      " x out failed\n",
      "Progress: 0/5\n",
      "Progress: 1/5\n",
      "Progress: 2/5\n",
      "Progress: 3/5\n",
      "Progress: 4/5\n",
      "Progress: 5/5\n"
     ]
    }
   ],
   "source": [
    "df55 = get_jobs(5, False, path, 10, 14)"
   ]
  },
  {
   "cell_type": "code",
   "execution_count": 102,
   "metadata": {},
   "outputs": [
    {
     "name": "stdout",
     "output_type": "stream",
     "text": [
      " x out failed\n",
      "Progress: 0/5\n",
      "Progress: 1/5\n",
      "Progress: 2/5\n",
      "Progress: 3/5\n",
      "Progress: 4/5\n",
      "Progress: 5/5\n"
     ]
    }
   ],
   "source": [
    "df56 = get_jobs(5, False, path, 10, 15)"
   ]
  },
  {
   "cell_type": "code",
   "execution_count": 103,
   "metadata": {},
   "outputs": [
    {
     "name": "stdout",
     "output_type": "stream",
     "text": [
      " x out failed\n",
      "Progress: 0/5\n",
      "Progress: 1/5\n",
      "Progress: 2/5\n",
      "Progress: 3/5\n",
      "Progress: 4/5\n",
      "Progress: 5/5\n"
     ]
    }
   ],
   "source": [
    "df57 = get_jobs(5, False, path, 10, 16)"
   ]
  },
  {
   "cell_type": "code",
   "execution_count": 104,
   "metadata": {},
   "outputs": [
    {
     "name": "stdout",
     "output_type": "stream",
     "text": [
      " x out failed\n",
      "Progress: 0/5\n",
      "Progress: 1/5\n",
      "Progress: 2/5\n",
      "Progress: 3/5\n",
      "Progress: 4/5\n",
      "Progress: 5/5\n"
     ]
    }
   ],
   "source": [
    "df58 = get_jobs(5, False, path, 10, 17)"
   ]
  },
  {
   "cell_type": "code",
   "execution_count": 105,
   "metadata": {},
   "outputs": [
    {
     "name": "stdout",
     "output_type": "stream",
     "text": [
      " x out failed\n",
      "Progress: 0/5\n",
      "Progress: 1/5\n",
      "Progress: 2/5\n",
      "Progress: 3/5\n",
      "Progress: 4/5\n",
      "Progress: 5/5\n"
     ]
    }
   ],
   "source": [
    "df59 = get_jobs(5, False, path, 10, 18)"
   ]
  },
  {
   "cell_type": "code",
   "execution_count": 106,
   "metadata": {},
   "outputs": [
    {
     "name": "stdout",
     "output_type": "stream",
     "text": [
      " x out failed\n",
      "Progress: 0/5\n",
      "Progress: 1/5\n",
      "Progress: 2/5\n",
      "Progress: 3/5\n",
      "Progress: 4/5\n",
      "Progress: 5/5\n"
     ]
    }
   ],
   "source": [
    "df60 = get_jobs(5, False, path, 10, 19)"
   ]
  },
  {
   "cell_type": "code",
   "execution_count": 107,
   "metadata": {},
   "outputs": [
    {
     "name": "stdout",
     "output_type": "stream",
     "text": [
      " x out worked\n",
      "Progress: 0/5\n",
      "Progress: 1/5\n",
      "Progress: 2/5\n",
      "Progress: 3/5\n",
      "Progress: 4/5\n",
      "Progress: 5/5\n"
     ]
    }
   ],
   "source": [
    "df61 = get_jobs(5, False, path, 10, 20)"
   ]
  },
  {
   "cell_type": "code",
   "execution_count": 108,
   "metadata": {},
   "outputs": [
    {
     "name": "stdout",
     "output_type": "stream",
     "text": [
      " x out failed\n",
      "Progress: 0/5\n",
      "Progress: 1/5\n",
      "Progress: 2/5\n",
      "Progress: 3/5\n",
      "Progress: 4/5\n",
      "Progress: 5/5\n"
     ]
    }
   ],
   "source": [
    "df62 = get_jobs(5, False, path, 10, 21)"
   ]
  },
  {
   "cell_type": "code",
   "execution_count": 110,
   "metadata": {},
   "outputs": [
    {
     "name": "stdout",
     "output_type": "stream",
     "text": [
      " x out failed\n",
      "Progress: 0/5\n",
      "Progress: 1/5\n",
      "Progress: 2/5\n",
      "Progress: 3/5\n",
      "Progress: 4/5\n",
      "Progress: 5/5\n"
     ]
    }
   ],
   "source": [
    "df63 = get_jobs(5, False, path, 10, 22)"
   ]
  },
  {
   "cell_type": "code",
   "execution_count": 112,
   "metadata": {},
   "outputs": [
    {
     "name": "stdout",
     "output_type": "stream",
     "text": [
      " x out failed\n",
      "Progress: 0/5\n",
      "Progress: 1/5\n",
      "Progress: 2/5\n",
      "Progress: 3/5\n",
      "Progress: 4/5\n",
      "Progress: 5/5\n"
     ]
    }
   ],
   "source": [
    "df64 = get_jobs(5, False, path, 10, 23)"
   ]
  },
  {
   "cell_type": "code",
   "execution_count": 113,
   "metadata": {},
   "outputs": [
    {
     "name": "stdout",
     "output_type": "stream",
     "text": [
      " x out failed\n",
      "Progress: 0/5\n",
      "Progress: 1/5\n",
      "Progress: 2/5\n",
      "Progress: 3/5\n",
      "Progress: 4/5\n",
      "Progress: 5/5\n"
     ]
    }
   ],
   "source": [
    "df65 = get_jobs(5, False, path, 10, 24)"
   ]
  },
  {
   "cell_type": "code",
   "execution_count": 114,
   "metadata": {},
   "outputs": [
    {
     "name": "stdout",
     "output_type": "stream",
     "text": [
      " x out failed\n",
      "Progress: 0/5\n",
      "Progress: 1/5\n",
      "Progress: 2/5\n",
      "Progress: 3/5\n",
      "Progress: 4/5\n",
      "Progress: 5/5\n"
     ]
    }
   ],
   "source": [
    "df66 = get_jobs(5, False, path, 10, 25)"
   ]
  },
  {
   "cell_type": "code",
   "execution_count": 115,
   "metadata": {},
   "outputs": [
    {
     "name": "stdout",
     "output_type": "stream",
     "text": [
      " x out failed\n",
      "Progress: 0/5\n",
      "Progress: 1/5\n",
      "Progress: 2/5\n",
      "Progress: 3/5\n",
      "Progress: 4/5\n",
      "Progress: 5/5\n"
     ]
    }
   ],
   "source": [
    "df67 = get_jobs(5, False, path, 10, 26)"
   ]
  },
  {
   "cell_type": "code",
   "execution_count": 116,
   "metadata": {},
   "outputs": [
    {
     "name": "stdout",
     "output_type": "stream",
     "text": [
      " x out failed\n",
      "Progress: 0/5\n",
      "Progress: 1/5\n",
      "Progress: 2/5\n",
      "Progress: 3/5\n",
      "Progress: 4/5\n",
      "Progress: 5/5\n"
     ]
    }
   ],
   "source": [
    "df68 = get_jobs(5, False, path, 10, 27)"
   ]
  },
  {
   "cell_type": "code",
   "execution_count": 117,
   "metadata": {},
   "outputs": [
    {
     "name": "stdout",
     "output_type": "stream",
     "text": [
      " x out failed\n",
      "Progress: 0/5\n",
      "Progress: 1/5\n",
      "Progress: 2/5\n",
      "Progress: 3/5\n",
      "Progress: 4/5\n",
      "Progress: 5/5\n"
     ]
    }
   ],
   "source": [
    "df69 = get_jobs(5, False, path, 10, 28)"
   ]
  },
  {
   "cell_type": "code",
   "execution_count": 118,
   "metadata": {},
   "outputs": [
    {
     "name": "stdout",
     "output_type": "stream",
     "text": [
      " x out failed\n",
      "Progress: 0/5\n",
      "Progress: 1/5\n",
      "Progress: 2/5\n",
      "Progress: 3/5\n",
      "Progress: 4/5\n",
      "Progress: 5/5\n"
     ]
    }
   ],
   "source": [
    "df70 = get_jobs(5, False, path, 10, 29)"
   ]
  },
  {
   "cell_type": "code",
   "execution_count": 119,
   "metadata": {},
   "outputs": [
    {
     "name": "stdout",
     "output_type": "stream",
     "text": [
      " x out failed\n",
      "Progress: 0/5\n",
      "Progress: 1/5\n",
      "Progress: 2/5\n",
      "Progress: 3/5\n",
      "Progress: 4/5\n",
      "Progress: 5/5\n"
     ]
    }
   ],
   "source": [
    "df71 = get_jobs(5, False, path, 10, 30)"
   ]
  },
  {
   "cell_type": "code",
   "execution_count": 125,
   "metadata": {},
   "outputs": [],
   "source": [
    "finaldf = pd.concat([finaldf,df43,df44,df45,df46,df47,df48,df49,df50,df51,df52,df53,df54,df55,df56,df57,df58,df59,df60,df61,df62,df63,df64,df65,df66,df67,df68,df69,df70,df71], ignore_index = True)"
   ]
  },
  {
   "cell_type": "code",
   "execution_count": 126,
   "metadata": {},
   "outputs": [
    {
     "data": {
      "text/html": [
       "<div>\n",
       "<style scoped>\n",
       "    .dataframe tbody tr th:only-of-type {\n",
       "        vertical-align: middle;\n",
       "    }\n",
       "\n",
       "    .dataframe tbody tr th {\n",
       "        vertical-align: top;\n",
       "    }\n",
       "\n",
       "    .dataframe thead th {\n",
       "        text-align: right;\n",
       "    }\n",
       "</style>\n",
       "<table border=\"1\" class=\"dataframe\">\n",
       "  <thead>\n",
       "    <tr style=\"text-align: right;\">\n",
       "      <th></th>\n",
       "      <th>Job Title</th>\n",
       "      <th>Salary Estimate</th>\n",
       "      <th>Job Description</th>\n",
       "      <th>Rating</th>\n",
       "      <th>Company Name</th>\n",
       "      <th>Location</th>\n",
       "      <th>Headquarters</th>\n",
       "      <th>Size</th>\n",
       "      <th>Founded</th>\n",
       "      <th>Type of ownership</th>\n",
       "      <th>Industry</th>\n",
       "      <th>Sector</th>\n",
       "      <th>Revenue</th>\n",
       "      <th>Competitors</th>\n",
       "    </tr>\n",
       "  </thead>\n",
       "  <tbody>\n",
       "    <tr>\n",
       "      <td>0</td>\n",
       "      <td>Senior Data Scientist</td>\n",
       "      <td>$105K-$167K (Glassdoor est.)</td>\n",
       "      <td>About Us\\n\\nAt GutCheck, we pioneered agile ma...</td>\n",
       "      <td>3.8</td>\n",
       "      <td>GutCheck\\n3.8</td>\n",
       "      <td>Denver, CO</td>\n",
       "      <td>Denver, CO</td>\n",
       "      <td>51 to 200 employees</td>\n",
       "      <td>2009</td>\n",
       "      <td>Company - Private</td>\n",
       "      <td>Advertising &amp; Marketing</td>\n",
       "      <td>Business Services</td>\n",
       "      <td>$10 to $25 million (USD)</td>\n",
       "      <td>Nielsen, Zappi, SurveyMonkey</td>\n",
       "    </tr>\n",
       "    <tr>\n",
       "      <td>1</td>\n",
       "      <td>Data Scientist</td>\n",
       "      <td>$105K-$167K (Glassdoor est.)</td>\n",
       "      <td>Data Scientist\\n\\nAs Data Scientist at HP Inc....</td>\n",
       "      <td>4.0</td>\n",
       "      <td>HP Inc.\\n4.0</td>\n",
       "      <td>San Diego, CA</td>\n",
       "      <td>Palo Alto, CA</td>\n",
       "      <td>10000+ employees</td>\n",
       "      <td>1939</td>\n",
       "      <td>Company - Public</td>\n",
       "      <td>Computer Hardware &amp; Software</td>\n",
       "      <td>Information Technology</td>\n",
       "      <td>Unknown / Non-Applicable</td>\n",
       "      <td>-1</td>\n",
       "    </tr>\n",
       "    <tr>\n",
       "      <td>2</td>\n",
       "      <td>Scientist/ Sr. Engineer I, Process Development</td>\n",
       "      <td>$105K-$167K (Glassdoor est.)</td>\n",
       "      <td>The Role:\\nCurious about HIGH-THROUGHPUT PROCE...</td>\n",
       "      <td>3.4</td>\n",
       "      <td>Moderna Therapeutics\\n3.4</td>\n",
       "      <td>Norwood, MA</td>\n",
       "      <td>Cambridge, MA</td>\n",
       "      <td>501 to 1000 employees</td>\n",
       "      <td>2011</td>\n",
       "      <td>Company - Public</td>\n",
       "      <td>Biotech &amp; Pharmaceuticals</td>\n",
       "      <td>Biotech &amp; Pharmaceuticals</td>\n",
       "      <td>$1 to $5 million (USD)</td>\n",
       "      <td>-1</td>\n",
       "    </tr>\n",
       "    <tr>\n",
       "      <td>3</td>\n",
       "      <td>Analytics Manager</td>\n",
       "      <td>$105K-$167K (Glassdoor est.)</td>\n",
       "      <td>Responsible for both high level and granular m...</td>\n",
       "      <td>4.4</td>\n",
       "      <td>OneMagnify\\n4.4</td>\n",
       "      <td>Dearborn, MI</td>\n",
       "      <td>Detroit, MI</td>\n",
       "      <td>201 to 500 employees</td>\n",
       "      <td>1967</td>\n",
       "      <td>Company - Private</td>\n",
       "      <td>Advertising &amp; Marketing</td>\n",
       "      <td>Business Services</td>\n",
       "      <td>Unknown / Non-Applicable</td>\n",
       "      <td>-1</td>\n",
       "    </tr>\n",
       "    <tr>\n",
       "      <td>4</td>\n",
       "      <td>Computational Chemist/Data Scientist</td>\n",
       "      <td>$105K-$167K (Glassdoor est.)</td>\n",
       "      <td>*Organization and Job ID**\\nJob ID: 310562\\n\\n...</td>\n",
       "      <td>3.8</td>\n",
       "      <td>PNNL\\n3.8</td>\n",
       "      <td>Richland, WA</td>\n",
       "      <td>Richland, WA</td>\n",
       "      <td>1001 to 5000 employees</td>\n",
       "      <td>1965</td>\n",
       "      <td>Government</td>\n",
       "      <td>Energy</td>\n",
       "      <td>Oil, Gas, Energy &amp; Utilities</td>\n",
       "      <td>$500 million to $1 billion (USD)</td>\n",
       "      <td>Oak Ridge National Laboratory, National Renewa...</td>\n",
       "    </tr>\n",
       "    <tr>\n",
       "      <td>...</td>\n",
       "      <td>...</td>\n",
       "      <td>...</td>\n",
       "      <td>...</td>\n",
       "      <td>...</td>\n",
       "      <td>...</td>\n",
       "      <td>...</td>\n",
       "      <td>...</td>\n",
       "      <td>...</td>\n",
       "      <td>...</td>\n",
       "      <td>...</td>\n",
       "      <td>...</td>\n",
       "      <td>...</td>\n",
       "      <td>...</td>\n",
       "      <td>...</td>\n",
       "    </tr>\n",
       "    <tr>\n",
       "      <td>400</td>\n",
       "      <td>Data Engineer/Sr Data Engineer - Data Engineer...</td>\n",
       "      <td>$106K-$123K (Glassdoor est.)</td>\n",
       "      <td>Data Engineer/Sr Data Engineer - Data Engineer...</td>\n",
       "      <td>3.3</td>\n",
       "      <td>Liberty Mutual Insurance\\n3.3</td>\n",
       "      <td>Seattle, WA</td>\n",
       "      <td>Boston, MA</td>\n",
       "      <td>10000+ employees</td>\n",
       "      <td>1912</td>\n",
       "      <td>Company - Private</td>\n",
       "      <td>Insurance Carriers</td>\n",
       "      <td>Insurance</td>\n",
       "      <td>$10+ billion (USD)</td>\n",
       "      <td>Travelers, Allstate, State Farm</td>\n",
       "    </tr>\n",
       "    <tr>\n",
       "      <td>401</td>\n",
       "      <td>Data Engineer</td>\n",
       "      <td>$106K-$123K (Glassdoor est.)</td>\n",
       "      <td>Your Opportunity\\n\\n\\nDo you want to be part o...</td>\n",
       "      <td>3.6</td>\n",
       "      <td>Charles Schwab\\n3.6</td>\n",
       "      <td>Westlake, TX</td>\n",
       "      <td>San Francisco, CA</td>\n",
       "      <td>10000+ employees</td>\n",
       "      <td>1973</td>\n",
       "      <td>Company - Public</td>\n",
       "      <td>Investment Banking &amp; Asset Management</td>\n",
       "      <td>Finance</td>\n",
       "      <td>$5 to $10 billion (USD)</td>\n",
       "      <td>-1</td>\n",
       "    </tr>\n",
       "    <tr>\n",
       "      <td>402</td>\n",
       "      <td>Senior WAN Engineer</td>\n",
       "      <td>$106K-$123K (Glassdoor est.)</td>\n",
       "      <td>Secure our Nation, Ignite your Future\\n\\nLocat...</td>\n",
       "      <td>4.1</td>\n",
       "      <td>ManTech\\n4.1</td>\n",
       "      <td>Williston, VT</td>\n",
       "      <td>Herndon, VA</td>\n",
       "      <td>5001 to 10000 employees</td>\n",
       "      <td>1968</td>\n",
       "      <td>Company - Public</td>\n",
       "      <td>Research &amp; Development</td>\n",
       "      <td>Business Services</td>\n",
       "      <td>$1 to $2 billion (USD)</td>\n",
       "      <td>-1</td>\n",
       "    </tr>\n",
       "    <tr>\n",
       "      <td>403</td>\n",
       "      <td>CQV Engineers - Compliance, Cleaning Validatio...</td>\n",
       "      <td>$106K-$123K (Glassdoor est.)</td>\n",
       "      <td>CAI is a 100% employee-owned company establish...</td>\n",
       "      <td>4.3</td>\n",
       "      <td>CAI\\n4.3</td>\n",
       "      <td>Denver, CO</td>\n",
       "      <td>Indianapolis, IN</td>\n",
       "      <td>501 to 1000 employees</td>\n",
       "      <td>1996</td>\n",
       "      <td>Company - Private</td>\n",
       "      <td>Architectural &amp; Engineering Services</td>\n",
       "      <td>Business Services</td>\n",
       "      <td>$50 to $100 million (USD)</td>\n",
       "      <td>Sequence, PSC Biotech Corporation, ProPharma G...</td>\n",
       "    </tr>\n",
       "    <tr>\n",
       "      <td>404</td>\n",
       "      <td>Cost Engineer</td>\n",
       "      <td>$106K-$123K (Glassdoor est.)</td>\n",
       "      <td>Introduction\\n\\n\\nASML brings together the mos...</td>\n",
       "      <td>3.7</td>\n",
       "      <td>ASML\\n3.7</td>\n",
       "      <td>Wilton, CT</td>\n",
       "      <td>Veldhoven, Netherlands</td>\n",
       "      <td>10000+ employees</td>\n",
       "      <td>1984</td>\n",
       "      <td>Company - Public</td>\n",
       "      <td>Computer Hardware &amp; Software</td>\n",
       "      <td>Information Technology</td>\n",
       "      <td>$5 to $10 billion (USD)</td>\n",
       "      <td>Applied Materials, KLA, Lam Research</td>\n",
       "    </tr>\n",
       "  </tbody>\n",
       "</table>\n",
       "<p>405 rows × 14 columns</p>\n",
       "</div>"
      ],
      "text/plain": [
       "                                             Job Title  \\\n",
       "0                                Senior Data Scientist   \n",
       "1                                       Data Scientist   \n",
       "2       Scientist/ Sr. Engineer I, Process Development   \n",
       "3                                    Analytics Manager   \n",
       "4                 Computational Chemist/Data Scientist   \n",
       "..                                                 ...   \n",
       "400  Data Engineer/Sr Data Engineer - Data Engineer...   \n",
       "401                                      Data Engineer   \n",
       "402                                Senior WAN Engineer   \n",
       "403  CQV Engineers - Compliance, Cleaning Validatio...   \n",
       "404                                      Cost Engineer   \n",
       "\n",
       "                  Salary Estimate  \\\n",
       "0    $105K-$167K (Glassdoor est.)   \n",
       "1    $105K-$167K (Glassdoor est.)   \n",
       "2    $105K-$167K (Glassdoor est.)   \n",
       "3    $105K-$167K (Glassdoor est.)   \n",
       "4    $105K-$167K (Glassdoor est.)   \n",
       "..                            ...   \n",
       "400  $106K-$123K (Glassdoor est.)   \n",
       "401  $106K-$123K (Glassdoor est.)   \n",
       "402  $106K-$123K (Glassdoor est.)   \n",
       "403  $106K-$123K (Glassdoor est.)   \n",
       "404  $106K-$123K (Glassdoor est.)   \n",
       "\n",
       "                                       Job Description Rating  \\\n",
       "0    About Us\\n\\nAt GutCheck, we pioneered agile ma...    3.8   \n",
       "1    Data Scientist\\n\\nAs Data Scientist at HP Inc....    4.0   \n",
       "2    The Role:\\nCurious about HIGH-THROUGHPUT PROCE...    3.4   \n",
       "3    Responsible for both high level and granular m...    4.4   \n",
       "4    *Organization and Job ID**\\nJob ID: 310562\\n\\n...    3.8   \n",
       "..                                                 ...    ...   \n",
       "400  Data Engineer/Sr Data Engineer - Data Engineer...    3.3   \n",
       "401  Your Opportunity\\n\\n\\nDo you want to be part o...    3.6   \n",
       "402  Secure our Nation, Ignite your Future\\n\\nLocat...    4.1   \n",
       "403  CAI is a 100% employee-owned company establish...    4.3   \n",
       "404  Introduction\\n\\n\\nASML brings together the mos...    3.7   \n",
       "\n",
       "                      Company Name       Location            Headquarters  \\\n",
       "0                    GutCheck\\n3.8     Denver, CO              Denver, CO   \n",
       "1                     HP Inc.\\n4.0  San Diego, CA           Palo Alto, CA   \n",
       "2        Moderna Therapeutics\\n3.4    Norwood, MA           Cambridge, MA   \n",
       "3                  OneMagnify\\n4.4   Dearborn, MI             Detroit, MI   \n",
       "4                        PNNL\\n3.8   Richland, WA            Richland, WA   \n",
       "..                             ...            ...                     ...   \n",
       "400  Liberty Mutual Insurance\\n3.3    Seattle, WA              Boston, MA   \n",
       "401            Charles Schwab\\n3.6   Westlake, TX       San Francisco, CA   \n",
       "402                   ManTech\\n4.1  Williston, VT             Herndon, VA   \n",
       "403                       CAI\\n4.3     Denver, CO        Indianapolis, IN   \n",
       "404                      ASML\\n3.7     Wilton, CT  Veldhoven, Netherlands   \n",
       "\n",
       "                        Size Founded  Type of ownership  \\\n",
       "0        51 to 200 employees    2009  Company - Private   \n",
       "1           10000+ employees    1939   Company - Public   \n",
       "2      501 to 1000 employees    2011   Company - Public   \n",
       "3       201 to 500 employees    1967  Company - Private   \n",
       "4     1001 to 5000 employees    1965         Government   \n",
       "..                       ...     ...                ...   \n",
       "400         10000+ employees    1912  Company - Private   \n",
       "401         10000+ employees    1973   Company - Public   \n",
       "402  5001 to 10000 employees    1968   Company - Public   \n",
       "403    501 to 1000 employees    1996  Company - Private   \n",
       "404         10000+ employees    1984   Company - Public   \n",
       "\n",
       "                                  Industry                        Sector  \\\n",
       "0                  Advertising & Marketing             Business Services   \n",
       "1             Computer Hardware & Software        Information Technology   \n",
       "2                Biotech & Pharmaceuticals     Biotech & Pharmaceuticals   \n",
       "3                  Advertising & Marketing             Business Services   \n",
       "4                                   Energy  Oil, Gas, Energy & Utilities   \n",
       "..                                     ...                           ...   \n",
       "400                     Insurance Carriers                     Insurance   \n",
       "401  Investment Banking & Asset Management                       Finance   \n",
       "402                 Research & Development             Business Services   \n",
       "403   Architectural & Engineering Services             Business Services   \n",
       "404           Computer Hardware & Software        Information Technology   \n",
       "\n",
       "                              Revenue  \\\n",
       "0            $10 to $25 million (USD)   \n",
       "1            Unknown / Non-Applicable   \n",
       "2              $1 to $5 million (USD)   \n",
       "3            Unknown / Non-Applicable   \n",
       "4    $500 million to $1 billion (USD)   \n",
       "..                                ...   \n",
       "400                $10+ billion (USD)   \n",
       "401           $5 to $10 billion (USD)   \n",
       "402            $1 to $2 billion (USD)   \n",
       "403         $50 to $100 million (USD)   \n",
       "404           $5 to $10 billion (USD)   \n",
       "\n",
       "                                           Competitors  \n",
       "0                         Nielsen, Zappi, SurveyMonkey  \n",
       "1                                                   -1  \n",
       "2                                                   -1  \n",
       "3                                                   -1  \n",
       "4    Oak Ridge National Laboratory, National Renewa...  \n",
       "..                                                 ...  \n",
       "400                    Travelers, Allstate, State Farm  \n",
       "401                                                 -1  \n",
       "402                                                 -1  \n",
       "403  Sequence, PSC Biotech Corporation, ProPharma G...  \n",
       "404               Applied Materials, KLA, Lam Research  \n",
       "\n",
       "[405 rows x 14 columns]"
      ]
     },
     "execution_count": 126,
     "metadata": {},
     "output_type": "execute_result"
    }
   ],
   "source": [
    "finaldf"
   ]
  },
  {
   "cell_type": "code",
   "execution_count": 128,
   "metadata": {},
   "outputs": [
    {
     "name": "stdout",
     "output_type": "stream",
     "text": [
      " x out failed\n",
      "Progress: 0/5\n",
      "Progress: 1/5\n",
      "Progress: 2/5\n",
      "Progress: 3/5\n",
      "Progress: 4/5\n",
      "Progress: 5/5\n"
     ]
    }
   ],
   "source": [
    "df72 = get_jobs(5, False, path, 10, 2)"
   ]
  },
  {
   "cell_type": "code",
   "execution_count": 129,
   "metadata": {},
   "outputs": [
    {
     "name": "stdout",
     "output_type": "stream",
     "text": [
      " x out failed\n",
      "Progress: 0/5\n",
      "Progress: 1/5\n",
      "Progress: 2/5\n",
      "Progress: 3/5\n",
      "Progress: 4/5\n",
      "Progress: 5/5\n"
     ]
    }
   ],
   "source": [
    "df73 = get_jobs(5, False, path, 10, 3)"
   ]
  },
  {
   "cell_type": "code",
   "execution_count": 130,
   "metadata": {},
   "outputs": [
    {
     "name": "stdout",
     "output_type": "stream",
     "text": [
      " x out failed\n",
      "Progress: 0/5\n",
      "Progress: 1/5\n",
      "Progress: 2/5\n",
      "Progress: 3/5\n",
      "Progress: 4/5\n",
      "Progress: 5/5\n"
     ]
    }
   ],
   "source": [
    "df74 = get_jobs(5, False, path, 10, 4)"
   ]
  },
  {
   "cell_type": "code",
   "execution_count": 131,
   "metadata": {},
   "outputs": [
    {
     "name": "stdout",
     "output_type": "stream",
     "text": [
      " x out failed\n",
      "Progress: 0/5\n",
      "Progress: 1/5\n",
      "Progress: 2/5\n",
      "Progress: 3/5\n",
      "Progress: 4/5\n",
      "Progress: 5/5\n"
     ]
    }
   ],
   "source": [
    "df75 = get_jobs(5, False, path, 10, 5)"
   ]
  },
  {
   "cell_type": "code",
   "execution_count": 132,
   "metadata": {},
   "outputs": [
    {
     "name": "stdout",
     "output_type": "stream",
     "text": [
      " x out failed\n",
      "Progress: 0/5\n",
      "Progress: 1/5\n",
      "Progress: 2/5\n",
      "Progress: 3/5\n",
      "Progress: 4/5\n",
      "Progress: 5/5\n"
     ]
    }
   ],
   "source": [
    "df76 = get_jobs(5, False, path, 10, 6)"
   ]
  },
  {
   "cell_type": "code",
   "execution_count": 133,
   "metadata": {},
   "outputs": [
    {
     "name": "stdout",
     "output_type": "stream",
     "text": [
      " x out failed\n",
      "Progress: 0/5\n",
      "Progress: 1/5\n",
      "Progress: 2/5\n",
      "Progress: 3/5\n",
      "Progress: 4/5\n",
      "Progress: 5/5\n"
     ]
    }
   ],
   "source": [
    "df77 = get_jobs(5, False, path, 10, 7)"
   ]
  },
  {
   "cell_type": "code",
   "execution_count": 134,
   "metadata": {},
   "outputs": [
    {
     "name": "stdout",
     "output_type": "stream",
     "text": [
      " x out failed\n",
      "Progress: 0/5\n",
      "Progress: 1/5\n",
      "Progress: 2/5\n",
      "Progress: 3/5\n",
      "Progress: 4/5\n",
      "Progress: 5/5\n"
     ]
    }
   ],
   "source": [
    "df78 = get_jobs(5, False, path, 10, 8)"
   ]
  },
  {
   "cell_type": "code",
   "execution_count": 135,
   "metadata": {},
   "outputs": [
    {
     "name": "stdout",
     "output_type": "stream",
     "text": [
      " x out failed\n",
      "Progress: 0/5\n",
      "Progress: 1/5\n",
      "Progress: 2/5\n",
      "Progress: 3/5\n",
      "Progress: 4/5\n",
      "Progress: 5/5\n"
     ]
    }
   ],
   "source": [
    "df79 = get_jobs(5, False, path, 10, 9)"
   ]
  },
  {
   "cell_type": "code",
   "execution_count": 136,
   "metadata": {},
   "outputs": [
    {
     "name": "stdout",
     "output_type": "stream",
     "text": [
      " x out failed\n",
      "Progress: 0/5\n",
      "Progress: 1/5\n",
      "Progress: 2/5\n",
      "Progress: 3/5\n",
      "Progress: 4/5\n",
      "Progress: 5/5\n"
     ]
    }
   ],
   "source": [
    "df80 = get_jobs(5, False, path, 10, 10)"
   ]
  },
  {
   "cell_type": "code",
   "execution_count": 137,
   "metadata": {},
   "outputs": [
    {
     "name": "stdout",
     "output_type": "stream",
     "text": [
      " x out failed\n",
      "Progress: 0/5\n",
      "Progress: 1/5\n",
      "Progress: 2/5\n",
      "Progress: 3/5\n",
      "Progress: 4/5\n",
      "Progress: 5/5\n"
     ]
    }
   ],
   "source": [
    "df81 = get_jobs(5, False, path, 10, 11)"
   ]
  },
  {
   "cell_type": "code",
   "execution_count": 138,
   "metadata": {},
   "outputs": [
    {
     "name": "stdout",
     "output_type": "stream",
     "text": [
      " x out failed\n",
      "Progress: 0/5\n",
      "Progress: 1/5\n",
      "Progress: 2/5\n",
      "Progress: 3/5\n",
      "Progress: 4/5\n",
      "Progress: 5/5\n"
     ]
    }
   ],
   "source": [
    "df82 = get_jobs(5, False, path, 10, 12)"
   ]
  },
  {
   "cell_type": "code",
   "execution_count": 139,
   "metadata": {},
   "outputs": [
    {
     "name": "stdout",
     "output_type": "stream",
     "text": [
      " x out failed\n",
      "Progress: 0/5\n",
      "Progress: 1/5\n",
      "Progress: 2/5\n",
      "Progress: 3/5\n",
      "Progress: 4/5\n",
      "Progress: 5/5\n"
     ]
    }
   ],
   "source": [
    "df83 = get_jobs(5, False, path, 10, 13)"
   ]
  },
  {
   "cell_type": "code",
   "execution_count": 140,
   "metadata": {},
   "outputs": [
    {
     "name": "stdout",
     "output_type": "stream",
     "text": [
      " x out failed\n",
      "Progress: 0/5\n",
      "Progress: 1/5\n",
      "Progress: 2/5\n",
      "Progress: 3/5\n",
      "Progress: 4/5\n",
      "Progress: 5/5\n"
     ]
    }
   ],
   "source": [
    "df84 = get_jobs(5, False, path, 10, 14)"
   ]
  },
  {
   "cell_type": "code",
   "execution_count": 141,
   "metadata": {},
   "outputs": [
    {
     "name": "stdout",
     "output_type": "stream",
     "text": [
      " x out failed\n",
      "Progress: 0/5\n",
      "Progress: 1/5\n",
      "Progress: 2/5\n",
      "Progress: 3/5\n",
      "Progress: 4/5\n",
      "Progress: 5/5\n"
     ]
    }
   ],
   "source": [
    "df85 = get_jobs(5, False, path, 10, 15)"
   ]
  },
  {
   "cell_type": "code",
   "execution_count": 142,
   "metadata": {},
   "outputs": [
    {
     "name": "stdout",
     "output_type": "stream",
     "text": [
      " x out failed\n",
      "Progress: 0/5\n",
      "Progress: 1/5\n",
      "Progress: 2/5\n",
      "Progress: 3/5\n",
      "Progress: 4/5\n",
      "Progress: 5/5\n"
     ]
    }
   ],
   "source": [
    "df86 = get_jobs(5, False, path, 10, 16)"
   ]
  },
  {
   "cell_type": "code",
   "execution_count": 143,
   "metadata": {},
   "outputs": [
    {
     "name": "stdout",
     "output_type": "stream",
     "text": [
      " x out failed\n",
      "Progress: 0/5\n",
      "Progress: 1/5\n",
      "Progress: 2/5\n",
      "Progress: 3/5\n",
      "Progress: 4/5\n",
      "Progress: 5/5\n"
     ]
    }
   ],
   "source": [
    "df87 = get_jobs(5, False, path, 10, 17)"
   ]
  },
  {
   "cell_type": "code",
   "execution_count": 144,
   "metadata": {},
   "outputs": [
    {
     "name": "stdout",
     "output_type": "stream",
     "text": [
      " x out failed\n",
      "Progress: 0/5\n",
      "Progress: 1/5\n",
      "Progress: 2/5\n",
      "Progress: 3/5\n",
      "Progress: 4/5\n",
      "Progress: 5/5\n"
     ]
    }
   ],
   "source": [
    "df88 = get_jobs(5, False, path, 10, 18)"
   ]
  },
  {
   "cell_type": "code",
   "execution_count": 146,
   "metadata": {},
   "outputs": [
    {
     "name": "stdout",
     "output_type": "stream",
     "text": [
      " x out failed\n",
      "Progress: 0/5\n",
      "Progress: 1/5\n",
      "Progress: 2/5\n",
      "Progress: 3/5\n",
      "Progress: 4/5\n",
      "Progress: 5/5\n"
     ]
    }
   ],
   "source": [
    "df89 = get_jobs(5, False, path, 10, 19)"
   ]
  },
  {
   "cell_type": "code",
   "execution_count": 147,
   "metadata": {},
   "outputs": [
    {
     "name": "stdout",
     "output_type": "stream",
     "text": [
      " x out failed\n",
      "Progress: 0/5\n",
      "Progress: 1/5\n",
      "Progress: 2/5\n",
      "Progress: 3/5\n",
      "Progress: 4/5\n",
      "Progress: 5/5\n"
     ]
    }
   ],
   "source": [
    "df90 = get_jobs(5, False, path, 10, 20)"
   ]
  },
  {
   "cell_type": "code",
   "execution_count": 148,
   "metadata": {},
   "outputs": [
    {
     "name": "stdout",
     "output_type": "stream",
     "text": [
      " x out failed\n",
      "Progress: 0/5\n",
      "Progress: 1/5\n",
      "Progress: 2/5\n",
      "Progress: 3/5\n",
      "Progress: 4/5\n",
      "Progress: 5/5\n"
     ]
    }
   ],
   "source": [
    "df91 = get_jobs(5, False, path, 10, 21)"
   ]
  },
  {
   "cell_type": "code",
   "execution_count": 149,
   "metadata": {},
   "outputs": [
    {
     "name": "stdout",
     "output_type": "stream",
     "text": [
      " x out failed\n",
      "Progress: 0/5\n",
      "Progress: 1/5\n",
      "Progress: 2/5\n",
      "Progress: 3/5\n",
      "Progress: 4/5\n",
      "Progress: 5/5\n"
     ]
    }
   ],
   "source": [
    "df92 = get_jobs(5, False, path, 10, 22)"
   ]
  },
  {
   "cell_type": "code",
   "execution_count": 150,
   "metadata": {},
   "outputs": [
    {
     "name": "stdout",
     "output_type": "stream",
     "text": [
      " x out failed\n",
      "Progress: 0/5\n",
      "Progress: 1/5\n",
      "Progress: 2/5\n",
      "Progress: 3/5\n",
      "Progress: 4/5\n",
      "Progress: 5/5\n"
     ]
    }
   ],
   "source": [
    "df93 = get_jobs(5, False, path, 10, 23)"
   ]
  },
  {
   "cell_type": "code",
   "execution_count": 151,
   "metadata": {},
   "outputs": [
    {
     "name": "stdout",
     "output_type": "stream",
     "text": [
      " x out failed\n",
      "Progress: 0/5\n",
      "Progress: 1/5\n",
      "Progress: 2/5\n",
      "Progress: 3/5\n",
      "Progress: 4/5\n",
      "Progress: 5/5\n"
     ]
    }
   ],
   "source": [
    "df94 = get_jobs(5, False, path, 10, 24)"
   ]
  },
  {
   "cell_type": "code",
   "execution_count": 152,
   "metadata": {},
   "outputs": [
    {
     "name": "stdout",
     "output_type": "stream",
     "text": [
      " x out failed\n",
      "Progress: 0/5\n",
      "Progress: 1/5\n",
      "Progress: 2/5\n",
      "Progress: 3/5\n",
      "Progress: 4/5\n",
      "Progress: 5/5\n"
     ]
    }
   ],
   "source": [
    "df95 = get_jobs(5, False, path, 10, 25)"
   ]
  },
  {
   "cell_type": "code",
   "execution_count": 153,
   "metadata": {},
   "outputs": [
    {
     "name": "stdout",
     "output_type": "stream",
     "text": [
      " x out failed\n",
      "Progress: 0/5\n",
      "Progress: 1/5\n",
      "Progress: 2/5\n",
      "Progress: 3/5\n",
      "Progress: 4/5\n",
      "Progress: 5/5\n"
     ]
    }
   ],
   "source": [
    "df96 = get_jobs(5, False, path, 10, 26)"
   ]
  },
  {
   "cell_type": "code",
   "execution_count": 154,
   "metadata": {},
   "outputs": [
    {
     "name": "stdout",
     "output_type": "stream",
     "text": [
      " x out failed\n",
      "Progress: 0/5\n",
      "Progress: 1/5\n",
      "Progress: 2/5\n",
      "Progress: 3/5\n",
      "Progress: 4/5\n",
      "Progress: 5/5\n"
     ]
    }
   ],
   "source": [
    "df97 = get_jobs(5, False, path, 10, 27)"
   ]
  },
  {
   "cell_type": "code",
   "execution_count": 155,
   "metadata": {},
   "outputs": [
    {
     "name": "stdout",
     "output_type": "stream",
     "text": [
      " x out failed\n",
      "Progress: 0/5\n",
      "Progress: 1/5\n",
      "Progress: 2/5\n",
      "Progress: 3/5\n",
      "Progress: 4/5\n",
      "Progress: 5/5\n"
     ]
    }
   ],
   "source": [
    "df98 = get_jobs(5, False, path, 10, 28)"
   ]
  },
  {
   "cell_type": "code",
   "execution_count": 156,
   "metadata": {},
   "outputs": [
    {
     "name": "stdout",
     "output_type": "stream",
     "text": [
      " x out failed\n",
      "Progress: 0/5\n",
      "Progress: 1/5\n",
      "Progress: 2/5\n",
      "Progress: 3/5\n",
      "Progress: 4/5\n",
      "Progress: 5/5\n"
     ]
    }
   ],
   "source": [
    "df99 = get_jobs(5, False, path, 10, 29)"
   ]
  },
  {
   "cell_type": "code",
   "execution_count": 157,
   "metadata": {
    "scrolled": true
   },
   "outputs": [
    {
     "name": "stdout",
     "output_type": "stream",
     "text": [
      " x out failed\n",
      "Progress: 0/5\n",
      "Progress: 1/5\n",
      "Progress: 2/5\n",
      "Progress: 3/5\n",
      "Progress: 4/5\n",
      "Progress: 5/5\n"
     ]
    }
   ],
   "source": [
    "df100 = get_jobs(5, False, path, 10, 30)"
   ]
  },
  {
   "cell_type": "code",
   "execution_count": 158,
   "metadata": {},
   "outputs": [],
   "source": [
    "finaldf = pd.concat([finaldf, df72,df73,df74,df75,df76,df77,df78,df79,df80,df81,df82,df83,df84,df85,df86,df87,df88,df89,df90,df91,df92,df93,df94,df95,df96,df97,df98,df99,df100], ignore_index = True)"
   ]
  },
  {
   "cell_type": "code",
   "execution_count": 159,
   "metadata": {},
   "outputs": [
    {
     "data": {
      "text/html": [
       "<div>\n",
       "<style scoped>\n",
       "    .dataframe tbody tr th:only-of-type {\n",
       "        vertical-align: middle;\n",
       "    }\n",
       "\n",
       "    .dataframe tbody tr th {\n",
       "        vertical-align: top;\n",
       "    }\n",
       "\n",
       "    .dataframe thead th {\n",
       "        text-align: right;\n",
       "    }\n",
       "</style>\n",
       "<table border=\"1\" class=\"dataframe\">\n",
       "  <thead>\n",
       "    <tr style=\"text-align: right;\">\n",
       "      <th></th>\n",
       "      <th>Job Title</th>\n",
       "      <th>Salary Estimate</th>\n",
       "      <th>Job Description</th>\n",
       "      <th>Rating</th>\n",
       "      <th>Company Name</th>\n",
       "      <th>Location</th>\n",
       "      <th>Headquarters</th>\n",
       "      <th>Size</th>\n",
       "      <th>Founded</th>\n",
       "      <th>Type of ownership</th>\n",
       "      <th>Industry</th>\n",
       "      <th>Sector</th>\n",
       "      <th>Revenue</th>\n",
       "      <th>Competitors</th>\n",
       "    </tr>\n",
       "  </thead>\n",
       "  <tbody>\n",
       "    <tr>\n",
       "      <td>0</td>\n",
       "      <td>Senior Data Scientist</td>\n",
       "      <td>$105K-$167K (Glassdoor est.)</td>\n",
       "      <td>About Us\\n\\nAt GutCheck, we pioneered agile ma...</td>\n",
       "      <td>3.8</td>\n",
       "      <td>GutCheck\\n3.8</td>\n",
       "      <td>Denver, CO</td>\n",
       "      <td>Denver, CO</td>\n",
       "      <td>51 to 200 employees</td>\n",
       "      <td>2009</td>\n",
       "      <td>Company - Private</td>\n",
       "      <td>Advertising &amp; Marketing</td>\n",
       "      <td>Business Services</td>\n",
       "      <td>$10 to $25 million (USD)</td>\n",
       "      <td>Nielsen, Zappi, SurveyMonkey</td>\n",
       "    </tr>\n",
       "    <tr>\n",
       "      <td>1</td>\n",
       "      <td>Data Scientist</td>\n",
       "      <td>$105K-$167K (Glassdoor est.)</td>\n",
       "      <td>Data Scientist\\n\\nAs Data Scientist at HP Inc....</td>\n",
       "      <td>4.0</td>\n",
       "      <td>HP Inc.\\n4.0</td>\n",
       "      <td>San Diego, CA</td>\n",
       "      <td>Palo Alto, CA</td>\n",
       "      <td>10000+ employees</td>\n",
       "      <td>1939</td>\n",
       "      <td>Company - Public</td>\n",
       "      <td>Computer Hardware &amp; Software</td>\n",
       "      <td>Information Technology</td>\n",
       "      <td>Unknown / Non-Applicable</td>\n",
       "      <td>-1</td>\n",
       "    </tr>\n",
       "    <tr>\n",
       "      <td>2</td>\n",
       "      <td>Scientist/ Sr. Engineer I, Process Development</td>\n",
       "      <td>$105K-$167K (Glassdoor est.)</td>\n",
       "      <td>The Role:\\nCurious about HIGH-THROUGHPUT PROCE...</td>\n",
       "      <td>3.4</td>\n",
       "      <td>Moderna Therapeutics\\n3.4</td>\n",
       "      <td>Norwood, MA</td>\n",
       "      <td>Cambridge, MA</td>\n",
       "      <td>501 to 1000 employees</td>\n",
       "      <td>2011</td>\n",
       "      <td>Company - Public</td>\n",
       "      <td>Biotech &amp; Pharmaceuticals</td>\n",
       "      <td>Biotech &amp; Pharmaceuticals</td>\n",
       "      <td>$1 to $5 million (USD)</td>\n",
       "      <td>-1</td>\n",
       "    </tr>\n",
       "    <tr>\n",
       "      <td>3</td>\n",
       "      <td>Analytics Manager</td>\n",
       "      <td>$105K-$167K (Glassdoor est.)</td>\n",
       "      <td>Responsible for both high level and granular m...</td>\n",
       "      <td>4.4</td>\n",
       "      <td>OneMagnify\\n4.4</td>\n",
       "      <td>Dearborn, MI</td>\n",
       "      <td>Detroit, MI</td>\n",
       "      <td>201 to 500 employees</td>\n",
       "      <td>1967</td>\n",
       "      <td>Company - Private</td>\n",
       "      <td>Advertising &amp; Marketing</td>\n",
       "      <td>Business Services</td>\n",
       "      <td>Unknown / Non-Applicable</td>\n",
       "      <td>-1</td>\n",
       "    </tr>\n",
       "    <tr>\n",
       "      <td>4</td>\n",
       "      <td>Computational Chemist/Data Scientist</td>\n",
       "      <td>$105K-$167K (Glassdoor est.)</td>\n",
       "      <td>*Organization and Job ID**\\nJob ID: 310562\\n\\n...</td>\n",
       "      <td>3.8</td>\n",
       "      <td>PNNL\\n3.8</td>\n",
       "      <td>Richland, WA</td>\n",
       "      <td>Richland, WA</td>\n",
       "      <td>1001 to 5000 employees</td>\n",
       "      <td>1965</td>\n",
       "      <td>Government</td>\n",
       "      <td>Energy</td>\n",
       "      <td>Oil, Gas, Energy &amp; Utilities</td>\n",
       "      <td>$500 million to $1 billion (USD)</td>\n",
       "      <td>Oak Ridge National Laboratory, National Renewa...</td>\n",
       "    </tr>\n",
       "    <tr>\n",
       "      <td>...</td>\n",
       "      <td>...</td>\n",
       "      <td>...</td>\n",
       "      <td>...</td>\n",
       "      <td>...</td>\n",
       "      <td>...</td>\n",
       "      <td>...</td>\n",
       "      <td>...</td>\n",
       "      <td>...</td>\n",
       "      <td>...</td>\n",
       "      <td>...</td>\n",
       "      <td>...</td>\n",
       "      <td>...</td>\n",
       "      <td>...</td>\n",
       "      <td>...</td>\n",
       "    </tr>\n",
       "    <tr>\n",
       "      <td>545</td>\n",
       "      <td>Sr. Software Engineer (Machine Learning)</td>\n",
       "      <td>$146K-$166K (Glassdoor est.)</td>\n",
       "      <td>Technical professionals are defined by what th...</td>\n",
       "      <td>3.4</td>\n",
       "      <td>Samsung Semiconductor, Inc.\\n3.4</td>\n",
       "      <td>San Jose, CA</td>\n",
       "      <td>Suwon, South Korea</td>\n",
       "      <td>1001 to 5000 employees</td>\n",
       "      <td>1983</td>\n",
       "      <td>Subsidiary or Business Segment</td>\n",
       "      <td>Computer Hardware &amp; Software</td>\n",
       "      <td>Information Technology</td>\n",
       "      <td>Unknown / Non-Applicable</td>\n",
       "      <td>-1</td>\n",
       "    </tr>\n",
       "    <tr>\n",
       "      <td>546</td>\n",
       "      <td>Principal Software Engineer for Machine Learning</td>\n",
       "      <td>$146K-$166K (Glassdoor est.)</td>\n",
       "      <td>DECISIVE ANALYTICS Corporation is looking for ...</td>\n",
       "      <td>4.7</td>\n",
       "      <td>DECISIVE ANALYTICS Corporation\\n4.7</td>\n",
       "      <td>Arlington, VA</td>\n",
       "      <td>Arlington, VA</td>\n",
       "      <td>51 to 200 employees</td>\n",
       "      <td>1996</td>\n",
       "      <td>Company - Private</td>\n",
       "      <td>Aerospace &amp; Defense</td>\n",
       "      <td>Aerospace &amp; Defense</td>\n",
       "      <td>$25 to $50 million (USD)</td>\n",
       "      <td>Torch Technologies, American Systems</td>\n",
       "    </tr>\n",
       "    <tr>\n",
       "      <td>547</td>\n",
       "      <td>Engineer - Software (Mid-Senior)</td>\n",
       "      <td>$146K-$166K (Glassdoor est.)</td>\n",
       "      <td>Is it time for a new opportunity? Want to work...</td>\n",
       "      <td>4.6</td>\n",
       "      <td>Space Dynamics Laboratory\\n4.6</td>\n",
       "      <td>Albuquerque, NM</td>\n",
       "      <td>Logan, UT</td>\n",
       "      <td>501 to 1000 employees</td>\n",
       "      <td>1959</td>\n",
       "      <td>Nonprofit Organization</td>\n",
       "      <td>Aerospace &amp; Defense</td>\n",
       "      <td>Aerospace &amp; Defense</td>\n",
       "      <td>$50 to $100 million (USD)</td>\n",
       "      <td>-1</td>\n",
       "    </tr>\n",
       "    <tr>\n",
       "      <td>548</td>\n",
       "      <td>Point72 Healthcare Data Scientist</td>\n",
       "      <td>$146K-$166K (Glassdoor est.)</td>\n",
       "      <td>About Point72\\nPoint72 Asset Management is a g...</td>\n",
       "      <td>3.9</td>\n",
       "      <td>Point72\\n3.9</td>\n",
       "      <td>New York, NY</td>\n",
       "      <td>Stamford, CT</td>\n",
       "      <td>1001 to 5000 employees</td>\n",
       "      <td>2014</td>\n",
       "      <td>Company - Private</td>\n",
       "      <td>Investment Banking &amp; Asset Management</td>\n",
       "      <td>Finance</td>\n",
       "      <td>Unknown / Non-Applicable</td>\n",
       "      <td>-1</td>\n",
       "    </tr>\n",
       "    <tr>\n",
       "      <td>549</td>\n",
       "      <td>Software Engineer</td>\n",
       "      <td>$146K-$166K (Glassdoor est.)</td>\n",
       "      <td>At realtor.com®, we believe that everyone dese...</td>\n",
       "      <td>3.0</td>\n",
       "      <td>realtor.com\\n3.0</td>\n",
       "      <td>Austin, TX</td>\n",
       "      <td>Santa Clara, CA</td>\n",
       "      <td>1001 to 5000 employees</td>\n",
       "      <td>1993</td>\n",
       "      <td>Company - Private</td>\n",
       "      <td>Internet</td>\n",
       "      <td>Information Technology</td>\n",
       "      <td>Unknown / Non-Applicable</td>\n",
       "      <td>Zillow, Trulia, Redfin</td>\n",
       "    </tr>\n",
       "  </tbody>\n",
       "</table>\n",
       "<p>550 rows × 14 columns</p>\n",
       "</div>"
      ],
      "text/plain": [
       "                                            Job Title  \\\n",
       "0                               Senior Data Scientist   \n",
       "1                                      Data Scientist   \n",
       "2      Scientist/ Sr. Engineer I, Process Development   \n",
       "3                                   Analytics Manager   \n",
       "4                Computational Chemist/Data Scientist   \n",
       "..                                                ...   \n",
       "545          Sr. Software Engineer (Machine Learning)   \n",
       "546  Principal Software Engineer for Machine Learning   \n",
       "547                  Engineer - Software (Mid-Senior)   \n",
       "548                 Point72 Healthcare Data Scientist   \n",
       "549                                 Software Engineer   \n",
       "\n",
       "                  Salary Estimate  \\\n",
       "0    $105K-$167K (Glassdoor est.)   \n",
       "1    $105K-$167K (Glassdoor est.)   \n",
       "2    $105K-$167K (Glassdoor est.)   \n",
       "3    $105K-$167K (Glassdoor est.)   \n",
       "4    $105K-$167K (Glassdoor est.)   \n",
       "..                            ...   \n",
       "545  $146K-$166K (Glassdoor est.)   \n",
       "546  $146K-$166K (Glassdoor est.)   \n",
       "547  $146K-$166K (Glassdoor est.)   \n",
       "548  $146K-$166K (Glassdoor est.)   \n",
       "549  $146K-$166K (Glassdoor est.)   \n",
       "\n",
       "                                       Job Description Rating  \\\n",
       "0    About Us\\n\\nAt GutCheck, we pioneered agile ma...    3.8   \n",
       "1    Data Scientist\\n\\nAs Data Scientist at HP Inc....    4.0   \n",
       "2    The Role:\\nCurious about HIGH-THROUGHPUT PROCE...    3.4   \n",
       "3    Responsible for both high level and granular m...    4.4   \n",
       "4    *Organization and Job ID**\\nJob ID: 310562\\n\\n...    3.8   \n",
       "..                                                 ...    ...   \n",
       "545  Technical professionals are defined by what th...    3.4   \n",
       "546  DECISIVE ANALYTICS Corporation is looking for ...    4.7   \n",
       "547  Is it time for a new opportunity? Want to work...    4.6   \n",
       "548  About Point72\\nPoint72 Asset Management is a g...    3.9   \n",
       "549  At realtor.com®, we believe that everyone dese...    3.0   \n",
       "\n",
       "                            Company Name         Location        Headquarters  \\\n",
       "0                          GutCheck\\n3.8       Denver, CO          Denver, CO   \n",
       "1                           HP Inc.\\n4.0    San Diego, CA       Palo Alto, CA   \n",
       "2              Moderna Therapeutics\\n3.4      Norwood, MA       Cambridge, MA   \n",
       "3                        OneMagnify\\n4.4     Dearborn, MI         Detroit, MI   \n",
       "4                              PNNL\\n3.8     Richland, WA        Richland, WA   \n",
       "..                                   ...              ...                 ...   \n",
       "545     Samsung Semiconductor, Inc.\\n3.4     San Jose, CA  Suwon, South Korea   \n",
       "546  DECISIVE ANALYTICS Corporation\\n4.7    Arlington, VA       Arlington, VA   \n",
       "547       Space Dynamics Laboratory\\n4.6  Albuquerque, NM           Logan, UT   \n",
       "548                         Point72\\n3.9     New York, NY        Stamford, CT   \n",
       "549                     realtor.com\\n3.0       Austin, TX     Santa Clara, CA   \n",
       "\n",
       "                       Size Founded               Type of ownership  \\\n",
       "0       51 to 200 employees    2009               Company - Private   \n",
       "1          10000+ employees    1939                Company - Public   \n",
       "2     501 to 1000 employees    2011                Company - Public   \n",
       "3      201 to 500 employees    1967               Company - Private   \n",
       "4    1001 to 5000 employees    1965                      Government   \n",
       "..                      ...     ...                             ...   \n",
       "545  1001 to 5000 employees    1983  Subsidiary or Business Segment   \n",
       "546     51 to 200 employees    1996               Company - Private   \n",
       "547   501 to 1000 employees    1959          Nonprofit Organization   \n",
       "548  1001 to 5000 employees    2014               Company - Private   \n",
       "549  1001 to 5000 employees    1993               Company - Private   \n",
       "\n",
       "                                  Industry                        Sector  \\\n",
       "0                  Advertising & Marketing             Business Services   \n",
       "1             Computer Hardware & Software        Information Technology   \n",
       "2                Biotech & Pharmaceuticals     Biotech & Pharmaceuticals   \n",
       "3                  Advertising & Marketing             Business Services   \n",
       "4                                   Energy  Oil, Gas, Energy & Utilities   \n",
       "..                                     ...                           ...   \n",
       "545           Computer Hardware & Software        Information Technology   \n",
       "546                    Aerospace & Defense           Aerospace & Defense   \n",
       "547                    Aerospace & Defense           Aerospace & Defense   \n",
       "548  Investment Banking & Asset Management                       Finance   \n",
       "549                               Internet        Information Technology   \n",
       "\n",
       "                              Revenue  \\\n",
       "0            $10 to $25 million (USD)   \n",
       "1            Unknown / Non-Applicable   \n",
       "2              $1 to $5 million (USD)   \n",
       "3            Unknown / Non-Applicable   \n",
       "4    $500 million to $1 billion (USD)   \n",
       "..                                ...   \n",
       "545          Unknown / Non-Applicable   \n",
       "546          $25 to $50 million (USD)   \n",
       "547         $50 to $100 million (USD)   \n",
       "548          Unknown / Non-Applicable   \n",
       "549          Unknown / Non-Applicable   \n",
       "\n",
       "                                           Competitors  \n",
       "0                         Nielsen, Zappi, SurveyMonkey  \n",
       "1                                                   -1  \n",
       "2                                                   -1  \n",
       "3                                                   -1  \n",
       "4    Oak Ridge National Laboratory, National Renewa...  \n",
       "..                                                 ...  \n",
       "545                                                 -1  \n",
       "546               Torch Technologies, American Systems  \n",
       "547                                                 -1  \n",
       "548                                                 -1  \n",
       "549                             Zillow, Trulia, Redfin  \n",
       "\n",
       "[550 rows x 14 columns]"
      ]
     },
     "execution_count": 159,
     "metadata": {},
     "output_type": "execute_result"
    }
   ],
   "source": [
    "finaldf"
   ]
  },
  {
   "cell_type": "code",
   "execution_count": 161,
   "metadata": {},
   "outputs": [
    {
     "data": {
      "text/plain": [
       "4"
      ]
     },
     "execution_count": 161,
     "metadata": {},
     "output_type": "execute_result"
    }
   ],
   "source": [
    "finaldf.duplicated().sum()"
   ]
  },
  {
   "cell_type": "code",
   "execution_count": 162,
   "metadata": {},
   "outputs": [],
   "source": [
    "finaldf.drop_duplicates(inplace = True)"
   ]
  },
  {
   "cell_type": "code",
   "execution_count": 163,
   "metadata": {},
   "outputs": [
    {
     "data": {
      "text/plain": [
       "0"
      ]
     },
     "execution_count": 163,
     "metadata": {},
     "output_type": "execute_result"
    }
   ],
   "source": [
    "finaldf.duplicated().sum()"
   ]
  },
  {
   "cell_type": "code",
   "execution_count": 164,
   "metadata": {},
   "outputs": [],
   "source": [
    "finaldf.to_csv('glassdoor_jobs2.csv', index = False)"
   ]
  },
  {
   "cell_type": "code",
   "execution_count": null,
   "metadata": {},
   "outputs": [],
   "source": []
  }
 ],
 "metadata": {
  "kernelspec": {
   "display_name": "Python 3",
   "language": "python",
   "name": "python3"
  },
  "language_info": {
   "codemirror_mode": {
    "name": "ipython",
    "version": 3
   },
   "file_extension": ".py",
   "mimetype": "text/x-python",
   "name": "python",
   "nbconvert_exporter": "python",
   "pygments_lexer": "ipython3",
   "version": "3.6.9"
  },
  "toc": {
   "base_numbering": 1,
   "nav_menu": {},
   "number_sections": true,
   "sideBar": true,
   "skip_h1_title": false,
   "title_cell": "Table of Contents",
   "title_sidebar": "Contents",
   "toc_cell": false,
   "toc_position": {},
   "toc_section_display": true,
   "toc_window_display": false
  }
 },
 "nbformat": 4,
 "nbformat_minor": 2
}
