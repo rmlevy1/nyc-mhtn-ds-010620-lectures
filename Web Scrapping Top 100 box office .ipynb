{
 "cells": [
  {
   "cell_type": "code",
   "execution_count": 1,
   "metadata": {},
   "outputs": [
    {
     "name": "stdout",
     "output_type": "stream",
     "text": [
      "Requirement already satisfied: mysql-connector-python in /opt/anaconda3/envs/learn-env/lib/python3.6/site-packages (8.0.19)\n",
      "Requirement already satisfied: dnspython==1.16.0 in /opt/anaconda3/envs/learn-env/lib/python3.6/site-packages (from mysql-connector-python) (1.16.0)\n",
      "Requirement already satisfied: protobuf==3.6.1 in /opt/anaconda3/envs/learn-env/lib/python3.6/site-packages (from mysql-connector-python) (3.6.1)\n",
      "Requirement already satisfied: setuptools in /opt/anaconda3/envs/learn-env/lib/python3.6/site-packages (from protobuf==3.6.1->mysql-connector-python) (41.2.0)\n",
      "Requirement already satisfied: six>=1.9 in /opt/anaconda3/envs/learn-env/lib/python3.6/site-packages (from protobuf==3.6.1->mysql-connector-python) (1.12.0)\n"
     ]
    }
   ],
   "source": [
    "from bs4 import BeautifulSoup\n",
    "import requests\n",
    "import pandas as pd\n",
    "!pip install mysql-connector-python\n",
    "import mysql.connector \n",
    "from mysql.connector import errorcode"
   ]
  },
  {
   "cell_type": "code",
   "execution_count": 2,
   "metadata": {},
   "outputs": [],
   "source": [
    "def movie(web_content):\n",
    "    movie = web_content.select('b a')\n",
    "    movie = [i.get_text() for i in movie] \n",
    "    movie = movie[:100]\n",
    "    movie = [x.replace(\"â\\x80\\x99\", \"'\") for x in movie]\n",
    "    return movie\n"
   ]
  },
  {
   "cell_type": "code",
   "execution_count": 3,
   "metadata": {},
   "outputs": [],
   "source": [
    "def dbo(web_content):\n",
    "    dbo = web_content.find_all('td', align='right')\n",
    "    dbo = [td.text for td in dbo]\n",
    "    dbos =[]\n",
    "    for number in list(range(0,len(dbo))):\n",
    "        if number%3 == 0:\n",
    "            dbos.append(dbo[number])\n",
    "    dbos = [x[1:] for x in dbos]\n",
    "    dbos = [x.replace(',', '') for x in dbos]\n",
    "    dbos = [int(x) for x in dbos]\n",
    "    return dbos"
   ]
  },
  {
   "cell_type": "code",
   "execution_count": 4,
   "metadata": {},
   "outputs": [],
   "source": [
    "movies = []\n",
    "dbos = []\n",
    "\n",
    "for i in list(range(0,10)):\n",
    "    if i == 0: \n",
    "        url = 'https://www.the-numbers.com/box-office-records/domestic/all-movies/cumulative/all-time'\n",
    "    else: \n",
    "        url = 'https://www.the-numbers.com/box-office-records/domestic/all-movies/cumulative/all-time/{}01'.format(i)\n",
    "    html_page = requests.get(url)\n",
    "    web_content = BeautifulSoup(html_page.content, 'html.parser')\n",
    "    movies += movie(web_content)\n",
    "    dbos += dbo(web_content)\n",
    "    "
   ]
  },
  {
   "cell_type": "code",
   "execution_count": 5,
   "metadata": {},
   "outputs": [
    {
     "data": {
      "text/html": [
       "<div>\n",
       "<style scoped>\n",
       "    .dataframe tbody tr th:only-of-type {\n",
       "        vertical-align: middle;\n",
       "    }\n",
       "\n",
       "    .dataframe tbody tr th {\n",
       "        vertical-align: top;\n",
       "    }\n",
       "\n",
       "    .dataframe thead th {\n",
       "        text-align: right;\n",
       "    }\n",
       "</style>\n",
       "<table border=\"1\" class=\"dataframe\">\n",
       "  <thead>\n",
       "    <tr style=\"text-align: right;\">\n",
       "      <th></th>\n",
       "      <th>Movie</th>\n",
       "      <th>Domestic Box Office</th>\n",
       "    </tr>\n",
       "  </thead>\n",
       "  <tbody>\n",
       "    <tr>\n",
       "      <td>0</td>\n",
       "      <td>Star Wars Ep. VII: The Force Awakens</td>\n",
       "      <td>936662225</td>\n",
       "    </tr>\n",
       "    <tr>\n",
       "      <td>1</td>\n",
       "      <td>Avengers: Endgame</td>\n",
       "      <td>858373000</td>\n",
       "    </tr>\n",
       "    <tr>\n",
       "      <td>2</td>\n",
       "      <td>Avatar</td>\n",
       "      <td>760507625</td>\n",
       "    </tr>\n",
       "    <tr>\n",
       "      <td>3</td>\n",
       "      <td>Black Panther</td>\n",
       "      <td>700059566</td>\n",
       "    </tr>\n",
       "    <tr>\n",
       "      <td>4</td>\n",
       "      <td>Avengers: Infinity War</td>\n",
       "      <td>678815482</td>\n",
       "    </tr>\n",
       "    <tr>\n",
       "      <td>...</td>\n",
       "      <td>...</td>\n",
       "      <td>...</td>\n",
       "    </tr>\n",
       "    <tr>\n",
       "      <td>995</td>\n",
       "      <td>Jack Reacher</td>\n",
       "      <td>80070736</td>\n",
       "    </tr>\n",
       "    <tr>\n",
       "      <td>996</td>\n",
       "      <td>Goosebumps</td>\n",
       "      <td>80069458</td>\n",
       "    </tr>\n",
       "    <tr>\n",
       "      <td>997</td>\n",
       "      <td>Cloverfield</td>\n",
       "      <td>80048433</td>\n",
       "    </tr>\n",
       "    <tr>\n",
       "      <td>998</td>\n",
       "      <td>Another 48 Hrs.</td>\n",
       "      <td>80047413</td>\n",
       "    </tr>\n",
       "    <tr>\n",
       "      <td>999</td>\n",
       "      <td>Dear John</td>\n",
       "      <td>80014842</td>\n",
       "    </tr>\n",
       "  </tbody>\n",
       "</table>\n",
       "<p>1000 rows × 2 columns</p>\n",
       "</div>"
      ],
      "text/plain": [
       "                                    Movie Domestic Box Office\n",
       "0    Star Wars Ep. VII: The Force Awakens           936662225\n",
       "1                       Avengers: Endgame           858373000\n",
       "2                                  Avatar           760507625\n",
       "3                           Black Panther           700059566\n",
       "4                  Avengers: Infinity War           678815482\n",
       "..                                    ...                 ...\n",
       "995                          Jack Reacher            80070736\n",
       "996                            Goosebumps            80069458\n",
       "997                           Cloverfield            80048433\n",
       "998                       Another 48 Hrs.            80047413\n",
       "999                             Dear John            80014842\n",
       "\n",
       "[1000 rows x 2 columns]"
      ]
     },
     "execution_count": 5,
     "metadata": {},
     "output_type": "execute_result"
    }
   ],
   "source": [
    "df = pd.DataFrame([movies, dbos]).transpose()\n",
    "df.columns = ['Movie', 'Domestic Box Office']\n",
    "df"
   ]
  },
  {
   "cell_type": "code",
   "execution_count": 11,
   "metadata": {},
   "outputs": [
    {
     "name": "stdout",
     "output_type": "stream",
     "text": [
      "<mysql.connector.connection_cext.CMySQLConnection object at 0x125535710>\n"
     ]
    }
   ],
   "source": [
    "cnx = mysql.connector.connect(\n",
    "    host = 'database-1.cupf7l8r9ow5.us-east-2.rds.amazonaws.com',\n",
    "    user = 'newuser',\n",
    "    passwd = 'Movie-Project!123',\n",
    "    database = 'Movies_DB'\n",
    ")\n",
    "print(cnx)\n",
    "\n",
    "cursor = cnx.cursor()"
   ]
  },
  {
   "cell_type": "code",
   "execution_count": 12,
   "metadata": {},
   "outputs": [
    {
     "name": "stdout",
     "output_type": "stream",
     "text": [
      "Creating table MBO: OK\n"
     ]
    }
   ],
   "source": [
    "DB_NAME = 'Movies_DB'\n",
    "\n",
    "TABLES = {}\n",
    "TABLES['MBO'] = (\"CREATE TABLE MBO(\"\n",
    "                       \" id INTEGER PRIMARY KEY AUTO_INCREMENT,\"\n",
    "                       \" movies TEXT,\"\n",
    "                       \" dbo varchar(30)\"\n",
    "                       \")ENGINE = InnoDB\")\n",
    "\n",
    "for table_name in TABLES:\n",
    "    table_description = TABLES[table_name]\n",
    "    try:\n",
    "        print(\"Creating table {}: \".format(table_name), end='')\n",
    "        cursor.execute(table_description) #inserts the information of the table to the database \n",
    "    except mysql.connector.Error as err:\n",
    "        if err.errno == errorcode.ER_TABLE_EXISTS_ERROR:\n",
    "            print(\"already exists.\")\n",
    "        else:\n",
    "            print(err.msg)\n",
    "    else:\n",
    "        print(\"OK\")\n",
    "\n",
    "cursor.close()\n",
    "cnx.close()"
   ]
  },
  {
   "cell_type": "code",
   "execution_count": 13,
   "metadata": {},
   "outputs": [
    {
     "name": "stdout",
     "output_type": "stream",
     "text": [
      "<mysql.connector.connection_cext.CMySQLConnection object at 0x125535d68>\n"
     ]
    }
   ],
   "source": [
    "cnx = mysql.connector.connect(\n",
    "    host = 'database-1.cupf7l8r9ow5.us-east-2.rds.amazonaws.com',\n",
    "    user = 'newuser',\n",
    "    passwd = 'Movie-Project!123',\n",
    "    database = 'Movies_DB'\n",
    ")\n",
    "print(cnx)\n",
    "\n",
    "cursor = cnx.cursor()"
   ]
  },
  {
   "cell_type": "code",
   "execution_count": 14,
   "metadata": {},
   "outputs": [],
   "source": [
    "def insert_movies(df):\n",
    "    for idx, row in df.iterrows():\n",
    "        cursor.execute(\"\"\"\n",
    "                       INSERT INTO Movies_DB.MBO(movies, dbo)\n",
    "                       VALUES (\"{}\", \"{}\")\n",
    "                       \"\"\".format(df.iloc[idx]['Movie'], df.iloc[idx]['Domestic Box Office']))\n",
    "    cnx.commit()\n",
    "insert_movies(df)"
   ]
  },
  {
   "cell_type": "code",
   "execution_count": 6,
   "metadata": {},
   "outputs": [],
   "source": [
    "# url = requests.get('https://www.the-numbers.com/box-office-records/domestic/all-movies/cumulative/all-time')\n",
    "# url.content\n",
    "# web_content = BeautifulSoup(url.content, 'html.parser')\n",
    "# movie = web_content.select('b a')\n",
    "# movie = [i.get_text() for i in movie] \n",
    "# movie = movie[:100]\n",
    "# movie = [x.replace(\"â\\x80\\x99\", \"'\") for x in movie]\n",
    "# movie"
   ]
  },
  {
   "cell_type": "code",
   "execution_count": 7,
   "metadata": {},
   "outputs": [],
   "source": [
    "# dbo = web_content.find_all('td', align='right')\n",
    "# dbo = [td.text for td in dbo]\n",
    "# dbos =[]\n",
    "# for number in list(range(0,len(dbo))):\n",
    "#     if number%3 == 0:\n",
    "#         dbos.append(dbo[number])\n",
    "# dbos = [x[1:] for x in dbos]\n",
    "# dbos = [x.replace(',', '') for x in dbos]\n",
    "# dbos = [int(x) for x in dbos]\n",
    "# dbos"
   ]
  },
  {
   "cell_type": "code",
   "execution_count": null,
   "metadata": {},
   "outputs": [],
   "source": []
  }
 ],
 "metadata": {
  "kernelspec": {
   "display_name": "Python 3",
   "language": "python",
   "name": "python3"
  },
  "language_info": {
   "codemirror_mode": {
    "name": "ipython",
    "version": 3
   },
   "file_extension": ".py",
   "mimetype": "text/x-python",
   "name": "python",
   "nbconvert_exporter": "python",
   "pygments_lexer": "ipython3",
   "version": "3.6.9"
  }
 },
 "nbformat": 4,
 "nbformat_minor": 2
}
